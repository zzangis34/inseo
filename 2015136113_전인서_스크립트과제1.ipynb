{
 "cells": [
  {
   "cell_type": "markdown",
   "metadata": {},
   "source": [
    "## 1. a=\"Hello Python\" 문자열을 Slicing과 연결 연산자 (+)를 사용하여 \"Python Hello\"로 변경하시오.•[주의] a 변수 자체에 \"Python Hello\" 문자열이 저장되어야 함\n"
   ]
  },
  {
   "cell_type": "code",
   "execution_count": 36,
   "metadata": {},
   "outputs": [],
   "source": [
    "a = \"Hello Python\""
   ]
  },
  {
   "cell_type": "code",
   "execution_count": 40,
   "metadata": {},
   "outputs": [
    {
     "data": {
      "text/plain": [
       "'Python Hello'"
      ]
     },
     "execution_count": 40,
     "metadata": {},
     "output_type": "execute_result"
    }
   ],
   "source": [
    "a[6:12] + a[5] + a[0:5]"
   ]
  },
  {
   "cell_type": "markdown",
   "metadata": {},
   "source": [
    "----------------------------------------------------------------------------------------------------------------------------------\n",
    "Slicing의 형식: [start:stop:step]  \n",
    "a[6:12] : 6번째 인덱스인 P부터 11번째 인덱스인 n까지 출력 Python출력  \n",
    "a[5] : 5번째 인덱스인 공백을 출력  \n",
    "a[0:5] : 0번째 인덱스인 H부터 4번째 인덱스인 o까지 출력 Hello출력  \n",
    "\n",
    "-----------------------------------------------------------------------------------------------------------------------------"
   ]
  },
  {
   "cell_type": "markdown",
   "metadata": {},
   "source": [
    "## 2. b=\"Hello Python World\" 문자열을 Slicing과 연결 연산자 (+)를 사용하여 \"World Python Hello\"로 변경하시오.•[주의] b 변수 자체에 \"World Python Hello\" 문자열이 저장되어야 함 \n"
   ]
  },
  {
   "cell_type": "code",
   "execution_count": 1,
   "metadata": {},
   "outputs": [],
   "source": [
    "b = \"Hello Python World\""
   ]
  },
  {
   "cell_type": "code",
   "execution_count": 4,
   "metadata": {},
   "outputs": [
    {
     "data": {
      "text/plain": [
       "'World Python Hello'"
      ]
     },
     "execution_count": 4,
     "metadata": {},
     "output_type": "execute_result"
    }
   ],
   "source": [
    "b[13:18]+b[12]+b[6:12]+b[5]+b[0:5]"
   ]
  },
  {
   "cell_type": "markdown",
   "metadata": {},
   "source": [
    "* * *\n",
    "1번과 마찬가지로 각각의 Slicing을 써서 구현 할 수 있었습니다.  \n",
    "b[13:18] : 13번째 인덱스부터 17번째까지 출력 World  \n",
    "b[12] : 12번째 인덱스인 공백 출력  \n",
    "b[6:12] : 6번째 인덱스부터 11번째 인덱스 출력 Python  \n",
    "b[5] : 5번째 인덱스인 공백 출력\n",
    "b[0:5] : 0번째 인덱스부터 4번째 인덱스 출력 Hello\n",
    "* * *"
   ]
  },
  {
   "cell_type": "markdown",
   "metadata": {},
   "source": [
    "## 3. c=\"Hello\"를 \"olleH\"로 변경하시오•[주의] c 변수 자체에 \"olleH\" 문자열이 저장되어야 함\n"
   ]
  },
  {
   "cell_type": "code",
   "execution_count": 5,
   "metadata": {},
   "outputs": [],
   "source": [
    "c = \"Hello\""
   ]
  },
  {
   "cell_type": "code",
   "execution_count": 9,
   "metadata": {},
   "outputs": [
    {
     "data": {
      "text/plain": [
       "'olleH'"
      ]
     },
     "execution_count": 9,
     "metadata": {},
     "output_type": "execute_result"
    }
   ],
   "source": [
    "c[::-1]"
   ]
  },
  {
   "cell_type": "markdown",
   "metadata": {},
   "source": [
    "***\n",
    "Slicing에서 마지막 수는 step을 가리키므로 -1을 넣어서 역순으로 출력하였습니다.\n",
    "***"
   ]
  },
  {
   "cell_type": "markdown",
   "metadata": {},
   "source": [
    "## 4. s=\"python\"에 대해 다음 문제를 풀어보시오.\n",
    "+ A.s[0], s[0][0], s[0][0][0]은 각각 어떤 값이 나오는지 확인하고 그 이유를 나름대로 설명해 보시오.\n",
    "+ B.s[-100], s[100]은 값이 나오는지 에러가 나오는지 확인하고 그 결과에 대한 이유를 나름대로 설명해 보시오.\n",
    "+ C.s[-100, 100]은 값이 나오는지 에러가 나오는지 확인하고 그 결과에 대한 이유를 나름대로 설명해 보시오.\n",
    "+ D.s[1:-1]의 결과를 확인하고 그 결과에 대한 이유를 정확하게 설명하시오.\n",
    "+ E.s[3:-3]의 결과를 확인하고 그 결과에 대한 이유를 정확하게 설명하시오.\n"
   ]
  },
  {
   "cell_type": "markdown",
   "metadata": {},
   "source": [
    "### 4 - A "
   ]
  },
  {
   "cell_type": "code",
   "execution_count": 11,
   "metadata": {},
   "outputs": [],
   "source": [
    "s=\"python\""
   ]
  },
  {
   "cell_type": "code",
   "execution_count": 14,
   "metadata": {
    "scrolled": true
   },
   "outputs": [
    {
     "name": "stdout",
     "output_type": "stream",
     "text": [
      "p\n",
      "p\n",
      "p\n"
     ]
    }
   ],
   "source": [
    "print(s[0])\n",
    "print(s[0][0])\n",
    "print(s[0][0][0])"
   ]
  },
  {
   "cell_type": "markdown",
   "metadata": {},
   "source": [
    "***\n",
    "s[0],s[0][0],s[0][0][0]은 각각 1차원, 2차원, 3차원의 배열이지만 모두 p가 나오는 것으로 보아 모두 같은 인덱스인 0번째 인덱스를 호출하는 것으로 보입니다.\n",
    "***"
   ]
  },
  {
   "cell_type": "markdown",
   "metadata": {},
   "source": [
    "### 4 - B "
   ]
  },
  {
   "cell_type": "code",
   "execution_count": 16,
   "metadata": {},
   "outputs": [
    {
     "ename": "IndexError",
     "evalue": "string index out of range",
     "output_type": "error",
     "traceback": [
      "\u001b[1;31m---------------------------------------------------------------------------\u001b[0m",
      "\u001b[1;31mIndexError\u001b[0m                                Traceback (most recent call last)",
      "\u001b[1;32m<ipython-input-16-3eaddaa60d3d>\u001b[0m in \u001b[0;36m<module>\u001b[1;34m()\u001b[0m\n\u001b[1;32m----> 1\u001b[1;33m \u001b[0ms\u001b[0m\u001b[1;33m[\u001b[0m\u001b[1;33m-\u001b[0m\u001b[1;36m100\u001b[0m\u001b[1;33m]\u001b[0m\u001b[1;33m\u001b[0m\u001b[0m\n\u001b[0m",
      "\u001b[1;31mIndexError\u001b[0m: string index out of range"
     ]
    }
   ],
   "source": [
    "s[-100]"
   ]
  },
  {
   "cell_type": "code",
   "execution_count": 17,
   "metadata": {},
   "outputs": [
    {
     "ename": "IndexError",
     "evalue": "string index out of range",
     "output_type": "error",
     "traceback": [
      "\u001b[1;31m---------------------------------------------------------------------------\u001b[0m",
      "\u001b[1;31mIndexError\u001b[0m                                Traceback (most recent call last)",
      "\u001b[1;32m<ipython-input-17-2a138df92e52>\u001b[0m in \u001b[0;36m<module>\u001b[1;34m()\u001b[0m\n\u001b[1;32m----> 1\u001b[1;33m \u001b[0ms\u001b[0m\u001b[1;33m[\u001b[0m\u001b[1;36m100\u001b[0m\u001b[1;33m]\u001b[0m\u001b[1;33m\u001b[0m\u001b[0m\n\u001b[0m",
      "\u001b[1;31mIndexError\u001b[0m: string index out of range"
     ]
    }
   ],
   "source": [
    "s[100]"
   ]
  },
  {
   "cell_type": "markdown",
   "metadata": {},
   "source": [
    "***\n",
    "string index out of range 이라고 뜨는 것으로 보아 문자열의 범위를 초과한 것으로 보인다.\n",
    "***"
   ]
  },
  {
   "cell_type": "markdown",
   "metadata": {},
   "source": [
    "### 4 - C "
   ]
  },
  {
   "cell_type": "code",
   "execution_count": 18,
   "metadata": {},
   "outputs": [
    {
     "ename": "TypeError",
     "evalue": "string indices must be integers",
     "output_type": "error",
     "traceback": [
      "\u001b[1;31m---------------------------------------------------------------------------\u001b[0m",
      "\u001b[1;31mTypeError\u001b[0m                                 Traceback (most recent call last)",
      "\u001b[1;32m<ipython-input-18-20fffd3b3844>\u001b[0m in \u001b[0;36m<module>\u001b[1;34m()\u001b[0m\n\u001b[1;32m----> 1\u001b[1;33m \u001b[0ms\u001b[0m\u001b[1;33m[\u001b[0m\u001b[1;33m-\u001b[0m\u001b[1;36m100\u001b[0m\u001b[1;33m,\u001b[0m\u001b[1;36m100\u001b[0m\u001b[1;33m]\u001b[0m\u001b[1;33m\u001b[0m\u001b[0m\n\u001b[0m",
      "\u001b[1;31mTypeError\u001b[0m: string indices must be integers"
     ]
    }
   ],
   "source": [
    "s[-100,100]"
   ]
  },
  {
   "cell_type": "markdown",
   "metadata": {},
   "source": [
    "***\n",
    "타입에러가 나는 것으로 보아 타입이 맞지않은 것이 아닌지 생각된다. 아마도 s[-100:100]을 쓰려고 했던 것 같다.\n",
    "***"
   ]
  },
  {
   "cell_type": "markdown",
   "metadata": {},
   "source": [
    "### 4 - D"
   ]
  },
  {
   "cell_type": "code",
   "execution_count": 19,
   "metadata": {},
   "outputs": [
    {
     "data": {
      "text/plain": [
       "'ytho'"
      ]
     },
     "execution_count": 19,
     "metadata": {},
     "output_type": "execute_result"
    }
   ],
   "source": [
    "s[1:-1]"
   ]
  },
  {
   "cell_type": "markdown",
   "metadata": {},
   "source": [
    "***\n",
    "[1:-1]에서 1은 1번째 문자를 출력해서 1번째 문자인 y부터 출력하고, -1까지는 문자열의 끝에서 -1까지 출력으로 보인다. 그래서 n이 출력되지 않고 o까지 출력된 것으로 보인다.\n",
    "***"
   ]
  },
  {
   "cell_type": "markdown",
   "metadata": {},
   "source": [
    "### 4 - E"
   ]
  },
  {
   "cell_type": "code",
   "execution_count": 24,
   "metadata": {},
   "outputs": [
    {
     "data": {
      "text/plain": [
       "''"
      ]
     },
     "execution_count": 24,
     "metadata": {},
     "output_type": "execute_result"
    }
   ],
   "source": [
    "s[3:-3]"
   ]
  },
  {
   "cell_type": "markdown",
   "metadata": {},
   "source": [
    "***\n",
    "3은 python 에서 h를 가리키고, -3도 h를 가리켜서 아무것도 출력되지않는다.\n",
    "***"
   ]
  },
  {
   "cell_type": "markdown",
   "metadata": {},
   "source": [
    "## 5. for문을 활용하여 1부터 100사이의 홀수를 출력하시오"
   ]
  },
  {
   "cell_type": "code",
   "execution_count": 70,
   "metadata": {
    "scrolled": true
   },
   "outputs": [
    {
     "name": "stdout",
     "output_type": "stream",
     "text": [
      "1   3   5   7   9   11   13   15   17   19   21   23   25   27   29   31   33   35   37   39   41   43   45   47   49   51   53   55   57   59   61   63   65   67   69   71   73   75   77   79   81   83   85   87   89   91   93   95   97   99   "
     ]
    }
   ],
   "source": [
    "for i in range(1,101,2):\n",
    "    print(i, end=(\"   \"))"
   ]
  },
  {
   "cell_type": "markdown",
   "metadata": {},
   "source": [
    "***\n",
    "range(1,100,2)는 각각 (start,stop,step)을 가리키므로 1부터 100까지의 범위 중 2씩 건너띄어서 출력하는 식입니다.\n",
    "***"
   ]
  },
  {
   "cell_type": "markdown",
   "metadata": {},
   "source": [
    "## 6. while문을 활용하여 1부터 100사이의 짝수의 합을 계산하여 출력하시오."
   ]
  },
  {
   "cell_type": "code",
   "execution_count": 75,
   "metadata": {},
   "outputs": [
    {
     "name": "stdout",
     "output_type": "stream",
     "text": [
      "2550\n"
     ]
    }
   ],
   "source": [
    "x=0\n",
    "num = 0\n",
    "while x < 101 :\n",
    "    num += x\n",
    "    x = x+2\n",
    "print(num) "
   ]
  },
  {
   "cell_type": "markdown",
   "metadata": {},
   "source": [
    "***\n",
    "while문은 그 조건을 만족하는 동안 반복하므로, 101보다 작으면 num에 x값을 더해주고, x는 짝수만 해당되므로 2씩 더해주어서 100까지의 짝수가 모두 더해지도록 만들었습니다.\n",
    "***"
   ]
  },
  {
   "cell_type": "markdown",
   "metadata": {},
   "source": [
    "## 7. 사용자로 부터 임의의 정수를 입력받고, 해당 숫자를 역순으로 출력하는 프로그램을 작성하시오.\n",
    "\n",
    "#### [실행 예]\n",
    "#### 정수를 입력하세요: 3125\n",
    "#### 숫자 역순은 5213 입니다.\n"
   ]
  },
  {
   "cell_type": "code",
   "execution_count": 84,
   "metadata": {},
   "outputs": [
    {
     "name": "stdout",
     "output_type": "stream",
     "text": [
      "정수를 입력하세요: 3125\n",
      "숫자 역순은 5213 입니다.\n"
     ]
    }
   ],
   "source": [
    "x = input(\"정수를 입력하세요: \")\n",
    "print(\"숫자 역순은\",x[::-1],\"입니다.\")"
   ]
  },
  {
   "cell_type": "markdown",
   "metadata": {},
   "source": [
    "***\n",
    "input을 써서 변수x에 값을 넣어주고 x[::-1]를 써서 순서를 역순으로 바꿔줍니다.\n",
    "***"
   ]
  },
  {
   "cell_type": "markdown",
   "metadata": {},
   "source": [
    "## 8. 사용자로 부터 정수를 입력받아서 1부터 그 사이에 존재하는 소수 (Prime number)를 출력하는 파이썬 프로그램을 작성하시오."
   ]
  },
  {
   "cell_type": "code",
   "execution_count": 121,
   "metadata": {},
   "outputs": [
    {
     "name": "stdout",
     "output_type": "stream",
     "text": [
      "정수를 입력하시오: 7\n",
      "2\n",
      "3\n",
      "5\n",
      "7\n"
     ]
    }
   ],
   "source": [
    "x = int(input(\"정수를 입력하시오: \"))\n",
    "for i in range(2,x+1):\n",
    "    num = 0\n",
    "    for j in range(1,i+1):\n",
    "        if(i%j == 0):\n",
    "            num = num + 1\n",
    "        if (j==i)and(num ==2):\n",
    "            print(i)\n",
    "        \n",
    "    #2 3 5 7 11 13 17 19 23 29 31 37 41 43 47 ..."
   ]
  },
  {
   "cell_type": "markdown",
   "metadata": {},
   "source": [
    "***\n",
    "입력받는 정수가 1부터이므로 소수는 1을 포함하지 않으니 범위는 2~x까지의 정수이다.(range는 x-1까지 범위를 가지므로 +1해준다)  \n",
    "그리고 소수를 구하기 위한 나눌 수 j의 범위는 1~i가 된다.  \n",
    "소수는 자기 자신과 1로만 나눌수 있는 수이므로 i나누기 j의 나머지가 0이 되면 num변수가 올라가게 해서 딱 나누어지는 수의 갯수를 확인한다.\n",
    "i와j가 같은 경우는 1부터 자기자신까지 사이의 수를 모두 나누어본 것이기 때문에 num이 2가되면 1과 자기자신밖에 딱 나누어지지 않은 수이므로 그 수는 소수가 된다.\n",
    "***"
   ]
  },
  {
   "cell_type": "markdown",
   "metadata": {},
   "source": [
    "## 9. [ACM-ICPC 문제 2441번] •별찍기-4\n"
   ]
  },
  {
   "cell_type": "code",
   "execution_count": 21,
   "metadata": {},
   "outputs": [
    {
     "name": "stdout",
     "output_type": "stream",
     "text": [
      "10\n",
      "**********\n",
      " *********\n",
      "  ********\n",
      "   *******\n",
      "    ******\n",
      "     *****\n",
      "      ****\n",
      "       ***\n",
      "        **\n",
      "         *\n"
     ]
    }
   ],
   "source": [
    "x=int(input())\n",
    "y=0\n",
    "while x>0:\n",
    "    for i in range(0,y):\n",
    "        print(' ',end=(''))\n",
    "    for i in range(0,x):\n",
    "        print('*',end=(''))\n",
    "    print('\\n',end='')\n",
    "    x -= 1\n",
    "    y += 1"
   ]
  },
  {
   "cell_type": "markdown",
   "metadata": {},
   "source": [
    "***\n",
    "input으로 입력을 받은 후에 while문을 써서 x가 0보다 클 때 별이 생기므로 x>0인 범위에서 반복한다. 오른쪽 정렬을 하기위해서 공백을 왼쪽으로 채워야되므로 y만큼 공백이 왼쪽에 먼저 생기게 출력한다. 그 후 별이 x만큼 출력되도록 출력한다. 줄변경을 위해 \\n도 출력한다.\n",
    "내려갈수록 공백은 늘고 별은 적어지도록 x는 1씩 빼고, y는 1씩 더한다.  \n",
    "![!](https://user-images.githubusercontent.com/43721201/46257256-276efb00-c4a6-11e8-87dd-bc329c6c0611.JPG)\n",
    "***"
   ]
  },
  {
   "cell_type": "markdown",
   "metadata": {},
   "source": [
    "## 10. [ACM-ICPC 문제 11721번] •열 개씩 끊어 출력하기\n"
   ]
  },
  {
   "cell_type": "code",
   "execution_count": 9,
   "metadata": {},
   "outputs": [
    {
     "name": "stdout",
     "output_type": "stream",
     "text": [
      "OneTwoThreeFourFiveSixSevenEightNineTen\n",
      "OneTwoThre\n",
      "eFourFiveS\n",
      "ixSevenEig\n",
      "htNineTen\n"
     ]
    }
   ],
   "source": [
    "x = input()\n",
    "while x != '':\n",
    "    print(x[:10],end = '\\n')\n",
    "    x = x[10:]"
   ]
  },
  {
   "cell_type": "markdown",
   "metadata": {},
   "source": [
    "***\n",
    "x가 출력할 문자를 만나지 못할 때까지 x의 0부터 9까지 인덱스의 문자를 출력하고 개행문자로 넘어간다 그후, 그다음 인덱스부터를 다시 x의 문자열로 만든다. 그리고 x가 더이상 출력할 문자를 만나지 못하면 종료한다.\n",
    "\n",
    "![](https://user-images.githubusercontent.com/43721201/46257257-29d15500-c4a6-11e8-9322-74e9ea5e2fa5.JPG)\n",
    "***"
   ]
  },
  {
   "cell_type": "markdown",
   "metadata": {},
   "source": [
    "## 11. [ACM-ICPC 문제 2839번] •설탕배달\n"
   ]
  },
  {
   "cell_type": "code",
   "execution_count": 10,
   "metadata": {},
   "outputs": [
    {
     "name": "stdout",
     "output_type": "stream",
     "text": [
      "8\n",
      "2\n"
     ]
    }
   ],
   "source": [
    "x = int(input())\n",
    "minx = 0\n",
    "sugar = 0\n",
    "for i in range(0,int(x/5)+1):\n",
    "    for j in range(0,int(x/3)+1):\n",
    "        if((i*5)+(j*3))==x:\n",
    "            sugar = i+j\n",
    "            if(minx==0):\n",
    "                minx = sugar\n",
    "            elif(minx>sugar):\n",
    "                minx = sugar\n",
    "if minx != 0:\n",
    "    print(sugar)\n",
    "else:\n",
    "    print(\"-1\")            "
   ]
  },
  {
   "cell_type": "markdown",
   "metadata": {},
   "source": [
    "***\n",
    "j를 3의 갯수 i를 5의 갯수라고 했을 때, i*5+j*3 이 설탕량이 되는 최솟값을 찾기위해 이중포문을 사용했다. 그 값을 찾으면 i와 j를 더해서 봉지의 갯수를 구한다. 만약 sugar값이 x와 같다면 다른 레퍼런스를 가리키지 않는 것이므로 -1을 출력하고 그외에 경우에는 최솟값을 찾은 것이므로 s값을 출력한다.  \n",
    "![](https://user-images.githubusercontent.com/43721201/46258033-a7e82880-c4b3-11e8-80f6-af91e4d293f2.JPG)\n",
    "***"
   ]
  },
  {
   "cell_type": "markdown",
   "metadata": {},
   "source": [
    "***\n",
    "### 소감  \n",
    "처음에는 생각보다 쉬웠는데 뒤로 갈수록 점점 어려워 지는 것을 느껴졌습니다. 앞으로 공부를 열심히 해야겠다는 생각을 하는 계기가 되었습니다.\n",
    "***"
   ]
  },
  {
   "cell_type": "markdown",
   "metadata": {},
   "source": [
    "----------------------------------------------------------------------"
   ]
  }
 ],
 "metadata": {
  "kernelspec": {
   "display_name": "Python 3",
   "language": "python",
   "name": "python3"
  },
  "language_info": {
   "codemirror_mode": {
    "name": "ipython",
    "version": 3
   },
   "file_extension": ".py",
   "mimetype": "text/x-python",
   "name": "python",
   "nbconvert_exporter": "python",
   "pygments_lexer": "ipython3",
   "version": "3.6.5"
  }
 },
 "nbformat": 4,
 "nbformat_minor": 2
}
