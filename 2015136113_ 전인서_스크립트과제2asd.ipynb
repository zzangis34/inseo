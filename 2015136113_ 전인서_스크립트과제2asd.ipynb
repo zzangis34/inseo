{
 "cells": [
  {
   "cell_type": "markdown",
   "metadata": {},
   "source": [
    "### 1) 다음 6 개의 Expression에 대해 Evaluation 결과 값을 출력하고, 해당 결과가 나온 이유에 대해 설명하시오\n",
    "\n",
    "•1 and 2 and 3 and 4  \n",
    "•1 or 2 or 3 or 4  \n",
    "•1 and 2 or 3 and 4  \n",
    "•(1 and 2) or (3 and 4)  \n",
    "•1 or 2 and 3 or 4  \n",
    "•(1 or 2) and (3 or 4)  \n"
   ]
  },
  {
   "cell_type": "code",
   "execution_count": 3,
   "metadata": {},
   "outputs": [
    {
     "data": {
      "text/plain": [
       "4"
      ]
     },
     "execution_count": 3,
     "metadata": {},
     "output_type": "execute_result"
    }
   ],
   "source": [
    "1 and 2 and 3 and 4"
   ]
  },
  {
   "cell_type": "markdown",
   "metadata": {},
   "source": [
    "---\n",
    "1 and 2 는 2을 참조  \n",
    "2 and 3 은 3을 참조  \n",
    "3 and 4 는 4을 참조  \n",
    "따라서 4를 참조한다.  \n",
    "\n",
    "---"
   ]
  },
  {
   "cell_type": "code",
   "execution_count": 9,
   "metadata": {},
   "outputs": [
    {
     "data": {
      "text/plain": [
       "1"
      ]
     },
     "execution_count": 9,
     "metadata": {},
     "output_type": "execute_result"
    }
   ],
   "source": [
    "1 or 2 or 3 or 4"
   ]
  },
  {
   "cell_type": "markdown",
   "metadata": {},
   "source": [
    "___\n",
    "1 or 2 에서 1이 참값이므로   \n",
    "따라서 1을 반환한다.\n",
    "\n",
    "---"
   ]
  },
  {
   "cell_type": "code",
   "execution_count": 11,
   "metadata": {},
   "outputs": [
    {
     "data": {
      "text/plain": [
       "2"
      ]
     },
     "execution_count": 11,
     "metadata": {},
     "output_type": "execute_result"
    }
   ],
   "source": [
    "1 and 2 or 3 and 4"
   ]
  },
  {
   "cell_type": "markdown",
   "metadata": {},
   "source": [
    "---\n",
    "1 and 2 는 2를 참조  \n",
    "2 or 3 and 4 인데 2가 참값이므로  \n",
    "따라서 2를 반환한다\n",
    "\n",
    "---"
   ]
  },
  {
   "cell_type": "code",
   "execution_count": 12,
   "metadata": {},
   "outputs": [
    {
     "data": {
      "text/plain": [
       "2"
      ]
     },
     "execution_count": 12,
     "metadata": {},
     "output_type": "execute_result"
    }
   ],
   "source": [
    "(1 and 2)or (3 and 4)"
   ]
  },
  {
   "cell_type": "markdown",
   "metadata": {},
   "source": [
    "---\n",
    "1 and 2 는 2    \n",
    "3 and 4 는 4  \n",
    "따라서 2 or 4 는 2  \n",
    "2를 반환한다.\n",
    "\n",
    "---"
   ]
  },
  {
   "cell_type": "code",
   "execution_count": 7,
   "metadata": {},
   "outputs": [
    {
     "data": {
      "text/plain": [
       "1"
      ]
     },
     "execution_count": 7,
     "metadata": {},
     "output_type": "execute_result"
    }
   ],
   "source": [
    "1 or 2 and 3 or 4"
   ]
  },
  {
   "cell_type": "markdown",
   "metadata": {},
   "source": [
    "---\n",
    "1 or 2 에서 1이 참이므로  \n",
    "1을 반환한다.\n",
    "\n",
    "---"
   ]
  },
  {
   "cell_type": "code",
   "execution_count": 8,
   "metadata": {},
   "outputs": [
    {
     "data": {
      "text/plain": [
       "3"
      ]
     },
     "execution_count": 8,
     "metadata": {},
     "output_type": "execute_result"
    }
   ],
   "source": [
    "(1 or 2) and (3 or 4)"
   ]
  },
  {
   "cell_type": "markdown",
   "metadata": {},
   "source": [
    "1 or 2 는 1을 반환  \n",
    "3 or 4 는 3을 반환  \n",
    "1 and 3은 3을 반환  \n",
    "따라서 3이 반환된다."
   ]
  },
  {
   "cell_type": "markdown",
   "metadata": {},
   "source": [
    "### 2) 경로에 해당하는 문자열 1개를 입력 받아 그 안에 디렉토리 경로명과 파일명을 분리하여 리스트로 반환하는 함수 div_path(s)를 작성하시오.\n",
    "•인자로 전달하는 문자열은 경로만 들어간다고 가정한다.  \n",
    "•각 디렉토리와 파일을 구분하는 문자는 '/'로 가정한다.  \n",
    "•반환하는 리스트의 첫번째 원소는 디렉토리이고 두번째 원소는 파일명이다.  \n",
    "•다음과 같은 실행 및 출력 결과가 도출되어야 한다.◾div_path('/usr/local/bin/python')◦['/usr/local/bin', 'python']  \n",
    "\n",
    "◾div_path('/home/chulsoo/test.txt')◦['/home/chulsoo', 'test.txt']  \n",
    "\n",
    "\n",
    "•[참고] 리스트(l) 내에 새로운 정수값 (예를 들어 10)을 넣는 방법은 l.append(10) 이다.   \n"
   ]
  },
  {
   "cell_type": "code",
   "execution_count": 50,
   "metadata": {},
   "outputs": [
    {
     "name": "stdout",
     "output_type": "stream",
     "text": [
      "['/usr/local/bin', 'python']\n",
      "['/home/chulsoo', 'test.txt']\n"
     ]
    }
   ],
   "source": [
    "def div_path(s) :\n",
    "    result = []\n",
    "    b=s.split('/')\n",
    "    del b[-1]\n",
    "    a = s.split('/')\n",
    "    result.append('/'.join(b))\n",
    "    result.append(a[-1])\n",
    "    return result\n",
    "\n",
    "print(div_path('/usr/local/bin/python'))\n",
    "print(div_path('/home/chulsoo/test.txt'))"
   ]
  },
  {
   "cell_type": "markdown",
   "metadata": {},
   "source": [
    "---\n",
    "우선 결과값을 반환할 리스트 result를 정의하고 b에 s.split('/')을 써서 / 마다 단어가 분리되어 리스트로 바꾸어지게 하였습니다. \n",
    "/나누어진 리스트에서 맨끝 단어인 b[-1], 즉 파일명을 없앴습니다. 그리고 '/'.join 함수를 써서 /로 구분된 문자열이 되게하여 result에 append합니다.  \n",
    "그 후 a에 s.split('/')을 해 리스트화해서 파일명인 a[-1] 맨끝 단어를 result에 append합니다.\n",
    "\n",
    "---"
   ]
  },
  {
   "cell_type": "markdown",
   "metadata": {},
   "source": [
    "### 3) 두 개의 리스트를 인자로 받아서 그 두 개의 리스트에 대한 '합집합'을 반환하는 함수 list_union(lista, listb)를 작성하시오.\n",
    "•인자로 전달하는 리스트 2 개에는 정수값만 들어간다고 가정하자.  \n",
    "•함수 내에서 새로운 리스트를 만들어 그 리스트 내에 인자로 받은 두 리스트의 모든 원소를 넣어 반환한다.  \n",
    "•반환하는 리스트에는 절대로 중복된 원소가 들어 있으면 안된다 (집합의 조건).  \n",
    "•반환하는 리스트는 정렬이 되어 있어야 한다.  \n",
    "•다음과 같은 실행 및 출력 결과가 도출되어야 한다.  \n",
    "◾list_union([1, 2, 3], [1, 2, 4])◦[1, 2, 3, 4]  \n",
    "\n",
    "◾list_union([-10, -5, 0, -1], [100, 9, 0, 9])◦[-10, -5, -1, 0, 9, 100]  \n",
    "\n",
    "◾list_union([0, 1, 2], [0, 1, 2])◦[0, 1, 2]  \n",
    "\n",
    "\n",
    "•[참고] 리스트(l) 내에 새로운 정수값 (예를 들어 10)을 넣는 방법은 l.append(10) 이다.  \n",
    "•[참고] 임의의 정수값 (x)이 리스트 (l) 내에 존재하는지 판단하는 방법은 x in l 이다.  \n"
   ]
  },
  {
   "cell_type": "code",
   "execution_count": 49,
   "metadata": {},
   "outputs": [
    {
     "name": "stdout",
     "output_type": "stream",
     "text": [
      "[1, 2, 3, 4]\n",
      "[-10, -5, -1, 0, 9, 100]\n",
      "[0, 1, 2]\n"
     ]
    }
   ],
   "source": [
    "def list_union(a, b):\n",
    "    result=[]\n",
    "    result.extend(a)\n",
    "    for x in range(len(b)):\n",
    "        if(b[x] not in result):\n",
    "            result.append(b[x])        \n",
    "    result.sort()\n",
    "    return result\n",
    "print(list_union([1, 2, 3], [1, 2, 4]))\n",
    "print(list_union([-10, -5, 0, -1], [100, 9, 0, 9]))\n",
    "print(list_union([0, 1, 2], [0, 1, 2]))\n",
    "        "
   ]
  },
  {
   "cell_type": "markdown",
   "metadata": {},
   "source": [
    "___\n",
    "함수 내에 새로운 리스트 result에 우선 리스트 a값을 넣어줍니다. 그후 반복문을 써서 result와 b에 중복되는 수가 있는지 확인한 후 중복되지 않으면 result에 append해 줍니다. 그후 result 를 sort 해서 정렬 시켜줍니다.\n",
    "\n",
    "___"
   ]
  },
  {
   "cell_type": "markdown",
   "metadata": {},
   "source": [
    "\n",
    "\n",
    "\n",
    "\n",
    "### 1) [ACM-ICPC 문제 10809번]\n",
    "•알파벳 찾기\n"
   ]
  },
  {
   "cell_type": "code",
   "execution_count": 18,
   "metadata": {},
   "outputs": [
    {
     "name": "stdout",
     "output_type": "stream",
     "text": [
      "baekjoon\n",
      "1 0 -1 -1 2 -1 -1 -1 -1 4 3 -1 -1 7 5 -1 -1 -1 -1 -1 -1 -1 -1 -1 -1 -1 "
     ]
    }
   ],
   "source": [
    "s = input()\n",
    "a = ['a','b','c','d','e','f','g','h','i','j','k','l','m','n','o','p','q','r','s','t','u','v','w','x','y','z']\n",
    "result = []\n",
    "for x in range(26):\n",
    "    result.append(s.find(a[x]))\n",
    "\n",
    "for x in range(26):\n",
    "    print(result[x], end = \" \")\n",
    "    "
   ]
  },
  {
   "cell_type": "markdown",
   "metadata": {},
   "source": [
    "---\n",
    "![image](https://user-images.githubusercontent.com/43721201/47222403-9bd7f280-d3f1-11e8-8880-44a79f4e2797.JPG)\n",
    "\n",
    "input으로 s에 문자열을 넣어준다.  \n",
    "리스트 a에는 비교로 쓸 알파벳을 넣어준다.  \n",
    "result는 결과값 리스트.  \n",
    "s에서 a[x]에 있는 값을 찾아서 있으면 처음 발견한 인덱스값을 result에 넣어주고 아니면 -1을 넣어준다.  \n",
    "공백문자를 포함해서 result를 출력한다.\n",
    "\n",
    "---"
   ]
  },
  {
   "cell_type": "markdown",
   "metadata": {},
   "source": [
    "### 2) [ACM-ICPC 문제 2675번]\n",
    "•문자열 반복\n"
   ]
  },
  {
   "cell_type": "code",
   "execution_count": 1,
   "metadata": {},
   "outputs": [
    {
     "name": "stdout",
     "output_type": "stream",
     "text": [
      "2\n",
      "3 ABC\n",
      "AAABBBCCC\n",
      "4 /HTL\n",
      "////HHHHTTTTLLLL\n"
     ]
    }
   ],
   "source": [
    "case = int(input())\n",
    "p =\"\"\n",
    "\n",
    "for x in range(case):\n",
    "    r,s = input().split()\n",
    "    for y in s:\n",
    "        p+=(y*int(r))\n",
    "    print(p)\n",
    "    p=\"\"\n"
   ]
  },
  {
   "cell_type": "markdown",
   "metadata": {},
   "source": [
    "---\n",
    "![image](https://user-images.githubusercontent.com/43721201/47222404-9bd7f280-d3f1-11e8-9be4-370dd2d3b40c.JPG)\n",
    "case에 반복할 횟수를 입력받는다 그리고 case만큼 반복한다.   \n",
    "r,s 에 공백으로 나누어 입력하기 위해 split을 이용했다.  \n",
    "문자열 s의 요소들을 모두 p + y * r 로 다시 p에 넣어준다.  \n",
    "p를 출력하고 p를 공백으로 출력해준다.\n",
    "\n",
    "---"
   ]
  },
  {
   "cell_type": "markdown",
   "metadata": {},
   "source": [
    "\n",
    "\n",
    "### Incremental Project 문제\n",
    "\n",
    "\n",
    "\n",
    "\n",
    "\n",
    "\n",
    "1) 웹 URL로 지정된 웹페이지를 문자열로 가져와 1) 모든 HTML 태그를 제외한 순수 텍스트 문자열만을 걸러내고, 2) 그 순수 텍스트 문자열 안에 존재하는 단어가 총 몇개인지 출력하는 프로그램을 작성하시오.  \n",
    "\n",
    "•HTML 태그는 다음 조건을 가지는 것이다.  \n",
    "◾< 로 시작하여 >로 끝난다.  \n",
    "◾예를 들어, 아래와 같은 HTML 내용 내에 한 줄이 있다고 가정하자.  \n",
    "<label for=\"keep_signed\"\\>로그인 유지</label\\>   \n",
    "◾위 소스에서 HTML 태그를 제외한 순수 텍스트 문자열은 아래와 같다.  \n",
    "로그인 유지  \n",
    "◾한편, 아래와 같은 HTML 한 줄이 있다고 가정하자.  \n",
    "<link rel=\"stylesheet\" href=\"/common/css/xe.min.css?20150910092654\" /\\>  \n",
    "◾위 한 줄은 HTML 태그로만 구성된 것이며 걸러낼 수 있는 순수 텍스 문자열은 존재하지 않는다.  \n",
    "\n",
    "\n",
    "•단어를 나누는 기준은 오로지 공백문자 (whitespace)이다.  \n",
    "◾즉, 위 순수 텍스트 문자열인 \"로그인 유지\"에서 분리한 단어는 \"로그인\"과 \"유지\"이다.  \n",
    "\n",
    "•중복을 고려하지 않고 무조건 모든 단어의 개수를 세어서 출력한다.  \n",
    "•본 숙제를 위하여 HTML 파싱과 관련된 모듈 (예. BeautifulSoup) 사용 금지  \n",
    "•다음은 URL로 지정된 웹페이지를 특정 문자열로 가져오는 코드이다.  \n",
    "◾즉, 숙제 코드는 아래 코드로 부터 시작해야 한다.  \n",
    "◾아래 코드 수행시 requests 모듈이 존재하지 않는 에러가 발생하면 command 창에서 다음 코드 입력하여 requests 모듈 설치후 아래 코드 수행 > pip install requests  \n",
    " \n",
    "\n"
   ]
  },
  {
   "cell_type": "code",
   "execution_count": 26,
   "metadata": {},
   "outputs": [],
   "source": [
    "import requests\n",
    "\n",
    "req = requests.get('http://cse.koreatech.ac.kr')\n",
    "\n",
    "source = req.text\n",
    "\n",
    "#print(source)\n"
   ]
  },
  {
   "cell_type": "code",
   "execution_count": 27,
   "metadata": {
    "scrolled": true
   },
   "outputs": [],
   "source": [
    "p=[]\n",
    "l=\"\"\n",
    "check = 0 \n",
    "cnt = 0\n",
    "for x in source:\n",
    "    if(x=='<'):\n",
    "        check = 1\n",
    "    if(x!='<' and check == 0):\n",
    "        p.append(x)\n",
    "    elif(x=='>'):\n",
    "        check = 0   \n",
    "#print(p)"
   ]
  },
  {
   "cell_type": "code",
   "execution_count": 28,
   "metadata": {},
   "outputs": [],
   "source": [
    "l=''.join(p)\n",
    "l = l.replace('\\n',' ')\n",
    "l = l.replace('\\t',' ')\n",
    "\n",
    "#print(l)"
   ]
  },
  {
   "cell_type": "code",
   "execution_count": 29,
   "metadata": {},
   "outputs": [],
   "source": [
    "p = l.split(' ')\n",
    "\n",
    "#print(p)"
   ]
  },
  {
   "cell_type": "code",
   "execution_count": 30,
   "metadata": {},
   "outputs": [
    {
     "name": "stdout",
     "output_type": "stream",
     "text": [
      "총 단어의 개수 : 498\n"
     ]
    }
   ],
   "source": [
    "for x in range(len(p)):\n",
    "    if p[x]!='':\n",
    "        cnt=cnt+1\n",
    "print(\"총 단어의 개수 : {0}\" .format(cnt))"
   ]
  },
  {
   "cell_type": "markdown",
   "metadata": {},
   "source": [
    "---\n",
    "우선 괄호검사를 위해 source의 문자를 모두 보면서 '<'면 check가 1이되고 '>'면 check가 0이되게한다.  \n",
    "그리고 x가 0이 '<'가 아니고 check가 0이면 그 값을 리스트 p에 append해준다.  \n",
    "list p를 ''.join(p)를 써서 문자열로 바꾼 후 replace를 이용해 공백문자들을 통일시켜준다.  \n",
    "그리고 문자열을 다시 split을 써서 공백대로 list로 만든다.  \n",
    "마지막으로 list p에 공백이 아닌 단어가 나올 때마다 cnt가 1씩 증가하게해서 총 단어의 개수를 구한다. \n",
    "\n",
    "---"
   ]
  },
  {
   "cell_type": "markdown",
   "metadata": {},
   "source": [
    "\n",
    "### 느낀점\n",
    "\n",
    "---\n",
    "이번 과제를 하기 전에는 이번엔 진짜 어렵겠다고 생각되었는데, 막상 해보니 그래도 아직은 할만하다는 생각이 들게되었습니다.\n",
    "파이썬이 확실히 다른 언어를 공부할 때보다는 더 재밌게 배우게 된다는 것을 느꼈습니다.\n",
    "\n",
    "---"
   ]
  }
 ],
 "metadata": {
  "kernelspec": {
   "display_name": "Python 3",
   "language": "python",
   "name": "python3"
  }
 },
 "nbformat": 4,
 "nbformat_minor": 2
}
