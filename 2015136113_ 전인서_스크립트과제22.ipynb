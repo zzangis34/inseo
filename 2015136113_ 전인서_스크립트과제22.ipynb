{
 "cells": [
  {
   "cell_type": "markdown",
   "metadata": {},
   "source": [
    "### 1) 다음 6 개의 Expression에 대해 Evaluation 결과 값을 출력하고, 해당 결과가 나온 이유에 대해 설명하시오\n",
    "\n",
    "•1 and 2 and 3 and 4  \n",
    "•1 or 2 or 3 or 4  \n",
    "•1 and 2 or 3 and 4  \n",
    "•(1 and 2) or (3 and 4)  \n",
    "•1 or 2 and 3 or 4  \n",
    "•(1 or 2) and (3 or 4)  \n"
   ]
  },
  {
   "cell_type": "code",
   "execution_count": 3,
   "metadata": {},
   "outputs": [
    {
     "data": {
      "text/plain": [
       "4"
      ]
     },
     "execution_count": 3,
     "metadata": {},
     "output_type": "execute_result"
    }
   ],
   "source": [
    "1 and 2 and 3 and 4"
   ]
  },
  {
   "cell_type": "markdown",
   "metadata": {},
   "source": [
    "---\n",
    "1 and 2 는 2을 참조  \n",
    "2 and 3 은 3을 참조  \n",
    "3 and 4 는 4을 참조  \n",
    "따라서 4를 참조한다.  \n",
    "\n",
    "---"
   ]
  },
  {
   "cell_type": "code",
   "execution_count": 9,
   "metadata": {},
   "outputs": [
    {
     "data": {
      "text/plain": [
       "1"
      ]
     },
     "execution_count": 9,
     "metadata": {},
     "output_type": "execute_result"
    }
   ],
   "source": [
    "1 or 2 or 3 or 4"
   ]
  },
  {
   "cell_type": "markdown",
   "metadata": {},
   "source": [
    "___\n",
    "1 or 2 에서 1이 참값이므로   \n",
    "따라서 1을 반환한다.\n",
    "\n",
    "---"
   ]
  },
  {
   "cell_type": "code",
   "execution_count": 11,
   "metadata": {},
   "outputs": [
    {
     "data": {
      "text/plain": [
       "2"
      ]
     },
     "execution_count": 11,
     "metadata": {},
     "output_type": "execute_result"
    }
   ],
   "source": [
    "1 and 2 or 3 and 4"
   ]
  },
  {
   "cell_type": "markdown",
   "metadata": {},
   "source": [
    "---\n",
    "1 and 2 는 2를 참조  \n",
    "2 or 3 and 4 인데 2가 참값이므로  \n",
    "따라서 2를 반환한다\n",
    "\n",
    "---"
   ]
  },
  {
   "cell_type": "code",
   "execution_count": 12,
   "metadata": {},
   "outputs": [
    {
     "data": {
      "text/plain": [
       "2"
      ]
     },
     "execution_count": 12,
     "metadata": {},
     "output_type": "execute_result"
    }
   ],
   "source": [
    "(1 and 2)or (3 and 4)"
   ]
  },
  {
   "cell_type": "markdown",
   "metadata": {},
   "source": [
    "---\n",
    "1 and 2 는 2    \n",
    "3 and 4 는 4  \n",
    "따라서 2 or 4 는 2  \n",
    "2를 반환한다.\n",
    "\n",
    "---"
   ]
  },
  {
   "cell_type": "code",
   "execution_count": 7,
   "metadata": {},
   "outputs": [
    {
     "data": {
      "text/plain": [
       "1"
      ]
     },
     "execution_count": 7,
     "metadata": {},
     "output_type": "execute_result"
    }
   ],
   "source": [
    "1 or 2 and 3 or 4"
   ]
  },
  {
   "cell_type": "markdown",
   "metadata": {},
   "source": [
    "---\n",
    "1 or 2 에서 1이 참이므로  \n",
    "1을 반환한다.\n",
    "\n",
    "---"
   ]
  },
  {
   "cell_type": "code",
   "execution_count": 8,
   "metadata": {},
   "outputs": [
    {
     "data": {
      "text/plain": [
       "3"
      ]
     },
     "execution_count": 8,
     "metadata": {},
     "output_type": "execute_result"
    }
   ],
   "source": [
    "(1 or 2) and (3 or 4)"
   ]
  },
  {
   "cell_type": "markdown",
   "metadata": {},
   "source": [
    "1 or 2 는 1을 반환  \n",
    "3 or 4 는 3을 반환  \n",
    "1 and 3은 3을 반환  \n",
    "따라서 3이 반환된다."
   ]
  },
  {
   "cell_type": "markdown",
   "metadata": {},
   "source": [
    "### 2) 경로에 해당하는 문자열 1개를 입력 받아 그 안에 디렉토리 경로명과 파일명을 분리하여 리스트로 반환하는 함수 div_path(s)를 작성하시오.\n",
    "•인자로 전달하는 문자열은 경로만 들어간다고 가정한다.  \n",
    "•각 디렉토리와 파일을 구분하는 문자는 '/'로 가정한다.  \n",
    "•반환하는 리스트의 첫번째 원소는 디렉토리이고 두번째 원소는 파일명이다.  \n",
    "•다음과 같은 실행 및 출력 결과가 도출되어야 한다.◾div_path('/usr/local/bin/python')◦['/usr/local/bin', 'python']  \n",
    "\n",
    "◾div_path('/home/chulsoo/test.txt')◦['/home/chulsoo', 'test.txt']  \n",
    "\n",
    "\n",
    "•[참고] 리스트(l) 내에 새로운 정수값 (예를 들어 10)을 넣는 방법은 l.append(10) 이다.   \n"
   ]
  },
  {
   "cell_type": "code",
   "execution_count": 50,
   "metadata": {},
   "outputs": [
    {
     "name": "stdout",
     "output_type": "stream",
     "text": [
      "['/usr/local/bin', 'python']\n",
      "['/home/chulsoo', 'test.txt']\n"
     ]
    }
   ],
   "source": [
    "def div_path(s) :\n",
    "    result = []\n",
    "    b=s.split('/')\n",
    "    del b[-1]\n",
    "    a = s.split('/')\n",
    "    result.append('/'.join(b))\n",
    "    result.append(a[-1])\n",
    "    return result\n",
    "\n",
    "print(div_path('/usr/local/bin/python'))\n",
    "print(div_path('/home/chulsoo/test.txt'))"
   ]
  },
  {
   "cell_type": "markdown",
   "metadata": {},
   "source": [
    "---\n",
    "우선 결과값을 반환할 리스트 result를 정의하고 b에 s.split('/')을 써서 / 마다 단어가 분리되어 리스트로 바꾸어지게 하였습니다. \n",
    "/나누어진 리스트에서 맨끝 단어인 b[-1], 즉 파일명을 없앴습니다. 그리고 '/'.join 함수를 써서 /로 구분된 문자열이 되게하여 result에 append합니다.  \n",
    "그 후 a에 s.split('/')을 해 리스트화해서 파일명인 a[-1] 맨끝 단어를 result에 append합니다.\n",
    "\n",
    "---"
   ]
  },
  {
   "cell_type": "markdown",
   "metadata": {},
   "source": [
    "### 3) 두 개의 리스트를 인자로 받아서 그 두 개의 리스트에 대한 '합집합'을 반환하는 함수 list_union(lista, listb)를 작성하시오.\n",
    "•인자로 전달하는 리스트 2 개에는 정수값만 들어간다고 가정하자.  \n",
    "•함수 내에서 새로운 리스트를 만들어 그 리스트 내에 인자로 받은 두 리스트의 모든 원소를 넣어 반환한다.  \n",
    "•반환하는 리스트에는 절대로 중복된 원소가 들어 있으면 안된다 (집합의 조건).  \n",
    "•반환하는 리스트는 정렬이 되어 있어야 한다.  \n",
    "•다음과 같은 실행 및 출력 결과가 도출되어야 한다.  \n",
    "◾list_union([1, 2, 3], [1, 2, 4])◦[1, 2, 3, 4]  \n",
    "\n",
    "◾list_union([-10, -5, 0, -1], [100, 9, 0, 9])◦[-10, -5, -1, 0, 9, 100]  \n",
    "\n",
    "◾list_union([0, 1, 2], [0, 1, 2])◦[0, 1, 2]  \n",
    "\n",
    "\n",
    "•[참고] 리스트(l) 내에 새로운 정수값 (예를 들어 10)을 넣는 방법은 l.append(10) 이다.  \n",
    "•[참고] 임의의 정수값 (x)이 리스트 (l) 내에 존재하는지 판단하는 방법은 x in l 이다.  \n"
   ]
  },
  {
   "cell_type": "code",
   "execution_count": 49,
   "metadata": {},
   "outputs": [
    {
     "name": "stdout",
     "output_type": "stream",
     "text": [
      "[1, 2, 3, 4]\n",
      "[-10, -5, -1, 0, 9, 100]\n",
      "[0, 1, 2]\n"
     ]
    }
   ],
   "source": [
    "def list_union(a, b):\n",
    "    result=[]\n",
    "    result.extend(a)\n",
    "    for x in range(len(b)):\n",
    "        if(b[x] not in result):\n",
    "            result.append(b[x])        \n",
    "    result.sort()\n",
    "    return result\n",
    "print(list_union([1, 2, 3], [1, 2, 4]))\n",
    "print(list_union([-10, -5, 0, -1], [100, 9, 0, 9]))\n",
    "print(list_union([0, 1, 2], [0, 1, 2]))\n",
    "        "
   ]
  },
  {
   "cell_type": "markdown",
   "metadata": {},
   "source": [
    "___\n",
    "함수 내에 새로운 리스트 result에 우선 리스트 a값을 넣어줍니다. 그후 반복문을 써서 result와 b에 중복되는 수가 있는지 확인한 후 중복되지 않으면 result에 append해 줍니다. 그후 result 를 sort 해서 정렬 시켜줍니다.\n",
    "\n",
    "___"
   ]
  },
  {
   "cell_type": "markdown",
   "metadata": {},
   "source": [
    "\n",
    "\n",
    "\n",
    "\n",
    "### 1) [ACM-ICPC 문제 10809번]\n",
    "•알파벳 찾기\n"
   ]
  },
  {
   "cell_type": "code",
   "execution_count": 18,
   "metadata": {},
   "outputs": [
    {
     "name": "stdout",
     "output_type": "stream",
     "text": [
      "baekjoon\n",
      "1 0 -1 -1 2 -1 -1 -1 -1 4 3 -1 -1 7 5 -1 -1 -1 -1 -1 -1 -1 -1 -1 -1 -1 "
     ]
    }
   ],
   "source": [
    "s = input()\n",
    "a = ['a','b','c','d','e','f','g','h','i','j','k','l','m','n','o','p','q','r','s','t','u','v','w','x','y','z']\n",
    "result = []\n",
    "for x in range(26):\n",
    "    result.append(s.find(a[x]))\n",
    "\n",
    "for x in range(26):\n",
    "    print(result[x], end = \" \")\n",
    "    "
   ]
  },
  {
   "cell_type": "markdown",
   "metadata": {},
   "source": [
    "---\n",
    "![image](https://user-images.githubusercontent.com/43721201/47222403-9bd7f280-d3f1-11e8-8880-44a79f4e2797.JPG)\n",
    "\n",
    "input으로 s에 문자열을 넣어준다.  \n",
    "리스트 a에는 비교로 쓸 알파벳을 넣어준다.  \n",
    "result는 결과값 리스트.  \n",
    "s에서 a[x]에 있는 값을 찾아서 있으면 처음 발견한 인덱스값을 result에 넣어주고 아니면 -1을 넣어준다.  \n",
    "공백문자를 포함해서 result를 출력한다.\n",
    "\n",
    "---"
   ]
  },
  {
   "cell_type": "markdown",
   "metadata": {},
   "source": [
    "### 2) [ACM-ICPC 문제 2675번]\n",
    "•문자열 반복\n"
   ]
  },
  {
   "cell_type": "code",
   "execution_count": 1,
   "metadata": {},
   "outputs": [
    {
     "name": "stdout",
     "output_type": "stream",
     "text": [
      "2\n",
      "3 ABC\n",
      "AAABBBCCC\n",
      "4 /HTL\n",
      "////HHHHTTTTLLLL\n"
     ]
    }
   ],
   "source": [
    "case = int(input())\n",
    "p =\"\"\n",
    "\n",
    "for x in range(case):\n",
    "    r,s = input().split()\n",
    "    for y in s:\n",
    "        p+=(y*int(r))\n",
    "    print(p)\n",
    "    p=\"\"\n"
   ]
  },
  {
   "cell_type": "markdown",
   "metadata": {},
   "source": [
    "---\n",
    "![image](https://user-images.githubusercontent.com/43721201/47222404-9bd7f280-d3f1-11e8-9be4-370dd2d3b40c.JPG)\n",
    "case에 반복할 횟수를 입력받는다 그리고 case만큼 반복한다.   \n",
    "r,s 에 공백으로 나누어 입력하기 위해 split을 이용했다.  \n",
    "문자열 s의 요소들을 모두 p + y * r 로 다시 p에 넣어준다.  \n",
    "p를 출력하고 p를 공백으로 출력해준다.\n",
    "\n",
    "---"
   ]
  },
  {
   "cell_type": "markdown",
   "metadata": {},
   "source": [
    "\n",
    "\n",
    "### Incremental Project 문제\n",
    "\n",
    "\n",
    "\n",
    "\n",
    "\n",
    "\n",
    "1) 웹 URL로 지정된 웹페이지를 문자열로 가져와 1) 모든 HTML 태그를 제외한 순수 텍스트 문자열만을 걸러내고, 2) 그 순수 텍스트 문자열 안에 존재하는 단어가 총 몇개인지 출력하는 프로그램을 작성하시오.  \n",
    "\n",
    "•HTML 태그는 다음 조건을 가지는 것이다.  \n",
    "◾< 로 시작하여 >로 끝난다.  \n",
    "◾예를 들어, 아래와 같은 HTML 내용 내에 한 줄이 있다고 가정하자.  \n",
    "<label for=\"keep_signed\"\\>로그인 유지</label\\>   \n",
    "◾위 소스에서 HTML 태그를 제외한 순수 텍스트 문자열은 아래와 같다.  \n",
    "로그인 유지  \n",
    "◾한편, 아래와 같은 HTML 한 줄이 있다고 가정하자.  \n",
    "<link rel=\"stylesheet\" href=\"/common/css/xe.min.css?20150910092654\" /\\>  \n",
    "◾위 한 줄은 HTML 태그로만 구성된 것이며 걸러낼 수 있는 순수 텍스 문자열은 존재하지 않는다.  \n",
    "\n",
    "\n",
    "•단어를 나누는 기준은 오로지 공백문자 (whitespace)이다.  \n",
    "◾즉, 위 순수 텍스트 문자열인 \"로그인 유지\"에서 분리한 단어는 \"로그인\"과 \"유지\"이다.  \n",
    "\n",
    "•중복을 고려하지 않고 무조건 모든 단어의 개수를 세어서 출력한다.  \n",
    "•본 숙제를 위하여 HTML 파싱과 관련된 모듈 (예. BeautifulSoup) 사용 금지  \n",
    "•다음은 URL로 지정된 웹페이지를 특정 문자열로 가져오는 코드이다.  \n",
    "◾즉, 숙제 코드는 아래 코드로 부터 시작해야 한다.  \n",
    "◾아래 코드 수행시 requests 모듈이 존재하지 않는 에러가 발생하면 command 창에서 다음 코드 입력하여 requests 모듈 설치후 아래 코드 수행 > pip install requests  \n",
    " \n",
    "\n"
   ]
  },
  {
   "cell_type": "code",
   "execution_count": 21,
   "metadata": {},
   "outputs": [
    {
     "name": "stdout",
     "output_type": "stream",
     "text": [
      "<!DOCTYPE html>\n",
      "<html lang=\"ko\">\n",
      "<head>\n",
      "<!-- META -->\n",
      "<meta charset=\"utf-8\">\n",
      "<meta name=\"Generator\" content=\"XpressEngine\">\n",
      "<meta http-equiv=\"X-UA-Compatible\" content=\"IE=edge\">\n",
      "<!-- TITLE -->\n",
      "<title>컴퓨터공학부</title>\n",
      "<!-- CSS -->\n",
      "<link rel=\"stylesheet\" href=\"/common/css/xe.min.css?20180913173442\" />\n",
      "<link rel=\"stylesheet\" href=\"/layouts/cse/style/prettyPhoto.css?20150805222706\" />\n",
      "<link rel=\"stylesheet\" href=\"/layouts/cse/style/stylemobile.css?20150805222706\" />\n",
      "<link rel=\"stylesheet\" href=\"/layouts/cse/style/mobilenavigation.css?20150805222706\" />\n",
      "<link rel=\"stylesheet\" href=\"/modules/editor/styles/ckeditor_light/style.css?20180913173434\" />\n",
      "<link rel=\"stylesheet\" href=\"/widgets/login_info/skins/cse_login_info_2015/default.login.css?20150420232234\" />\n",
      "<link rel=\"stylesheet\" href=\"/widgets/content_cse/skins/cse_latest_2015/css/widget.css?20150625005943\" />\n",
      "<link rel=\"stylesheet\" href=\"/addons/font_nanum_gothic/font-nanum_gothic.css?20150429141819\" />\n",
      "<link rel=\"stylesheet\" href=\"/files/faceOff/664/070/layout.css?20160523173814\" />\n",
      "<!-- JS -->\n",
      "<script>\n",
      "var current_url = \"https://cse.koreatech.ac.kr/\";\n",
      "var request_uri = \"https://cse.koreatech.ac.kr/\";\n",
      "var current_mid = \"home_2015\";\n",
      "var waiting_message = \"서버에 요청 중입니다. 잠시만 기다려주세요.\";\n",
      "var ssl_actions = new Array();\n",
      "var default_url = \"https://cse.koreatech.ac.kr/\";\n",
      "var http_port = 80;var https_port = 443;var enforce_ssl = true;</script>\n",
      "<!--[if lt IE 9]><script src=\"/common/js/jquery-1.x.min.js?20180913173442\"></script>\n",
      "<![endif]--><!--[if gte IE 9]><!--><script src=\"/common/js/jquery.min.js?20180913173442\"></script>\n",
      "<!--<![endif]--><script src=\"/common/js/x.min.js?20180913173442\"></script>\n",
      "<script src=\"/common/js/xe.min.js?20180913173442\"></script>\n",
      "<script src=\"/layouts/cse/script/modernizr.js?20150805222706\"></script>\n",
      "<script src=\"/widgets/login_info/skins/cse_login_info_2015/default.login.js?20150420232234\"></script>\n",
      "<script src=\"/widgets/content_cse/skins/cse_latest_2015/js/content_widget.js?20150422211442\"></script>\n",
      "<!-- RSS -->\n",
      "<link rel=\"alternate\" type=\"application/rss+xml\" title=\"Site RSS\" href=\"https://cse.koreatech.ac.kr/rss\" /><link rel=\"alternate\" type=\"application/atom+xml\" title=\"Site Atom\" href=\"https://cse.koreatech.ac.kr/atom\" /><!-- ICON -->\n",
      "<link rel=\"shortcut icon\" href=\"https://cse.koreatech.ac.kr/files/attach/xeicon/favicon.ico\" />\n",
      "\n",
      "<link rel=\"canonical\" href=\"https://cse.koreatech.ac.kr/\" />\n",
      "<meta property=\"og:locale\" content=\"ko_KR\" />\n",
      "<meta property=\"og:type\" content=\"website\" />\n",
      "<meta property=\"og:url\" content=\"https://cse.koreatech.ac.kr/\" />\n",
      "<meta property=\"og:title\" content=\"컴퓨터공학부\" />\n",
      "<link href='https://fonts.googleapis.com/css?family=Raleway:400,700,300,900' rel='stylesheet' type='text/css' />\n",
      "<link href='https://fonts.googleapis.com/css?family=Nunito:400,300,700' rel='stylesheet' type='text/css' />\n",
      "<link rel=\"stylesheet\" href=\"//fonts.googleapis.com/earlyaccess/nanumgothic.css\" />\n",
      "<meta charset=\"utf-8\" />\n",
      "<meta name=\"viewport\" content=\"width=device-width, initial-scale=1.0\" />\n",
      "<meta name=\"description\" content=\"Website Description\" />\n",
      "<meta name=\"keywords\" content=\"Website Keywords\" /><script>\n",
      "//<![CDATA[\n",
      "xe.current_lang = \"ko\";\n",
      "xe.cmd_find = \"찾기\";\n",
      "xe.cmd_cancel = \"취소\";\n",
      "xe.cmd_confirm = \"확인\";\n",
      "xe.msg_no_root = \"루트는 선택 할 수 없습니다.\";\n",
      "xe.msg_no_shortcut = \"바로가기는 선택 할 수 없습니다.\";\n",
      "xe.msg_select_menu = \"대상 메뉴 선택\";\n",
      "//]]>\n",
      "</script>\n",
      "</head>\n",
      "<body>\n",
      "<!DOCTYPE html>\n",
      "<html lang=\"ko\">\n",
      "<head>\n",
      "\t\n",
      "\t<title>Schoolfun - Study and Fun</title>\n",
      "\t\n",
      "\t\n",
      "\t\n",
      "\t\t\n",
      "\t\n",
      "\t\n",
      "\t\t<!--  -->\n",
      "\t\t\t\n",
      "</head>\n",
      "<body class=\"\">\n",
      "<header id=\"main-header\" class=\"clearfix\">\n",
      "\t<div id=\"header-full\" class=\"clearfix\">\n",
      "\t\t<div id=\"header\" class=\"clearfix\">\n",
      "\t\t\t<a href=\"#nav\" class=\"open-menu\">\n",
      "\t\t\t\t<span class=\"icon-bar\"></span>\n",
      "\t\t\t\t<span class=\"icon-bar\"></span>\n",
      "\t\t\t\t<span class=\"icon-bar\"></span>\n",
      "\t\t\t</a>\n",
      "\t\t\t<a href=\"https://cse.koreatech.ac.kr/\" id=\"logo\"><img src=\"/layouts/cse/images/cse_logo.png\" data-retina=\"images/cse_logo.png\" alt=\"School Fun - WordPress Theme\" /></a>\n",
      "\t\t\t<aside id=\"header-content\">\n",
      "\t\t\t\t<!--\n",
      "\t\t\t\t<form method=\"post\" action=\"#\" id=\"searchform\"><input type=\"hidden\" name=\"error_return_url\" value=\"/\" /><input type=\"hidden\" name=\"act\" value=\"\" /><input type=\"hidden\" name=\"mid\" value=\"home_2015\" /><input type=\"hidden\" name=\"vid\" value=\"\" />\n",
      "\t\t\t\t\t<div>\t\t\t\t\t</div>\n",
      "\t\t\t\t</form>\n",
      "\t\t\t\t-->\n",
      "\t\t\t\t<ul id=\"nav-header\" style=\"\">\t\t\t\t\t\n",
      "\t\t\t\t\t<li><div class=\"xe-widget-wrapper \" style=\"\"><div style=\"*zoom:1;padding:0px 0px 0px 0px !important;\"><form id=\"fo_login_widget\" action=\"https://cse.koreatech.ac.kr/index.php?act=procMemberLogin\" method=\"post\"  class=\"account\"><input type=\"hidden\" name=\"error_return_url\" value=\"/\" /><input type=\"hidden\" name=\"mid\" value=\"home_2015\" /><input type=\"hidden\" name=\"vid\" value=\"\" /><input type=\"hidden\" name=\"ruleset\" value=\"@login\" />\n",
      "\t<a href=\"#acField\">로그인</a>\n",
      "\t<fieldset id=\"acField\">\n",
      "\t\t<h2>로그인</h2>\n",
      "\t\t<input type=\"hidden\" name=\"act\" value=\"procMemberLogin\" />\n",
      "\t\t<input type=\"hidden\" name=\"success_return_url\" value=\"/\" />\n",
      "\t\t<input type=\"hidden\" name=\"xe_validator_id\" value=\"widgets/login_info/skins/default/login_form/1\" />\n",
      "\t\t\t\t<div class=\"idpw\">\n",
      "\t\t\t<label for=\"user_id\">아이디</label>\t\t\t<input name=\"user_id\" id=\"user_id\" type=\"text\" required />\t\t\t\t\t\t\t\t\t<label for=\"user_pw\">비밀번호</label>\n",
      "\t\t\t<input name=\"password\" id=\"user_pw\" type=\"password\" required />\n",
      "\t\t\t<p class=\"keep\">\n",
      "\t\t\t\t<input type=\"checkbox\" name=\"keep_signed\" id=\"keep_signed\" value=\"Y\" />\n",
      "\t\t\t\t<label for=\"keep_signed\">로그인 유지</label>\n",
      "\t\t\t</p>\n",
      "\t\t\t<p class=\"warning\">브라우저를 닫더라도 로그인이 계속 유지될 수 있습니다. 로그인 유지 기능을 사용할 경우 다음 접속부터는 로그인할 필요가 없습니다. 단, 게임방, 학교 등 공공장소에서 이용 시 개인정보가 유출될 수 있으니 꼭 로그아웃을 해주세요.</p>\n",
      "\t\t</div>\n",
      "\t\t<input type=\"submit\" value=\"로그인\" />\n",
      "\t\t<ul class=\"help\">\n",
      "\t\t\t<li><a href=\"https://cse.koreatech.ac.kr/index.php?mid=home_2015&amp;act=dispMemberSignUpForm\">회원가입</a></li>\n",
      "\t\t\t<li><a href=\"https://cse.koreatech.ac.kr/index.php?mid=home_2015&amp;act=dispMemberFindAccount\">ID/PW 찾기</a></li>\n",
      "\t\t</ul>\n",
      "\t</fieldset>\n",
      "</form>\n",
      "</div></div></li>\n",
      "\t\t\t\t</ul>\n",
      "\t\t\t\t<h3 id=\"slogan\" style=\"font-family:'Nanum Gothic', serif\">IT 교육의 글로벌 메카!<br/>한국기술교육대학교 컴퓨터공학부</h3>\n",
      "\t\t\t</aside>\n",
      "\t\t</div>\n",
      "\t</div>\n",
      "\t<nav id=\"nav\" class=\"clearfix\">\n",
      "\t\t<a href=\"#\" class=\"close-menu-big\">Close</a>\n",
      "\t\t<div id=\"nav-container\">\n",
      "\t\t\t<a href=\"#\" class=\"close-menu\">\n",
      "\t\t\t\t<span class=\"icon-bar\"></span>\n",
      "\t\t\t\t<span class=\"icon-bar\"></span>\n",
      "\t\t\t\t<span class=\"icon-bar\"></span>\n",
      "\t\t\t</a>\n",
      "\t\t\t<ul id=\"nav-main\">\n",
      "\t\t\t\t\t\t\t\t<li>\n",
      "\t\t\t\t\t\t\t\t\t\t<a href=\"https://cse.koreatech.ac.kr/intro_home_2015\" >소개</a>\n",
      "\t\t\t\t\t\t\t\t\t\t\n",
      "\t\t\t\t</li>\n",
      "\t\t\t\t\t\t\t\t\t\t\t\t\t<li>\n",
      "\t\t\t\t\t\t\t\t\t\t<a href=\"https://cse.koreatech.ac.kr/page_KbyV58\" >구성원소개</a>\n",
      "\t\t\t\t\t\t\t\t\t\t\n",
      "\t\t\t\t</li>\n",
      "\t\t\t\t\t\t\t\t\t\t\t\t\t<li>\n",
      "\t\t\t\t\t\t\t\t\t\t<a href=\"https://cse.koreatech.ac.kr/page_izgw21\" >학사안내</a>\n",
      "\t\t\t\t\t\t\t\t\t\t\n",
      "\t\t\t\t</li>\n",
      "\t\t\t\t\t\t\t\t\t\t\t\t\t<li>\n",
      "\t\t\t\t\t\t\t\t\t\t<a href=\"#\">입학</a>\n",
      "\t\t\t\t\t<ul>\n",
      "                        <li><a href=\"http://www.koreatech.ac.kr/admission.do\" target=\"_blank\">학부</a></li>\n",
      "                        <li><a href=\"http://www.koreatech.ac.kr/grd/sub02_01_01_01.do\" target=\"_blank\">대학원</a></li>\n",
      "                    </ul>\n",
      "\t\t\t\t\t\t\t\t\t\t\n",
      "\t\t\t\t</li>\n",
      "\t\t\t\t\t\t\t\t\t\t\t\t\t<li>\n",
      "\t\t\t\t\t\t\t\t\t\t<a href=\"https://cse.koreatech.ac.kr/notice\" >학부광장</a>\n",
      "\t\t\t\t\t\t\t\t\t\t\n",
      "\t\t\t\t</li>\n",
      "\t\t\t\t\t\t\t\t\t\t\t\t\t<li>\n",
      "\t\t\t\t\t\t\t\t\t\t<a href=\"https://cse.koreatech.ac.kr/pds\" >자료실</a>\n",
      "\t\t\t\t\t\t\t\t\t\t\n",
      "\t\t\t\t</li>\n",
      "\t\t\t\t\t\t\t\t\t\t\t\t\t<li>\n",
      "\t\t\t\t\t\t\t\t\t\t<a href=\"https://cse.koreatech.ac.kr/page_birW64\" >대학원</a>\n",
      "\t\t\t\t\t\t\t\t\t\t\n",
      "\t\t\t\t</li>\n",
      "\t\t\t\t\t\t\t\t\t\t\t\t\t<li>\n",
      "\t\t\t\t\t\t\t\t\t\t<a href=\"https://cse.koreatech.ac.kr/page_vBGH80\" >공학교육인증</a>\n",
      "\t\t\t\t\t\t\t\t\t\t\n",
      "\t\t\t\t</li>\n",
      "\t\t\t\t\t\t\t\t\t\t\t\t\t<li>\n",
      "\t\t\t\t\t\t\t\t\t\t<a href=\"https://cse.koreatech.ac.kr/graduate\" >학부서비스</a>\n",
      "\t\t\t\t\t\t\t\t\t\t\n",
      "\t\t\t\t</li>\n",
      "\t\t\t\t\t\t\t\t\t\t\t\t\t\n",
      "\t\t\t</ul>\n",
      "                        \t\t\t<a href=\"https://cse.koreatech.ac.kr/index.php?mid=home_2015&amp;act=dispMemberSignUpForm\" id=\"button-registration\">Registration</a>\n",
      "                        \t\t</div>\n",
      "\t</nav>\n",
      "</header>      \n",
      "\t        \t        \n",
      "<!-- main image tab start -->\n",
      "<div id=\"slideshow-tabs\" class=\"ui-tabs ui-widget ui-widget-content ui-corner-all\">\n",
      "    <div id=\"panel-tabs\" class=\"clearfix\">\n",
      "        <ul class=\"nav-tabs-slideshow ui-tabs-nav ui-helper-reset ui-helper-clearfix ui-widget-header ui-corner-all\" role=\"tablist\">\n",
      "            <li class=\"ui-state-default ui-corner-top ui-tabs-active ui-state-active\" role=\"tab\" tabindex=\"0\" aria-controls=\"panel-1\" aria-labelledby=\"ui-id-1\" aria-selected=\"true\"><a href=\"#panel-1\" class=\"ui-tabs-anchor\" role=\"presentation\" tabindex=\"-1\" id=\"ui-id-1\"><strong>컴퓨터공학부</strong><br>\n",
      "                <span>School of Computer Science and Engineering</span>\n",
      "                </a>\n",
      "            </li>\n",
      "            <li class=\"ui-state-default ui-corner-top\" role=\"tab\" tabindex=\"-1\" aria-controls=\"panel-2\" aria-labelledby=\"ui-id-2\" aria-selected=\"false\">\n",
      "                <a href=\"#panel-2\" class=\"ui-tabs-anchor\" role=\"presentation\" tabindex=\"-1\" id=\"ui-id-2\"><strong>IT 융합소프트웨어 인력양성사업</strong><br>\n",
      "                <span>CK (Creative Korea)-I</span>\n",
      "                </a>\n",
      "            </li>\n",
      "            <li class=\"ui-state-default ui-corner-top\" role=\"tab\" tabindex=\"-1\" aria-controls=\"panel-3\" aria-labelledby=\"ui-id-3\" aria-selected=\"false\">\n",
      "                <a href=\"#panel-3\" class=\"ui-tabs-anchor\" role=\"presentation\" tabindex=\"-1\" id=\"ui-id-3\"><strong>교육역량강화사업 온라인 컨텐츠</strong><br>\n",
      "                <span>Online Contents for Education Capability Empowerment</span>\n",
      "                </a>\n",
      "            </li>\n",
      "        </ul>\n",
      "    </div>\n",
      "\t<div class=\"ui-tabs-panel ui-widget-content ui-corner-bottom\" id=\"panel-1\" style=\"background-image: url(layouts/cse/images/kut1.png); display: block; background-position: 50% 0px; background-repeat: no-repeat no-repeat;\" aria-labelledby=\"ui-id-1\" role=\"tabpanel\" aria-expanded=\"true\" aria-hidden=\"false\">\n",
      "        <div class=\"tabs-blur no-blur\" style=\"background:url(http://placehold.it/2000x620) no-repeat 50% 0\">\n",
      "        </div>\n",
      "        <div class=\"tabs-container\">\n",
      "            <article>\n",
      "                <h2>IT 교육의 글로벌 메카</h2>\n",
      "                <p>한국기술교육대학교 컴퓨터공학부 홈페이지에 오신 것을<br/>환영합니다!</p>\n",
      "            </article>\n",
      "        </div>\n",
      "    </div>\n",
      "    <div class=\"ui-tabs-panel ui-widget-content ui-corner-bottom\" id=\"panel-2\" style=\"background-image: url(layouts/cse/images/kut2.png); display: none; background-position: 50% 0px; background-repeat: no-repeat no-repeat;\" aria-labelledby=\"ui-id-2\" role=\"tabpanel\" aria-expanded=\"false\" aria-hidden=\"true\">\n",
      "        <div class=\"tabs-blur no-blur\" style=\"background:url(http://placehold.it/2000x620) no-repeat 50% 0\">\n",
      "        </div>\n",
      "\t<div class=\"tabs-container\">\n",
      "            <article>\n",
      "                <h2>IT 융합소프트웨어 인력양성사업</h2>\n",
      "                <p>글로벌 수준의 IT전문인력 양성<br/>\n",
      "IT융합분야에 대한 국제적인 경쟁력 고취</p>\n",
      "                <a href=\"http://itcsw.koreatech.ac.kr\" target=\"_blank\" class=\"button-more-slide\">바로가기</a>\n",
      "            </article>\n",
      "        </div>\n",
      "    </div>\n",
      "    <div class=\"ui-tabs-panel ui-widget-content ui-corner-bottom\" id=\"panel-3\" style=\"background-image: url(layouts/cse/images/kut3.png); display: none; background-position: 50% 0px; background-repeat: no-repeat no-repeat;\" aria-labelledby=\"ui-id-3\" role=\"tabpanel\" aria-expanded=\"false\" aria-hidden=\"true\">\n",
      "        <div class=\"tabs-blur no-blur\" style=\"background:url(http://placehold.it/2000x620) no-repeat 50% 0\">\n",
      "        </div>\n",
      "\t<div class=\"tabs-container\">\n",
      "            <article>\n",
      "                <h2>교육역량강화사업 컨텐츠</h2>\n",
      "                <p>교육역량강화사업 온라인 컨텐츠를 소개합니다.</p>\n",
      "                <a href=\"http://220.68.64.187\" target=\"_blank\" class=\"button-more-slide\">바로가기</a>\n",
      "            </article>\n",
      "        </div>\n",
      "    </div>\n",
      "</div>\n",
      "<!-- main image tab end -->\n",
      "<div>\n",
      "    <div id=\"content\" class=\"clearfix\">\t\t\n",
      "    <div class=\"xe-widget-wrapper \" style=\"background-position: 0% 0%; margin: 0px; border: 0px solid rgb(0, 0, 0); border-image: none; width: 375px; float: left; background-image: none; background-repeat: repeat repeat;\"><div style=\"*zoom:1;padding:0px 0px 0px 0px !important;\"><div class=\"sidebar-homepage\">\n",
      "<aside class=\"widget-container\">\n",
      "\t<div class=\"widget-wrapper clearfix\">\n",
      "                <h3 class=\"widget-title\"><a href=\"https://cse.koreatech.ac.kr/notice\">공지사항</a></h3>\n",
      "    <ul class=\"widgetA menu news-sidebar\">\n",
      "                    <li class=\"clearfix\" >\n",
      "                                                                                        <h4><a href=\"https://cse.koreatech.ac.kr/85926\" class=\"title\"><span style=\"font-weight:bold\">[졸업작품] 2018 졸업작품 산업체 평가회 결과에 따른 ...</span></a></h4>\n",
      "                                                                                                                            <span class=\"date-news\">2018-10-19 14:09 14:09</span>\n",
      "                                    </li>\n",
      "                <li class=\"clearfix\" >\n",
      "                                                                                        <h4><a href=\"https://cse.koreatech.ac.kr/85762\" class=\"title\">[특성화] 5차년도 IT융합 개도국 기술지원 봉사(해외) ...</a></h4>\n",
      "                                                                                                                            <span class=\"date-news\">2018-10-17 13:57 13:57</span>\n",
      "                                    </li>\n",
      "                <li class=\"clearfix\" >\n",
      "                                                                                        <h4><a href=\"https://cse.koreatech.ac.kr/85744\" class=\"title\"><span style=\"font-weight:bold\">[특성화] 2018 졸업작품 산업체 평가회 결과 공지(졸작...</span></a></h4>\n",
      "                                                                                                                            <span class=\"date-news\">2018-10-16 15:52 15:52</span>\n",
      "                                    </li>\n",
      "                <li class=\"clearfix\" >\n",
      "                                                                                        <h4><a href=\"https://cse.koreatech.ac.kr/85739\" class=\"title\">[특성화] 5차년도 지식재산권(특허) 출원 지원 접수 알림</a></h4>\n",
      "                                                                                                                            <span class=\"date-news\">2018-10-16 09:32 09:32</span>\n",
      "                                    </li>\n",
      "                <li class=\"clearfix\" >\n",
      "                                                                                        <h4><a href=\"https://cse.koreatech.ac.kr/85545\" class=\"title\"><span style=\"font-weight:bold\">[특성화] G-STAR 2018 전시회 선발 학생 공고</span></a></h4>\n",
      "                                                                                                                            <span class=\"date-news\">2018-10-08 17:14 17:14</span>\n",
      "                                    </li>\n",
      "            </ul>\n",
      "            </div>\n",
      "</aside>\n",
      "</div>\n",
      "</div></div><div class=\"xe-widget-wrapper \" style=\"background-position: 0% 0%; margin: 0px; border: 0px solid rgb(0, 0, 0); border-image: none; width: 375px; float: left; background-image: none; background-repeat: repeat repeat;\"><div style=\"*zoom:1;padding:0px 0px 0px 0px !important;\"><div class=\"sidebar-homepage\">\n",
      "<aside class=\"widget-container\">\n",
      "\t<div class=\"widget-wrapper clearfix\">\n",
      "                <h3 class=\"widget-title\"><a href=\"https://cse.koreatech.ac.kr/freeboard\">자유게시판</a></h3>\n",
      "    <ul class=\"widgetA menu news-sidebar\">\n",
      "                    <li class=\"clearfix\" >\n",
      "                                                                                        <h4><a href=\"https://cse.koreatech.ac.kr/85946\" class=\"title\">★문화의날 행사 공지★</a></h4>\n",
      "                                                                                                                            <span class=\"date-news\">2018-10-19 20:31 20:31</span>\n",
      "                                    </li>\n",
      "                <li class=\"clearfix\" >\n",
      "                                                                                        <h4><a href=\"https://cse.koreatech.ac.kr/85506\" class=\"title\">졸업작품전시회 기간 헤어/메이크업</a></h4>\n",
      "                                                                                                                            <span class=\"date-news\">2018-10-07 14:48 14:48</span>\n",
      "                                    </li>\n",
      "                <li class=\"clearfix\" >\n",
      "                                                                                        <h4><a href=\"https://cse.koreatech.ac.kr/85286\" class=\"title\">※모의토익비 지원 공지※</a></h4>\n",
      "                                                                                                                            <span class=\"date-news\">2018-09-28 09:37 09:37</span>\n",
      "                                    </li>\n",
      "                <li class=\"clearfix\" >\n",
      "                                                                                        <h4><a href=\"https://cse.koreatech.ac.kr/84798\" class=\"title\">ACM-ICPC 예선 신청기간이 얼마 안 남았습니다!</a></h4>\n",
      "                                                                                                                            <span class=\"date-news\">2018-09-13 11:36 11:36</span>\n",
      "                                    </li>\n",
      "                <li class=\"clearfix\" >\n",
      "                                                                                        <h4><a href=\"https://cse.koreatech.ac.kr/84626\" class=\"title\">문화행사 취소 공지</a></h4>\n",
      "                                                                                                                            <span class=\"date-news\">2018-09-10 19:17 19:17</span>\n",
      "                                    </li>\n",
      "            </ul>\n",
      "            </div>\n",
      "</aside>\n",
      "</div>\n",
      "</div></div><div class=\"xe-widget-wrapper \" style=\"background-position: 0% 0%; margin: 0px; border: 0px solid rgb(0, 0, 0); border-image: none; width: 375px; float: left; background-image: none; background-repeat: repeat repeat;\"><div style=\"*zoom:1;padding:0px 0px 0px 0px !important;\"><div class=\"sidebar-homepage\">\n",
      "<aside class=\"widget-container\">\n",
      "\t<div class=\"widget-wrapper clearfix\">\n",
      "                <h3 class=\"widget-title\"><a href=\"https://cse.koreatech.ac.kr/jobboard\">취업게시판</a></h3>\n",
      "    <ul class=\"widgetA menu news-sidebar\">\n",
      "                    <li class=\"clearfix\" >\n",
      "                                                                                        <h4><a href=\"https://cse.koreatech.ac.kr/85442\" class=\"title\">[국가보안기술연구소] 정규직 채용</a></h4>\n",
      "                                                                                                                            <span class=\"date-news\">2018-10-04 14:18 14:18</span>\n",
      "                                    </li>\n",
      "                <li class=\"clearfix\" >\n",
      "                                                                                        <h4><a href=\"https://cse.koreatech.ac.kr/85240\" class=\"title\">한글과컴퓨터그룹 2018년 하반기 신입/경력 공채 ~10.10</a></h4>\n",
      "                                                                                                                            <span class=\"date-news\">2018-09-27 13:13 13:13</span>\n",
      "                                    </li>\n",
      "                <li class=\"clearfix\" >\n",
      "                                                                                        <h4><a href=\"https://cse.koreatech.ac.kr/84892\" class=\"title\">[구인]천안 충무병원 전산실</a></h4>\n",
      "                                                                                                                            <span class=\"date-news\">2018-09-18 15:25 15:25</span>\n",
      "                                    </li>\n",
      "                <li class=\"clearfix\" >\n",
      "                                                                                        <h4><a href=\"https://cse.koreatech.ac.kr/84564\" class=\"title\"><span style=\"font-weight:bold\">[정부교육] K-Shield 주니어 교육생 모집(정보보호) ~9.5</span></a></h4>\n",
      "                                                                                                                            <span class=\"date-news\">2018-09-03 07:53 07:53</span>\n",
      "                                    </li>\n",
      "                <li class=\"clearfix\" >\n",
      "                                                                                        <h4><a href=\"https://cse.koreatech.ac.kr/84539\" class=\"title\">인천] 에이스테크놀로지 연구개발인력 모집 ~ 2018.9.9...</a></h4>\n",
      "                                                                                                                            <span class=\"date-news\">2018-08-29 09:06 09:06</span>\n",
      "                                    </li>\n",
      "            </ul>\n",
      "            </div>\n",
      "</aside>\n",
      "</div>\n",
      "</div></div><div class=\"xe-widget-wrapper \" style=\"background-position: 0% 0%; margin: 0px; border: 0px solid rgb(0, 0, 0); border-image: none; width: 375px; float: left; background-image: none; background-repeat: repeat repeat;\"><div style=\"*zoom:1;padding:0px 0px 0px 0px !important;\"><div class=\"sidebar-homepage\">\n",
      "<aside class=\"widget-container\">\n",
      "\t<div class=\"widget-wrapper clearfix\">\n",
      "                <h3 class=\"widget-title\"><a href=\"http://platum.kr\">Platum</a></h3>\n",
      "    <ul class=\"widgetA menu news-sidebar\">\n",
      "                    <li class=\"clearfix\" >\n",
      "                                                                                        <h4><a href=\"https://platum.kr/archives/108673\" class=\"title\">네이버, 포춘이 선정한 ‘미래유망기업’ 6위에 선정</a></h4>\n",
      "                                                                                    <span class=\"icon\"></span>\n",
      "                                                                                    <span class=\"date-news\">2018-10-19 14:30 14:30</span>\n",
      "                                                                </li>\n",
      "                <li class=\"clearfix\" >\n",
      "                                                                                        <h4><a href=\"https://platum.kr/archives/108625\" class=\"title\">10월 넷째 주 스타트업 이벤트(1022~1028)</a></h4>\n",
      "                                                                                    <span class=\"icon\"></span>\n",
      "                                                                                    <span class=\"date-news\">2018-10-19 10:59 10:59</span>\n",
      "                                                                </li>\n",
      "                <li class=\"clearfix\" >\n",
      "                                                                                        <h4><a href=\"https://platum.kr/archives/108619\" class=\"title\">[10월 19일 스타트업 비즈니스 동향]두브레인,위드이노...</a></h4>\n",
      "                                                                                    <span class=\"icon\"></span>\n",
      "                                                                                    <span class=\"date-news\">2018-10-19 10:06 10:06</span>\n",
      "                                                                </li>\n",
      "                <li class=\"clearfix\" >\n",
      "                                                                                        <h4><a href=\"https://platum.kr/archives/108637\" class=\"title\">호텔 연회장 예약 플랫폼 ‘루북’, 10월 22일 베타 서비...</a></h4>\n",
      "                                                                                    <span class=\"icon\"></span>\n",
      "                                                                                    <span class=\"date-news\">2018-10-19 09:57 09:57</span>\n",
      "                                                                </li>\n",
      "                <li class=\"clearfix\" >\n",
      "                                                                                        <h4><a href=\"https://platum.kr/archives/108631\" class=\"title\">징둥닷컴, 스마트 도시 물류 시스템 구축 위한 연구소 ...</a></h4>\n",
      "                                                                                    <span class=\"icon\"></span>\n",
      "                                                                                    <span class=\"date-news\">2018-10-19 09:48 09:48</span>\n",
      "                                                                </li>\n",
      "            </ul>\n",
      "            </div>\n",
      "</aside>\n",
      "</div>\n",
      "</div></div><div class=\"xe-widget-wrapper \" style=\"background-position: 0% 0%; margin: 0px; border: 0px solid rgb(0, 0, 0); border-image: none; width: 375px; float: left; background-image: none; background-repeat: repeat repeat;\"><div style=\"*zoom:1;padding:0px 0px 0px 0px !important;\"><div class=\"sidebar-homepage\">\n",
      "<aside class=\"widget-container\">\n",
      "\t<div class=\"widget-wrapper clearfix\">\n",
      "                <h3 class=\"widget-title\"><a href=\"http://www.etnews.com/\">전자신문</a></h3>\n",
      "    <ul class=\"widgetA menu news-sidebar\">\n",
      "                    <li class=\"clearfix\" >\n",
      "                                                                                        <h4><a href=\"http://www.etnews.com/20181019000309\" class=\"title\">최태원 회장 “사회적가치 추구로 BM 혁신 실행력 ...</a></h4>\n",
      "                                                                                    <span class=\"icon\"></span>\n",
      "                                                                                    <span class=\"date-news\">2018-10-19 18:00 18:00</span>\n",
      "                                    </li>\n",
      "                <li class=\"clearfix\" >\n",
      "                                                                                        <h4><a href=\"http://www.etnews.com/20181019000301\" class=\"title\">SK텔레콤, 'SKT TEB 콘퍼런스' 개최...ICT 기술·...</a></h4>\n",
      "                                                                                    <span class=\"icon\"></span>\n",
      "                                                                                    <span class=\"date-news\">2018-10-19 16:19 16:19</span>\n",
      "                                    </li>\n",
      "                <li class=\"clearfix\" >\n",
      "                                                                                        <h4><a href=\"http://www.etnews.com/20181019000296\" class=\"title\">[인사]과학기술정보통신부</a></h4>\n",
      "                                                                                    <span class=\"icon\"></span>\n",
      "                                                                                    <span class=\"date-news\">2018-10-19 16:13 16:13</span>\n",
      "                                    </li>\n",
      "                <li class=\"clearfix\" >\n",
      "                                                                                        <h4><a href=\"http://www.etnews.com/20181019000273\" class=\"title\">미피, 5G 기기·부품 호환성 확보하는 산업용 인터...</a></h4>\n",
      "                                                                                    <span class=\"icon\"></span>\n",
      "                                                                                    <span class=\"date-news\">2018-10-19 15:49 15:49</span>\n",
      "                                    </li>\n",
      "                <li class=\"clearfix\" >\n",
      "                                                                                        <h4><a href=\"http://www.etnews.com/20181019000197\" class=\"title\">KT, 기지국 유지보수 협력사 계열사 편입···kt MO...</a></h4>\n",
      "                                                                                    <span class=\"icon\"></span>\n",
      "                                                                                    <span class=\"date-news\">2018-10-19 14:32 14:32</span>\n",
      "                                    </li>\n",
      "            </ul>\n",
      "            </div>\n",
      "</aside>\n",
      "</div>\n",
      "</div></div><div class=\"xe-widget-wrapper \" style=\"background-position: 0% 0%; margin: 0px; border: 0px solid rgb(0, 0, 0); border-image: none; width: 375px; float: left; background-image: none; background-repeat: repeat repeat;\"><div style=\"*zoom:1;padding:0px 0px 0px 0px !important;\"><div class=\"sidebar-homepage\">\n",
      "<aside class=\"widget-container\">\n",
      "\t<div class=\"widget-wrapper clearfix\">\n",
      "                <h3 class=\"widget-title\"><a href=\"https://techcrunch.com/\">TechCrunch</a></h3>\n",
      "    <ul class=\"widgetA menu news-sidebar\">\n",
      "                    <li class=\"clearfix\" >\n",
      "                                                                                        <h4><a href=\"http://feedproxy.google.com/~r/Techcrunch/~3/vZtPRZN3u70/\" class=\"title\">Virtual reality makes food taste better</a></h4>\n",
      "                                                                                    <span class=\"icon\"></span>\n",
      "                                                                                    <span class=\"date-news\">2018-10-19 22:16 22:16</span>\n",
      "                                    </li>\n",
      "                <li class=\"clearfix\" >\n",
      "                                                                                        <h4><a href=\"http://feedproxy.google.com/~r/Techcrunch/~3/ZfurR7D-k38/\" class=\"title\">Twilio shops, Uber and Lyft IPO scuttlebutt, a...</a></h4>\n",
      "                                                                                    <span class=\"icon\"></span>\n",
      "                                                                                    <span class=\"date-news\">2018-10-19 22:10 22:10</span>\n",
      "                                    </li>\n",
      "                <li class=\"clearfix\" >\n",
      "                                                                                        <h4><a href=\"http://feedproxy.google.com/~r/Techcrunch/~3/1LFbUuRkRvI/\" class=\"title\">Vector speeds toward orbital launch capability...</a></h4>\n",
      "                                                                                    <span class=\"icon\"></span>\n",
      "                                                                                    <span class=\"date-news\">2018-10-19 22:01 22:01</span>\n",
      "                                    </li>\n",
      "                <li class=\"clearfix\" >\n",
      "                                                                                        <h4><a href=\"http://feedproxy.google.com/~r/Techcrunch/~3/BcRIAYKIoSI/\" class=\"title\">TrackR is rebranding to Adero as it looks beyo...</a></h4>\n",
      "                                                                                    <span class=\"icon\"></span>\n",
      "                                                                                    <span class=\"date-news\">2018-10-19 22:01 22:01</span>\n",
      "                                    </li>\n",
      "                <li class=\"clearfix\" >\n",
      "                                                                                        <h4><a href=\"http://feedproxy.google.com/~r/Techcrunch/~3/I851pqFLL74/\" class=\"title\">The 7 great features that will hopefully retur...</a></h4>\n",
      "                                                                                    <span class=\"icon\"></span>\n",
      "                                                                                    <span class=\"date-news\">2018-10-19 21:54 21:54</span>\n",
      "                                    </li>\n",
      "            </ul>\n",
      "            </div>\n",
      "</aside>\n",
      "</div>\n",
      "</div></div>    </div>\n",
      "</div>\n",
      "<!-- main page footer start -->\n",
      "<footer id=\"main-footer\">\n",
      "    <!--\n",
      "    <div id=\"blur-top\">\n",
      "        <a href=\"#\" id=\"link-back-top\">Back to Top</a>\n",
      "    </div>\n",
      "    <div id=\"slogan-footer\">\n",
      "        <h4>Leading Together <span>for</span> Brighter Future</h4>\n",
      "    </div>\n",
      "    -->\n",
      "    <div id=\"footer-content\" class=\"clearfix\">\n",
      "        <div id=\"footer-container\">\n",
      "            <div id=\"sidebar-footer-left\" class=\"sidebar-footer\">\n",
      "                <aside class=\"widget-container\">\n",
      "                    <div class=\"widget-wrapper clearfix\">\n",
      "                        <h3 class=\"widget-title\">Quick Navigation</h3>\n",
      "                        <ul>\n",
      "                            <li><a href=\"http://www.koreatech.ac.kr\" target=\"_blank\">한국기술교육대학교 홈페이지</a></li>\n",
      "                            <li><a href=\"https://email.koreatech.ac.kr\" target=\"_blank\">한국기술교육대학교 WEBMAIL</a></li>\n",
      "                            <li><a href=\"http://www.e-koreatech.ac.kr\" target=\"_blank\">한국기술교육대학교 온라인 평생교육원</a></li>\n",
      "                            <li><a href=\"http://itcsw.koreatech.ac.kr\" target=\"_blank\">IT 융합소프트웨어 인력양성사업</a></li>\n",
      "                            <li><a href=\"http://csenas.koreatech.ac.kr:5000\" target=\"_blank\">컴퓨터공학부 교직원 업무 자료실</a></li>\n",
      "                            <!--<li><a href=\"https://cse.koreatech.ac.kr/?mid=portfolio\" target=\"_blank\">컴퓨터공학부 포트폴리오</a></li>-->\n",
      "                            \n",
      "                        </ul>\n",
      "                    </div>\n",
      "                </aside>\n",
      "            </div>\n",
      "            <div id=\"sidebar-footer-middle\" class=\"sidebar-footer\">\n",
      "                <aside class=\"widget-container\">\n",
      "                    <div class=\"widget-wrapper clearfix\">\n",
      "                        <h3 class=\"widget-title\">Campus Location</h3>\n",
      "                        <article class=\"text-widget \">\n",
      "\t                        <iframe class=\"map-area\" src=\"https://www.google.com/maps/embed?pb=!1m18!1m12!1m3!1d3196.369861062225!2d127.28035150000001!3d36.761693699999995!2m3!1f0!2f0!3f0!3m2!1i1024!2i768!4f13.1!3m3!1m2!1s0x357b2ac0a5190d0f%3A0x24cddeffd416ef74!2z7LKc7JWI7IucIOuzkeyynOuptCDtlZzqta3quLDsiKDqtZDsnKHrjIDtlZnqtZAg6rO17ZWZNOq0gA!5e0!3m2!1sko!2skr!4v1428058842867\" width=\"600\" height=\"450\" frameborder=\"0\" style=\"border:0\"></iframe><br/>\n",
      "                    </div>\n",
      "                </aside>\n",
      "            </div>\n",
      "<div id=\"sidebar-footer-right\" class=\"sidebar-footer\">\n",
      "                <aside class=\"widget-container\">\n",
      "                    <h3 class=\"widget-title\">Contact CSE</h3>\n",
      "                <p>충청남도 천안시 동남구 병천면 충절로 1600<br/>한국기술교육대학교 컴퓨터공학부 학과사무실 <br/>TEL (041) 560 1460 ~ 1461<br/> FAX (041) 560 1462\n",
      "                <ul id=\"list-social\" class=\"clearfix\">\n",
      "                    <li id=\"icon-facebook\"><a href=\"https://facebook.com/koreatech.cse.edu\" target=\"_blank\">Facebook</a></li>\n",
      "                    <!--<li id=\"icon-twitter\"><a href=\"#\">Twitter</a></li>\n",
      "                    <li id=\"icon-gplus\"><a href=\"#\">Google Plus</a></li>\n",
      "                    <li id=\"icon-linkedin\"><a href=\"#\">Linkedin</a></li>-->\n",
      "                </ul>\n",
      "                </aside>\n",
      "            </div>\n",
      "        </div>\n",
      "    </div>\n",
      "    <div id=\"footer-copyright\">\n",
      "        <div id=\"footer-copyright-content\" class=\"clearfix\">\n",
      "            <a href=\"#\" id=\"logo-footer\"><img src=\"/layouts/cse/images/cse_logo_footer.png\" data-retina=\"images/cse_logo_footer_retina.png\" alt=\"School Fun - University\" /></a>\n",
      "            <p id=\"text-address\">(31253) 충청남도 천안시 동남구 병천면 충절로 1600 (가전리, 한국기술교육대학교) 컴퓨터공학부 </p>\n",
      "            <p id=\"text-copyright\">Copyright © 2015. All rights reserved</p>\n",
      "        </div>\n",
      "    </div>\n",
      "</footer>\n",
      "<!-- main page footer end -->\n",
      "</body>\n",
      "</html>\n",
      "<!-- ETC -->\n",
      "<div class=\"wfsr\"></div>\n",
      "<script src=\"/addons/autolink/autolink.js?20180913173453\"></script><script src=\"/common/js/plugins/ui/jquery-ui.min.js?20180913173444\"></script><script src=\"/common/js/plugins/ui/jquery.ui.datepicker-ko.js?20180913173444\"></script><script src=\"/addons/resize_image/js/resize_image.min.js?20180913173454\"></script><script src=\"/layouts/cse/script/jquery.flexslider.js?20150805222706\"></script><script src=\"/layouts/cse/script/jquery.prettyPhoto.js?20150805222706\"></script><script src=\"/layouts/cse/script/jquery-ui-tabs-rotate.js?20150805222706\"></script><script src=\"/layouts/cse/script/scripts.js?20150821172206\"></script><script src=\"/files/cache/js_filter_compiled/5ad07e2b14b79f1c993c3e4b5ca58660.ko.compiled.js?20180913175854\"></script><script src=\"/files/cache/ruleset/85b80736b3cc92d07570521ad97a31d9.ko.js?20180913175854\"></script></body>\n",
      "</html>\n",
      "\n"
     ]
    }
   ],
   "source": [
    "import requests\n",
    "\n",
    "req = requests.get('http://cse.koreatech.ac.kr')\n",
    "\n",
    "source = req.text\n",
    "\n",
    "print(source)\n"
   ]
  },
  {
   "cell_type": "code",
   "execution_count": 22,
   "metadata": {
    "scrolled": true
   },
   "outputs": [
    {
     "name": "stdout",
     "output_type": "stream",
     "text": [
      "['\\n', '\\n', '\\n', '\\n', '\\n', '\\n', '\\n', '\\n', '컴', '퓨', '터', '공', '학', '부', '\\n', '\\n', '\\n', '\\n', '\\n', '\\n', '\\n', '\\n', '\\n', '\\n', '\\n', '\\n', '\\n', 'v', 'a', 'r', ' ', 'c', 'u', 'r', 'r', 'e', 'n', 't', '_', 'u', 'r', 'l', ' ', '=', ' ', '\"', 'h', 't', 't', 'p', 's', ':', '/', '/', 'c', 's', 'e', '.', 'k', 'o', 'r', 'e', 'a', 't', 'e', 'c', 'h', '.', 'a', 'c', '.', 'k', 'r', '/', '\"', ';', '\\n', 'v', 'a', 'r', ' ', 'r', 'e', 'q', 'u', 'e', 's', 't', '_', 'u', 'r', 'i', ' ', '=', ' ', '\"', 'h', 't', 't', 'p', 's', ':', '/', '/', 'c', 's', 'e', '.', 'k', 'o', 'r', 'e', 'a', 't', 'e', 'c', 'h', '.', 'a', 'c', '.', 'k', 'r', '/', '\"', ';', '\\n', 'v', 'a', 'r', ' ', 'c', 'u', 'r', 'r', 'e', 'n', 't', '_', 'm', 'i', 'd', ' ', '=', ' ', '\"', 'h', 'o', 'm', 'e', '_', '2', '0', '1', '5', '\"', ';', '\\n', 'v', 'a', 'r', ' ', 'w', 'a', 'i', 't', 'i', 'n', 'g', '_', 'm', 'e', 's', 's', 'a', 'g', 'e', ' ', '=', ' ', '\"', '서', '버', '에', ' ', '요', '청', ' ', '중', '입', '니', '다', '.', ' ', '잠', '시', '만', ' ', '기', '다', '려', '주', '세', '요', '.', '\"', ';', '\\n', 'v', 'a', 'r', ' ', 's', 's', 'l', '_', 'a', 'c', 't', 'i', 'o', 'n', 's', ' ', '=', ' ', 'n', 'e', 'w', ' ', 'A', 'r', 'r', 'a', 'y', '(', ')', ';', '\\n', 'v', 'a', 'r', ' ', 'd', 'e', 'f', 'a', 'u', 'l', 't', '_', 'u', 'r', 'l', ' ', '=', ' ', '\"', 'h', 't', 't', 'p', 's', ':', '/', '/', 'c', 's', 'e', '.', 'k', 'o', 'r', 'e', 'a', 't', 'e', 'c', 'h', '.', 'a', 'c', '.', 'k', 'r', '/', '\"', ';', '\\n', 'v', 'a', 'r', ' ', 'h', 't', 't', 'p', '_', 'p', 'o', 'r', 't', ' ', '=', ' ', '8', '0', ';', 'v', 'a', 'r', ' ', 'h', 't', 't', 'p', 's', '_', 'p', 'o', 'r', 't', ' ', '=', ' ', '4', '4', '3', ';', 'v', 'a', 'r', ' ', 'e', 'n', 'f', 'o', 'r', 'c', 'e', '_', 's', 's', 'l', ' ', '=', ' ', 't', 'r', 'u', 'e', ';', '\\n', '\\n', '\\n', '\\n', '\\n', '\\n', '\\n', '\\n', '\\n', '\\n', '\\n', '\\n', '\\n', '\\n', '\\n', '\\n', '\\n', '\\n', '\\n', '\\n', '\\n', '\\n', '\\n', '\\n', '/', '/', '\\n', '\\n', '\\n', '\\n', '\\n', '\\n', '\\n', '\\t', '\\n', '\\t', 'S', 'c', 'h', 'o', 'o', 'l', 'f', 'u', 'n', ' ', '-', ' ', 'S', 't', 'u', 'd', 'y', ' ', 'a', 'n', 'd', ' ', 'F', 'u', 'n', '\\n', '\\t', '\\n', '\\t', '\\n', '\\t', '\\n', '\\t', '\\t', '\\n', '\\t', '\\n', '\\t', '\\n', '\\t', '\\t', '\\n', '\\t', '\\t', '\\t', '\\n', '\\n', '\\n', '\\n', '\\t', '\\n', '\\t', '\\t', '\\n', '\\t', '\\t', '\\t', '\\n', '\\t', '\\t', '\\t', '\\t', '\\n', '\\t', '\\t', '\\t', '\\t', '\\n', '\\t', '\\t', '\\t', '\\t', '\\n', '\\t', '\\t', '\\t', '\\n', '\\t', '\\t', '\\t', '\\n', '\\t', '\\t', '\\t', '\\n', '\\t', '\\t', '\\t', '\\t', '\\n', '\\t', '\\t', '\\t', '\\t', '\\t', '\\t', '\\t', '\\t', '\\t', '\\t', '\\n', '\\t', '\\t', '\\t', '\\t', '\\n', '\\t', '\\t', '\\t', '\\t', '-', '-', '>', '\\n', '\\t', '\\t', '\\t', '\\t', '\\t', '\\t', '\\t', '\\t', '\\t', '\\n', '\\t', '\\t', '\\t', '\\t', '\\t', '\\n', '\\t', '로', '그', '인', '\\n', '\\t', '\\n', '\\t', '\\t', '로', '그', '인', '\\n', '\\t', '\\t', '\\n', '\\t', '\\t', '\\n', '\\t', '\\t', '\\n', '\\t', '\\t', '\\t', '\\t', '\\n', '\\t', '\\t', '\\t', '아', '이', '디', '\\t', '\\t', '\\t', '\\t', '\\t', '\\t', '\\t', '\\t', '\\t', '\\t', '\\t', '\\t', '비', '밀', '번', '호', '\\n', '\\t', '\\t', '\\t', '\\n', '\\t', '\\t', '\\t', '\\n', '\\t', '\\t', '\\t', '\\t', '\\n', '\\t', '\\t', '\\t', '\\t', '로', '그', '인', ' ', '유', '지', '\\n', '\\t', '\\t', '\\t', '\\n', '\\t', '\\t', '\\t', '브', '라', '우', '저', '를', ' ', '닫', '더', '라', '도', ' ', '로', '그', '인', '이', ' ', '계', '속', ' ', '유', '지', '될', ' ', '수', ' ', '있', '습', '니', '다', '.', ' ', '로', '그', '인', ' ', '유', '지', ' ', '기', '능', '을', ' ', '사', '용', '할', ' ', '경', '우', ' ', '다', '음', ' ', '접', '속', '부', '터', '는', ' ', '로', '그', '인', '할', ' ', '필', '요', '가', ' ', '없', '습', '니', '다', '.', ' ', '단', ',', ' ', '게', '임', '방', ',', ' ', '학', '교', ' ', '등', ' ', '공', '공', '장', '소', '에', '서', ' ', '이', '용', ' ', '시', ' ', '개', '인', '정', '보', '가', ' ', '유', '출', '될', ' ', '수', ' ', '있', '으', '니', ' ', '꼭', ' ', '로', '그', '아', '웃', '을', ' ', '해', '주', '세', '요', '.', '\\n', '\\t', '\\t', '\\n', '\\t', '\\t', '\\n', '\\t', '\\t', '\\n', '\\t', '\\t', '\\t', '회', '원', '가', '입', '\\n', '\\t', '\\t', '\\t', 'I', 'D', '/', 'P', 'W', ' ', '찾', '기', '\\n', '\\t', '\\t', '\\n', '\\t', '\\n', '\\n', '\\n', '\\t', '\\t', '\\t', '\\t', '\\n', '\\t', '\\t', '\\t', '\\t', 'I', 'T', ' ', '교', '육', '의', ' ', '글', '로', '벌', ' ', '메', '카', '!', '한', '국', '기', '술', '교', '육', '대', '학', '교', ' ', '컴', '퓨', '터', '공', '학', '부', '\\n', '\\t', '\\t', '\\t', '\\n', '\\t', '\\t', '\\n', '\\t', '\\n', '\\t', '\\n', '\\t', '\\t', 'C', 'l', 'o', 's', 'e', '\\n', '\\t', '\\t', '\\n', '\\t', '\\t', '\\t', '\\n', '\\t', '\\t', '\\t', '\\t', '\\n', '\\t', '\\t', '\\t', '\\t', '\\n', '\\t', '\\t', '\\t', '\\t', '\\n', '\\t', '\\t', '\\t', '\\n', '\\t', '\\t', '\\t', '\\n', '\\t', '\\t', '\\t', '\\t', '\\t', '\\t', '\\t', '\\t', '\\n', '\\t', '\\t', '\\t', '\\t', '\\t', '\\t', '\\t', '\\t', '\\t', '\\t', '소', '개', '\\n', '\\t', '\\t', '\\t', '\\t', '\\t', '\\t', '\\t', '\\t', '\\t', '\\t', '\\n', '\\t', '\\t', '\\t', '\\t', '\\n', '\\t', '\\t', '\\t', '\\t', '\\t', '\\t', '\\t', '\\t', '\\t', '\\t', '\\t', '\\t', '\\t', '\\n', '\\t', '\\t', '\\t', '\\t', '\\t', '\\t', '\\t', '\\t', '\\t', '\\t', '구', '성', '원', '소', '개', '\\n', '\\t', '\\t', '\\t', '\\t', '\\t', '\\t', '\\t', '\\t', '\\t', '\\t', '\\n', '\\t', '\\t', '\\t', '\\t', '\\n', '\\t', '\\t', '\\t', '\\t', '\\t', '\\t', '\\t', '\\t', '\\t', '\\t', '\\t', '\\t', '\\t', '\\n', '\\t', '\\t', '\\t', '\\t', '\\t', '\\t', '\\t', '\\t', '\\t', '\\t', '학', '사', '안', '내', '\\n', '\\t', '\\t', '\\t', '\\t', '\\t', '\\t', '\\t', '\\t', '\\t', '\\t', '\\n', '\\t', '\\t', '\\t', '\\t', '\\n', '\\t', '\\t', '\\t', '\\t', '\\t', '\\t', '\\t', '\\t', '\\t', '\\t', '\\t', '\\t', '\\t', '\\n', '\\t', '\\t', '\\t', '\\t', '\\t', '\\t', '\\t', '\\t', '\\t', '\\t', '입', '학', '\\n', '\\t', '\\t', '\\t', '\\t', '\\t', '\\n', ' ', ' ', ' ', ' ', ' ', ' ', ' ', ' ', ' ', ' ', ' ', ' ', ' ', ' ', ' ', ' ', ' ', ' ', ' ', ' ', ' ', ' ', ' ', ' ', '학', '부', '\\n', ' ', ' ', ' ', ' ', ' ', ' ', ' ', ' ', ' ', ' ', ' ', ' ', ' ', ' ', ' ', ' ', ' ', ' ', ' ', ' ', ' ', ' ', ' ', ' ', '대', '학', '원', '\\n', ' ', ' ', ' ', ' ', ' ', ' ', ' ', ' ', ' ', ' ', ' ', ' ', ' ', ' ', ' ', ' ', ' ', ' ', ' ', ' ', '\\n', '\\t', '\\t', '\\t', '\\t', '\\t', '\\t', '\\t', '\\t', '\\t', '\\t', '\\n', '\\t', '\\t', '\\t', '\\t', '\\n', '\\t', '\\t', '\\t', '\\t', '\\t', '\\t', '\\t', '\\t', '\\t', '\\t', '\\t', '\\t', '\\t', '\\n', '\\t', '\\t', '\\t', '\\t', '\\t', '\\t', '\\t', '\\t', '\\t', '\\t', '학', '부', '광', '장', '\\n', '\\t', '\\t', '\\t', '\\t', '\\t', '\\t', '\\t', '\\t', '\\t', '\\t', '\\n', '\\t', '\\t', '\\t', '\\t', '\\n', '\\t', '\\t', '\\t', '\\t', '\\t', '\\t', '\\t', '\\t', '\\t', '\\t', '\\t', '\\t', '\\t', '\\n', '\\t', '\\t', '\\t', '\\t', '\\t', '\\t', '\\t', '\\t', '\\t', '\\t', '자', '료', '실', '\\n', '\\t', '\\t', '\\t', '\\t', '\\t', '\\t', '\\t', '\\t', '\\t', '\\t', '\\n', '\\t', '\\t', '\\t', '\\t', '\\n', '\\t', '\\t', '\\t', '\\t', '\\t', '\\t', '\\t', '\\t', '\\t', '\\t', '\\t', '\\t', '\\t', '\\n', '\\t', '\\t', '\\t', '\\t', '\\t', '\\t', '\\t', '\\t', '\\t', '\\t', '대', '학', '원', '\\n', '\\t', '\\t', '\\t', '\\t', '\\t', '\\t', '\\t', '\\t', '\\t', '\\t', '\\n', '\\t', '\\t', '\\t', '\\t', '\\n', '\\t', '\\t', '\\t', '\\t', '\\t', '\\t', '\\t', '\\t', '\\t', '\\t', '\\t', '\\t', '\\t', '\\n', '\\t', '\\t', '\\t', '\\t', '\\t', '\\t', '\\t', '\\t', '\\t', '\\t', '공', '학', '교', '육', '인', '증', '\\n', '\\t', '\\t', '\\t', '\\t', '\\t', '\\t', '\\t', '\\t', '\\t', '\\t', '\\n', '\\t', '\\t', '\\t', '\\t', '\\n', '\\t', '\\t', '\\t', '\\t', '\\t', '\\t', '\\t', '\\t', '\\t', '\\t', '\\t', '\\t', '\\t', '\\n', '\\t', '\\t', '\\t', '\\t', '\\t', '\\t', '\\t', '\\t', '\\t', '\\t', '학', '부', '서', '비', '스', '\\n', '\\t', '\\t', '\\t', '\\t', '\\t', '\\t', '\\t', '\\t', '\\t', '\\t', '\\n', '\\t', '\\t', '\\t', '\\t', '\\n', '\\t', '\\t', '\\t', '\\t', '\\t', '\\t', '\\t', '\\t', '\\t', '\\t', '\\t', '\\t', '\\t', '\\n', '\\t', '\\t', '\\t', '\\n', ' ', ' ', ' ', ' ', ' ', ' ', ' ', ' ', ' ', ' ', ' ', ' ', ' ', ' ', ' ', ' ', ' ', ' ', ' ', ' ', ' ', ' ', ' ', ' ', '\\t', '\\t', '\\t', 'R', 'e', 'g', 'i', 's', 't', 'r', 'a', 't', 'i', 'o', 'n', '\\n', ' ', ' ', ' ', ' ', ' ', ' ', ' ', ' ', ' ', ' ', ' ', ' ', ' ', ' ', ' ', ' ', ' ', ' ', ' ', ' ', ' ', ' ', ' ', ' ', '\\t', '\\t', '\\n', '\\t', '\\n', ' ', ' ', ' ', ' ', ' ', ' ', '\\n', '\\t', ' ', ' ', ' ', ' ', ' ', ' ', ' ', ' ', '\\t', ' ', ' ', ' ', ' ', ' ', ' ', ' ', ' ', '\\n', '\\n', '\\n', ' ', ' ', ' ', ' ', '\\n', ' ', ' ', ' ', ' ', ' ', ' ', ' ', ' ', '\\n', ' ', ' ', ' ', ' ', ' ', ' ', ' ', ' ', ' ', ' ', ' ', ' ', '컴', '퓨', '터', '공', '학', '부', '\\n', ' ', ' ', ' ', ' ', ' ', ' ', ' ', ' ', ' ', ' ', ' ', ' ', ' ', ' ', ' ', ' ', 'S', 'c', 'h', 'o', 'o', 'l', ' ', 'o', 'f', ' ', 'C', 'o', 'm', 'p', 'u', 't', 'e', 'r', ' ', 'S', 'c', 'i', 'e', 'n', 'c', 'e', ' ', 'a', 'n', 'd', ' ', 'E', 'n', 'g', 'i', 'n', 'e', 'e', 'r', 'i', 'n', 'g', '\\n', ' ', ' ', ' ', ' ', ' ', ' ', ' ', ' ', ' ', ' ', ' ', ' ', ' ', ' ', ' ', ' ', '\\n', ' ', ' ', ' ', ' ', ' ', ' ', ' ', ' ', ' ', ' ', ' ', ' ', '\\n', ' ', ' ', ' ', ' ', ' ', ' ', ' ', ' ', ' ', ' ', ' ', ' ', '\\n', ' ', ' ', ' ', ' ', ' ', ' ', ' ', ' ', ' ', ' ', ' ', ' ', ' ', ' ', ' ', ' ', 'I', 'T', ' ', '융', '합', '소', '프', '트', '웨', '어', ' ', '인', '력', '양', '성', '사', '업', '\\n', ' ', ' ', ' ', ' ', ' ', ' ', ' ', ' ', ' ', ' ', ' ', ' ', ' ', ' ', ' ', ' ', 'C', 'K', ' ', '(', 'C', 'r', 'e', 'a', 't', 'i', 'v', 'e', ' ', 'K', 'o', 'r', 'e', 'a', ')', '-', 'I', '\\n', ' ', ' ', ' ', ' ', ' ', ' ', ' ', ' ', ' ', ' ', ' ', ' ', ' ', ' ', ' ', ' ', '\\n', ' ', ' ', ' ', ' ', ' ', ' ', ' ', ' ', ' ', ' ', ' ', ' ', '\\n', ' ', ' ', ' ', ' ', ' ', ' ', ' ', ' ', ' ', ' ', ' ', ' ', '\\n', ' ', ' ', ' ', ' ', ' ', ' ', ' ', ' ', ' ', ' ', ' ', ' ', ' ', ' ', ' ', ' ', '교', '육', '역', '량', '강', '화', '사', '업', ' ', '온', '라', '인', ' ', '컨', '텐', '츠', '\\n', ' ', ' ', ' ', ' ', ' ', ' ', ' ', ' ', ' ', ' ', ' ', ' ', ' ', ' ', ' ', ' ', 'O', 'n', 'l', 'i', 'n', 'e', ' ', 'C', 'o', 'n', 't', 'e', 'n', 't', 's', ' ', 'f', 'o', 'r', ' ', 'E', 'd', 'u', 'c', 'a', 't', 'i', 'o', 'n', ' ', 'C', 'a', 'p', 'a', 'b', 'i', 'l', 'i', 't', 'y', ' ', 'E', 'm', 'p', 'o', 'w', 'e', 'r', 'm', 'e', 'n', 't', '\\n', ' ', ' ', ' ', ' ', ' ', ' ', ' ', ' ', ' ', ' ', ' ', ' ', ' ', ' ', ' ', ' ', '\\n', ' ', ' ', ' ', ' ', ' ', ' ', ' ', ' ', ' ', ' ', ' ', ' ', '\\n', ' ', ' ', ' ', ' ', ' ', ' ', ' ', ' ', '\\n', ' ', ' ', ' ', ' ', '\\n', '\\t', '\\n', ' ', ' ', ' ', ' ', ' ', ' ', ' ', ' ', '\\n', ' ', ' ', ' ', ' ', ' ', ' ', ' ', ' ', '\\n', ' ', ' ', ' ', ' ', ' ', ' ', ' ', ' ', '\\n', ' ', ' ', ' ', ' ', ' ', ' ', ' ', ' ', ' ', ' ', ' ', ' ', '\\n', ' ', ' ', ' ', ' ', ' ', ' ', ' ', ' ', ' ', ' ', ' ', ' ', ' ', ' ', ' ', ' ', 'I', 'T', ' ', '교', '육', '의', ' ', '글', '로', '벌', ' ', '메', '카', '\\n', ' ', ' ', ' ', ' ', ' ', ' ', ' ', ' ', ' ', ' ', ' ', ' ', ' ', ' ', ' ', ' ', '한', '국', '기', '술', '교', '육', '대', '학', '교', ' ', '컴', '퓨', '터', '공', '학', '부', ' ', '홈', '페', '이', '지', '에', ' ', '오', '신', ' ', '것', '을', '환', '영', '합', '니', '다', '!', '\\n', ' ', ' ', ' ', ' ', ' ', ' ', ' ', ' ', ' ', ' ', ' ', ' ', '\\n', ' ', ' ', ' ', ' ', ' ', ' ', ' ', ' ', '\\n', ' ', ' ', ' ', ' ', '\\n', ' ', ' ', ' ', ' ', '\\n', ' ', ' ', ' ', ' ', ' ', ' ', ' ', ' ', '\\n', ' ', ' ', ' ', ' ', ' ', ' ', ' ', ' ', '\\n', '\\t', '\\n', ' ', ' ', ' ', ' ', ' ', ' ', ' ', ' ', ' ', ' ', ' ', ' ', '\\n', ' ', ' ', ' ', ' ', ' ', ' ', ' ', ' ', ' ', ' ', ' ', ' ', ' ', ' ', ' ', ' ', 'I', 'T', ' ', '융', '합', '소', '프', '트', '웨', '어', ' ', '인', '력', '양', '성', '사', '업', '\\n', ' ', ' ', ' ', ' ', ' ', ' ', ' ', ' ', ' ', ' ', ' ', ' ', ' ', ' ', ' ', ' ', '글', '로', '벌', ' ', '수', '준', '의', ' ', 'I', 'T', '전', '문', '인', '력', ' ', '양', '성', '\\n', 'I', 'T', '융', '합', '분', '야', '에', ' ', '대', '한', ' ', '국', '제', '적', '인', ' ', '경', '쟁', '력', ' ', '고', '취', '\\n', ' ', ' ', ' ', ' ', ' ', ' ', ' ', ' ', ' ', ' ', ' ', ' ', ' ', ' ', ' ', ' ', '바', '로', '가', '기', '\\n', ' ', ' ', ' ', ' ', ' ', ' ', ' ', ' ', ' ', ' ', ' ', ' ', '\\n', ' ', ' ', ' ', ' ', ' ', ' ', ' ', ' ', '\\n', ' ', ' ', ' ', ' ', '\\n', ' ', ' ', ' ', ' ', '\\n', ' ', ' ', ' ', ' ', ' ', ' ', ' ', ' ', '\\n', ' ', ' ', ' ', ' ', ' ', ' ', ' ', ' ', '\\n', '\\t', '\\n', ' ', ' ', ' ', ' ', ' ', ' ', ' ', ' ', ' ', ' ', ' ', ' ', '\\n', ' ', ' ', ' ', ' ', ' ', ' ', ' ', ' ', ' ', ' ', ' ', ' ', ' ', ' ', ' ', ' ', '교', '육', '역', '량', '강', '화', '사', '업', ' ', '컨', '텐', '츠', '\\n', ' ', ' ', ' ', ' ', ' ', ' ', ' ', ' ', ' ', ' ', ' ', ' ', ' ', ' ', ' ', ' ', '교', '육', '역', '량', '강', '화', '사', '업', ' ', '온', '라', '인', ' ', '컨', '텐', '츠', '를', ' ', '소', '개', '합', '니', '다', '.', '\\n', ' ', ' ', ' ', ' ', ' ', ' ', ' ', ' ', ' ', ' ', ' ', ' ', ' ', ' ', ' ', ' ', '바', '로', '가', '기', '\\n', ' ', ' ', ' ', ' ', ' ', ' ', ' ', ' ', ' ', ' ', ' ', ' ', '\\n', ' ', ' ', ' ', ' ', ' ', ' ', ' ', ' ', '\\n', ' ', ' ', ' ', ' ', '\\n', '\\n', '\\n', '\\n', ' ', ' ', ' ', ' ', '\\t', '\\t', '\\n', ' ', ' ', ' ', ' ', '\\n', '\\n', '\\t', '\\n', ' ', ' ', ' ', ' ', ' ', ' ', ' ', ' ', ' ', ' ', ' ', ' ', ' ', ' ', ' ', ' ', '공', '지', '사', '항', '\\n', ' ', ' ', ' ', ' ', '\\n', ' ', ' ', ' ', ' ', ' ', ' ', ' ', ' ', ' ', ' ', ' ', ' ', ' ', ' ', ' ', ' ', ' ', ' ', ' ', ' ', '\\n', ' ', ' ', ' ', ' ', ' ', ' ', ' ', ' ', ' ', ' ', ' ', ' ', ' ', ' ', ' ', ' ', ' ', ' ', ' ', ' ', ' ', ' ', ' ', ' ', ' ', ' ', ' ', ' ', ' ', ' ', ' ', ' ', ' ', ' ', ' ', ' ', ' ', ' ', ' ', ' ', ' ', ' ', ' ', ' ', ' ', ' ', ' ', ' ', ' ', ' ', ' ', ' ', ' ', ' ', ' ', ' ', ' ', ' ', ' ', ' ', ' ', ' ', ' ', ' ', ' ', ' ', ' ', ' ', ' ', ' ', ' ', ' ', ' ', ' ', ' ', ' ', ' ', ' ', ' ', ' ', ' ', ' ', ' ', ' ', ' ', ' ', ' ', ' ', '[', '졸', '업', '작', '품', ']', ' ', '2', '0', '1', '8', ' ', '졸', '업', '작', '품', ' ', '산', '업', '체', ' ', '평', '가', '회', ' ', '결', '과', '에', ' ', '따', '른', ' ', '.', '.', '.', '\\n', ' ', ' ', ' ', ' ', ' ', ' ', ' ', ' ', ' ', ' ', ' ', ' ', ' ', ' ', ' ', ' ', ' ', ' ', ' ', ' ', ' ', ' ', ' ', ' ', ' ', ' ', ' ', ' ', ' ', ' ', ' ', ' ', ' ', ' ', ' ', ' ', ' ', ' ', ' ', ' ', ' ', ' ', ' ', ' ', ' ', ' ', ' ', ' ', ' ', ' ', ' ', ' ', ' ', ' ', ' ', ' ', ' ', ' ', ' ', ' ', ' ', ' ', ' ', ' ', ' ', ' ', ' ', ' ', ' ', ' ', ' ', ' ', ' ', ' ', ' ', ' ', ' ', ' ', ' ', ' ', ' ', ' ', ' ', ' ', ' ', ' ', ' ', ' ', ' ', ' ', ' ', ' ', ' ', ' ', ' ', ' ', ' ', ' ', ' ', ' ', ' ', ' ', ' ', ' ', ' ', ' ', ' ', ' ', ' ', ' ', ' ', ' ', ' ', ' ', ' ', ' ', ' ', ' ', ' ', ' ', ' ', ' ', ' ', ' ', '2', '0', '1', '8', '-', '1', '0', '-', '1', '9', ' ', '1', '4', ':', '0', '9', ' ', '1', '4', ':', '0', '9', '\\n', ' ', ' ', ' ', ' ', ' ', ' ', ' ', ' ', ' ', ' ', ' ', ' ', ' ', ' ', ' ', ' ', ' ', ' ', ' ', ' ', ' ', ' ', ' ', ' ', ' ', ' ', ' ', ' ', ' ', ' ', ' ', ' ', ' ', ' ', ' ', ' ', '\\n', ' ', ' ', ' ', ' ', ' ', ' ', ' ', ' ', ' ', ' ', ' ', ' ', ' ', ' ', ' ', ' ', '\\n', ' ', ' ', ' ', ' ', ' ', ' ', ' ', ' ', ' ', ' ', ' ', ' ', ' ', ' ', ' ', ' ', ' ', ' ', ' ', ' ', ' ', ' ', ' ', ' ', ' ', ' ', ' ', ' ', ' ', ' ', ' ', ' ', ' ', ' ', ' ', ' ', ' ', ' ', ' ', ' ', ' ', ' ', ' ', ' ', ' ', ' ', ' ', ' ', ' ', ' ', ' ', ' ', ' ', ' ', ' ', ' ', ' ', ' ', ' ', ' ', ' ', ' ', ' ', ' ', ' ', ' ', ' ', ' ', ' ', ' ', ' ', ' ', ' ', ' ', ' ', ' ', ' ', ' ', ' ', ' ', ' ', ' ', ' ', ' ', ' ', ' ', ' ', ' ', '[', '특', '성', '화', ']', ' ', '5', '차', '년', '도', ' ', 'I', 'T', '융', '합', ' ', '개', '도', '국', ' ', '기', '술', '지', '원', ' ', '봉', '사', '(', '해', '외', ')', ' ', '.', '.', '.', '\\n', ' ', ' ', ' ', ' ', ' ', ' ', ' ', ' ', ' ', ' ', ' ', ' ', ' ', ' ', ' ', ' ', ' ', ' ', ' ', ' ', ' ', ' ', ' ', ' ', ' ', ' ', ' ', ' ', ' ', ' ', ' ', ' ', ' ', ' ', ' ', ' ', ' ', ' ', ' ', ' ', ' ', ' ', ' ', ' ', ' ', ' ', ' ', ' ', ' ', ' ', ' ', ' ', ' ', ' ', ' ', ' ', ' ', ' ', ' ', ' ', ' ', ' ', ' ', ' ', ' ', ' ', ' ', ' ', ' ', ' ', ' ', ' ', ' ', ' ', ' ', ' ', ' ', ' ', ' ', ' ', ' ', ' ', ' ', ' ', ' ', ' ', ' ', ' ', ' ', ' ', ' ', ' ', ' ', ' ', ' ', ' ', ' ', ' ', ' ', ' ', ' ', ' ', ' ', ' ', ' ', ' ', ' ', ' ', ' ', ' ', ' ', ' ', ' ', ' ', ' ', ' ', ' ', ' ', ' ', ' ', ' ', ' ', ' ', ' ', '2', '0', '1', '8', '-', '1', '0', '-', '1', '7', ' ', '1', '3', ':', '5', '7', ' ', '1', '3', ':', '5', '7', '\\n', ' ', ' ', ' ', ' ', ' ', ' ', ' ', ' ', ' ', ' ', ' ', ' ', ' ', ' ', ' ', ' ', ' ', ' ', ' ', ' ', ' ', ' ', ' ', ' ', ' ', ' ', ' ', ' ', ' ', ' ', ' ', ' ', ' ', ' ', ' ', ' ', '\\n', ' ', ' ', ' ', ' ', ' ', ' ', ' ', ' ', ' ', ' ', ' ', ' ', ' ', ' ', ' ', ' ', '\\n', ' ', ' ', ' ', ' ', ' ', ' ', ' ', ' ', ' ', ' ', ' ', ' ', ' ', ' ', ' ', ' ', ' ', ' ', ' ', ' ', ' ', ' ', ' ', ' ', ' ', ' ', ' ', ' ', ' ', ' ', ' ', ' ', ' ', ' ', ' ', ' ', ' ', ' ', ' ', ' ', ' ', ' ', ' ', ' ', ' ', ' ', ' ', ' ', ' ', ' ', ' ', ' ', ' ', ' ', ' ', ' ', ' ', ' ', ' ', ' ', ' ', ' ', ' ', ' ', ' ', ' ', ' ', ' ', ' ', ' ', ' ', ' ', ' ', ' ', ' ', ' ', ' ', ' ', ' ', ' ', ' ', ' ', ' ', ' ', ' ', ' ', ' ', ' ', '[', '특', '성', '화', ']', ' ', '2', '0', '1', '8', ' ', '졸', '업', '작', '품', ' ', '산', '업', '체', ' ', '평', '가', '회', ' ', '결', '과', ' ', '공', '지', '(', '졸', '작', '.', '.', '.', '\\n', ' ', ' ', ' ', ' ', ' ', ' ', ' ', ' ', ' ', ' ', ' ', ' ', ' ', ' ', ' ', ' ', ' ', ' ', ' ', ' ', ' ', ' ', ' ', ' ', ' ', ' ', ' ', ' ', ' ', ' ', ' ', ' ', ' ', ' ', ' ', ' ', ' ', ' ', ' ', ' ', ' ', ' ', ' ', ' ', ' ', ' ', ' ', ' ', ' ', ' ', ' ', ' ', ' ', ' ', ' ', ' ', ' ', ' ', ' ', ' ', ' ', ' ', ' ', ' ', ' ', ' ', ' ', ' ', ' ', ' ', ' ', ' ', ' ', ' ', ' ', ' ', ' ', ' ', ' ', ' ', ' ', ' ', ' ', ' ', ' ', ' ', ' ', ' ', ' ', ' ', ' ', ' ', ' ', ' ', ' ', ' ', ' ', ' ', ' ', ' ', ' ', ' ', ' ', ' ', ' ', ' ', ' ', ' ', ' ', ' ', ' ', ' ', ' ', ' ', ' ', ' ', ' ', ' ', ' ', ' ', ' ', ' ', ' ', ' ', '2', '0', '1', '8', '-', '1', '0', '-', '1', '6', ' ', '1', '5', ':', '5', '2', ' ', '1', '5', ':', '5', '2', '\\n', ' ', ' ', ' ', ' ', ' ', ' ', ' ', ' ', ' ', ' ', ' ', ' ', ' ', ' ', ' ', ' ', ' ', ' ', ' ', ' ', ' ', ' ', ' ', ' ', ' ', ' ', ' ', ' ', ' ', ' ', ' ', ' ', ' ', ' ', ' ', ' ', '\\n', ' ', ' ', ' ', ' ', ' ', ' ', ' ', ' ', ' ', ' ', ' ', ' ', ' ', ' ', ' ', ' ', '\\n', ' ', ' ', ' ', ' ', ' ', ' ', ' ', ' ', ' ', ' ', ' ', ' ', ' ', ' ', ' ', ' ', ' ', ' ', ' ', ' ', ' ', ' ', ' ', ' ', ' ', ' ', ' ', ' ', ' ', ' ', ' ', ' ', ' ', ' ', ' ', ' ', ' ', ' ', ' ', ' ', ' ', ' ', ' ', ' ', ' ', ' ', ' ', ' ', ' ', ' ', ' ', ' ', ' ', ' ', ' ', ' ', ' ', ' ', ' ', ' ', ' ', ' ', ' ', ' ', ' ', ' ', ' ', ' ', ' ', ' ', ' ', ' ', ' ', ' ', ' ', ' ', ' ', ' ', ' ', ' ', ' ', ' ', ' ', ' ', ' ', ' ', ' ', ' ', '[', '특', '성', '화', ']', ' ', '5', '차', '년', '도', ' ', '지', '식', '재', '산', '권', '(', '특', '허', ')', ' ', '출', '원', ' ', '지', '원', ' ', '접', '수', ' ', '알', '림', '\\n', ' ', ' ', ' ', ' ', ' ', ' ', ' ', ' ', ' ', ' ', ' ', ' ', ' ', ' ', ' ', ' ', ' ', ' ', ' ', ' ', ' ', ' ', ' ', ' ', ' ', ' ', ' ', ' ', ' ', ' ', ' ', ' ', ' ', ' ', ' ', ' ', ' ', ' ', ' ', ' ', ' ', ' ', ' ', ' ', ' ', ' ', ' ', ' ', ' ', ' ', ' ', ' ', ' ', ' ', ' ', ' ', ' ', ' ', ' ', ' ', ' ', ' ', ' ', ' ', ' ', ' ', ' ', ' ', ' ', ' ', ' ', ' ', ' ', ' ', ' ', ' ', ' ', ' ', ' ', ' ', ' ', ' ', ' ', ' ', ' ', ' ', ' ', ' ', ' ', ' ', ' ', ' ', ' ', ' ', ' ', ' ', ' ', ' ', ' ', ' ', ' ', ' ', ' ', ' ', ' ', ' ', ' ', ' ', ' ', ' ', ' ', ' ', ' ', ' ', ' ', ' ', ' ', ' ', ' ', ' ', ' ', ' ', ' ', ' ', '2', '0', '1', '8', '-', '1', '0', '-', '1', '6', ' ', '0', '9', ':', '3', '2', ' ', '0', '9', ':', '3', '2', '\\n', ' ', ' ', ' ', ' ', ' ', ' ', ' ', ' ', ' ', ' ', ' ', ' ', ' ', ' ', ' ', ' ', ' ', ' ', ' ', ' ', ' ', ' ', ' ', ' ', ' ', ' ', ' ', ' ', ' ', ' ', ' ', ' ', ' ', ' ', ' ', ' ', '\\n', ' ', ' ', ' ', ' ', ' ', ' ', ' ', ' ', ' ', ' ', ' ', ' ', ' ', ' ', ' ', ' ', '\\n', ' ', ' ', ' ', ' ', ' ', ' ', ' ', ' ', ' ', ' ', ' ', ' ', ' ', ' ', ' ', ' ', ' ', ' ', ' ', ' ', ' ', ' ', ' ', ' ', ' ', ' ', ' ', ' ', ' ', ' ', ' ', ' ', ' ', ' ', ' ', ' ', ' ', ' ', ' ', ' ', ' ', ' ', ' ', ' ', ' ', ' ', ' ', ' ', ' ', ' ', ' ', ' ', ' ', ' ', ' ', ' ', ' ', ' ', ' ', ' ', ' ', ' ', ' ', ' ', ' ', ' ', ' ', ' ', ' ', ' ', ' ', ' ', ' ', ' ', ' ', ' ', ' ', ' ', ' ', ' ', ' ', ' ', ' ', ' ', ' ', ' ', ' ', ' ', '[', '특', '성', '화', ']', ' ', 'G', '-', 'S', 'T', 'A', 'R', ' ', '2', '0', '1', '8', ' ', '전', '시', '회', ' ', '선', '발', ' ', '학', '생', ' ', '공', '고', '\\n', ' ', ' ', ' ', ' ', ' ', ' ', ' ', ' ', ' ', ' ', ' ', ' ', ' ', ' ', ' ', ' ', ' ', ' ', ' ', ' ', ' ', ' ', ' ', ' ', ' ', ' ', ' ', ' ', ' ', ' ', ' ', ' ', ' ', ' ', ' ', ' ', ' ', ' ', ' ', ' ', ' ', ' ', ' ', ' ', ' ', ' ', ' ', ' ', ' ', ' ', ' ', ' ', ' ', ' ', ' ', ' ', ' ', ' ', ' ', ' ', ' ', ' ', ' ', ' ', ' ', ' ', ' ', ' ', ' ', ' ', ' ', ' ', ' ', ' ', ' ', ' ', ' ', ' ', ' ', ' ', ' ', ' ', ' ', ' ', ' ', ' ', ' ', ' ', ' ', ' ', ' ', ' ', ' ', ' ', ' ', ' ', ' ', ' ', ' ', ' ', ' ', ' ', ' ', ' ', ' ', ' ', ' ', ' ', ' ', ' ', ' ', ' ', ' ', ' ', ' ', ' ', ' ', ' ', ' ', ' ', ' ', ' ', ' ', ' ', '2', '0', '1', '8', '-', '1', '0', '-', '0', '8', ' ', '1', '7', ':', '1', '4', ' ', '1', '7', ':', '1', '4', '\\n', ' ', ' ', ' ', ' ', ' ', ' ', ' ', ' ', ' ', ' ', ' ', ' ', ' ', ' ', ' ', ' ', ' ', ' ', ' ', ' ', ' ', ' ', ' ', ' ', ' ', ' ', ' ', ' ', ' ', ' ', ' ', ' ', ' ', ' ', ' ', ' ', '\\n', ' ', ' ', ' ', ' ', ' ', ' ', ' ', ' ', ' ', ' ', ' ', ' ', '\\n', ' ', ' ', ' ', ' ', ' ', ' ', ' ', ' ', ' ', ' ', ' ', ' ', '\\n', '\\n', '\\n', '\\n', '\\n', '\\t', '\\n', ' ', ' ', ' ', ' ', ' ', ' ', ' ', ' ', ' ', ' ', ' ', ' ', ' ', ' ', ' ', ' ', '자', '유', '게', '시', '판', '\\n', ' ', ' ', ' ', ' ', '\\n', ' ', ' ', ' ', ' ', ' ', ' ', ' ', ' ', ' ', ' ', ' ', ' ', ' ', ' ', ' ', ' ', ' ', ' ', ' ', ' ', '\\n', ' ', ' ', ' ', ' ', ' ', ' ', ' ', ' ', ' ', ' ', ' ', ' ', ' ', ' ', ' ', ' ', ' ', ' ', ' ', ' ', ' ', ' ', ' ', ' ', ' ', ' ', ' ', ' ', ' ', ' ', ' ', ' ', ' ', ' ', ' ', ' ', ' ', ' ', ' ', ' ', ' ', ' ', ' ', ' ', ' ', ' ', ' ', ' ', ' ', ' ', ' ', ' ', ' ', ' ', ' ', ' ', ' ', ' ', ' ', ' ', ' ', ' ', ' ', ' ', ' ', ' ', ' ', ' ', ' ', ' ', ' ', ' ', ' ', ' ', ' ', ' ', ' ', ' ', ' ', ' ', ' ', ' ', ' ', ' ', ' ', ' ', ' ', ' ', '★', '문', '화', '의', '날', ' ', '행', '사', ' ', '공', '지', '★', '\\n', ' ', ' ', ' ', ' ', ' ', ' ', ' ', ' ', ' ', ' ', ' ', ' ', ' ', ' ', ' ', ' ', ' ', ' ', ' ', ' ', ' ', ' ', ' ', ' ', ' ', ' ', ' ', ' ', ' ', ' ', ' ', ' ', ' ', ' ', ' ', ' ', ' ', ' ', ' ', ' ', ' ', ' ', ' ', ' ', ' ', ' ', ' ', ' ', ' ', ' ', ' ', ' ', ' ', ' ', ' ', ' ', ' ', ' ', ' ', ' ', ' ', ' ', ' ', ' ', ' ', ' ', ' ', ' ', ' ', ' ', ' ', ' ', ' ', ' ', ' ', ' ', ' ', ' ', ' ', ' ', ' ', ' ', ' ', ' ', ' ', ' ', ' ', ' ', ' ', ' ', ' ', ' ', ' ', ' ', ' ', ' ', ' ', ' ', ' ', ' ', ' ', ' ', ' ', ' ', ' ', ' ', ' ', ' ', ' ', ' ', ' ', ' ', ' ', ' ', ' ', ' ', ' ', ' ', ' ', ' ', ' ', ' ', ' ', ' ', '2', '0', '1', '8', '-', '1', '0', '-', '1', '9', ' ', '2', '0', ':', '3', '1', ' ', '2', '0', ':', '3', '1', '\\n', ' ', ' ', ' ', ' ', ' ', ' ', ' ', ' ', ' ', ' ', ' ', ' ', ' ', ' ', ' ', ' ', ' ', ' ', ' ', ' ', ' ', ' ', ' ', ' ', ' ', ' ', ' ', ' ', ' ', ' ', ' ', ' ', ' ', ' ', ' ', ' ', '\\n', ' ', ' ', ' ', ' ', ' ', ' ', ' ', ' ', ' ', ' ', ' ', ' ', ' ', ' ', ' ', ' ', '\\n', ' ', ' ', ' ', ' ', ' ', ' ', ' ', ' ', ' ', ' ', ' ', ' ', ' ', ' ', ' ', ' ', ' ', ' ', ' ', ' ', ' ', ' ', ' ', ' ', ' ', ' ', ' ', ' ', ' ', ' ', ' ', ' ', ' ', ' ', ' ', ' ', ' ', ' ', ' ', ' ', ' ', ' ', ' ', ' ', ' ', ' ', ' ', ' ', ' ', ' ', ' ', ' ', ' ', ' ', ' ', ' ', ' ', ' ', ' ', ' ', ' ', ' ', ' ', ' ', ' ', ' ', ' ', ' ', ' ', ' ', ' ', ' ', ' ', ' ', ' ', ' ', ' ', ' ', ' ', ' ', ' ', ' ', ' ', ' ', ' ', ' ', ' ', ' ', '졸', '업', '작', '품', '전', '시', '회', ' ', '기', '간', ' ', '헤', '어', '/', '메', '이', '크', '업', '\\n', ' ', ' ', ' ', ' ', ' ', ' ', ' ', ' ', ' ', ' ', ' ', ' ', ' ', ' ', ' ', ' ', ' ', ' ', ' ', ' ', ' ', ' ', ' ', ' ', ' ', ' ', ' ', ' ', ' ', ' ', ' ', ' ', ' ', ' ', ' ', ' ', ' ', ' ', ' ', ' ', ' ', ' ', ' ', ' ', ' ', ' ', ' ', ' ', ' ', ' ', ' ', ' ', ' ', ' ', ' ', ' ', ' ', ' ', ' ', ' ', ' ', ' ', ' ', ' ', ' ', ' ', ' ', ' ', ' ', ' ', ' ', ' ', ' ', ' ', ' ', ' ', ' ', ' ', ' ', ' ', ' ', ' ', ' ', ' ', ' ', ' ', ' ', ' ', ' ', ' ', ' ', ' ', ' ', ' ', ' ', ' ', ' ', ' ', ' ', ' ', ' ', ' ', ' ', ' ', ' ', ' ', ' ', ' ', ' ', ' ', ' ', ' ', ' ', ' ', ' ', ' ', ' ', ' ', ' ', ' ', ' ', ' ', ' ', ' ', '2', '0', '1', '8', '-', '1', '0', '-', '0', '7', ' ', '1', '4', ':', '4', '8', ' ', '1', '4', ':', '4', '8', '\\n', ' ', ' ', ' ', ' ', ' ', ' ', ' ', ' ', ' ', ' ', ' ', ' ', ' ', ' ', ' ', ' ', ' ', ' ', ' ', ' ', ' ', ' ', ' ', ' ', ' ', ' ', ' ', ' ', ' ', ' ', ' ', ' ', ' ', ' ', ' ', ' ', '\\n', ' ', ' ', ' ', ' ', ' ', ' ', ' ', ' ', ' ', ' ', ' ', ' ', ' ', ' ', ' ', ' ', '\\n', ' ', ' ', ' ', ' ', ' ', ' ', ' ', ' ', ' ', ' ', ' ', ' ', ' ', ' ', ' ', ' ', ' ', ' ', ' ', ' ', ' ', ' ', ' ', ' ', ' ', ' ', ' ', ' ', ' ', ' ', ' ', ' ', ' ', ' ', ' ', ' ', ' ', ' ', ' ', ' ', ' ', ' ', ' ', ' ', ' ', ' ', ' ', ' ', ' ', ' ', ' ', ' ', ' ', ' ', ' ', ' ', ' ', ' ', ' ', ' ', ' ', ' ', ' ', ' ', ' ', ' ', ' ', ' ', ' ', ' ', ' ', ' ', ' ', ' ', ' ', ' ', ' ', ' ', ' ', ' ', ' ', ' ', ' ', ' ', ' ', ' ', ' ', ' ', '※', '모', '의', '토', '익', '비', ' ', '지', '원', ' ', '공', '지', '※', '\\n', ' ', ' ', ' ', ' ', ' ', ' ', ' ', ' ', ' ', ' ', ' ', ' ', ' ', ' ', ' ', ' ', ' ', ' ', ' ', ' ', ' ', ' ', ' ', ' ', ' ', ' ', ' ', ' ', ' ', ' ', ' ', ' ', ' ', ' ', ' ', ' ', ' ', ' ', ' ', ' ', ' ', ' ', ' ', ' ', ' ', ' ', ' ', ' ', ' ', ' ', ' ', ' ', ' ', ' ', ' ', ' ', ' ', ' ', ' ', ' ', ' ', ' ', ' ', ' ', ' ', ' ', ' ', ' ', ' ', ' ', ' ', ' ', ' ', ' ', ' ', ' ', ' ', ' ', ' ', ' ', ' ', ' ', ' ', ' ', ' ', ' ', ' ', ' ', ' ', ' ', ' ', ' ', ' ', ' ', ' ', ' ', ' ', ' ', ' ', ' ', ' ', ' ', ' ', ' ', ' ', ' ', ' ', ' ', ' ', ' ', ' ', ' ', ' ', ' ', ' ', ' ', ' ', ' ', ' ', ' ', ' ', ' ', ' ', ' ', '2', '0', '1', '8', '-', '0', '9', '-', '2', '8', ' ', '0', '9', ':', '3', '7', ' ', '0', '9', ':', '3', '7', '\\n', ' ', ' ', ' ', ' ', ' ', ' ', ' ', ' ', ' ', ' ', ' ', ' ', ' ', ' ', ' ', ' ', ' ', ' ', ' ', ' ', ' ', ' ', ' ', ' ', ' ', ' ', ' ', ' ', ' ', ' ', ' ', ' ', ' ', ' ', ' ', ' ', '\\n', ' ', ' ', ' ', ' ', ' ', ' ', ' ', ' ', ' ', ' ', ' ', ' ', ' ', ' ', ' ', ' ', '\\n', ' ', ' ', ' ', ' ', ' ', ' ', ' ', ' ', ' ', ' ', ' ', ' ', ' ', ' ', ' ', ' ', ' ', ' ', ' ', ' ', ' ', ' ', ' ', ' ', ' ', ' ', ' ', ' ', ' ', ' ', ' ', ' ', ' ', ' ', ' ', ' ', ' ', ' ', ' ', ' ', ' ', ' ', ' ', ' ', ' ', ' ', ' ', ' ', ' ', ' ', ' ', ' ', ' ', ' ', ' ', ' ', ' ', ' ', ' ', ' ', ' ', ' ', ' ', ' ', ' ', ' ', ' ', ' ', ' ', ' ', ' ', ' ', ' ', ' ', ' ', ' ', ' ', ' ', ' ', ' ', ' ', ' ', ' ', ' ', ' ', ' ', ' ', ' ', 'A', 'C', 'M', '-', 'I', 'C', 'P', 'C', ' ', '예', '선', ' ', '신', '청', '기', '간', '이', ' ', '얼', '마', ' ', '안', ' ', '남', '았', '습', '니', '다', '!', '\\n', ' ', ' ', ' ', ' ', ' ', ' ', ' ', ' ', ' ', ' ', ' ', ' ', ' ', ' ', ' ', ' ', ' ', ' ', ' ', ' ', ' ', ' ', ' ', ' ', ' ', ' ', ' ', ' ', ' ', ' ', ' ', ' ', ' ', ' ', ' ', ' ', ' ', ' ', ' ', ' ', ' ', ' ', ' ', ' ', ' ', ' ', ' ', ' ', ' ', ' ', ' ', ' ', ' ', ' ', ' ', ' ', ' ', ' ', ' ', ' ', ' ', ' ', ' ', ' ', ' ', ' ', ' ', ' ', ' ', ' ', ' ', ' ', ' ', ' ', ' ', ' ', ' ', ' ', ' ', ' ', ' ', ' ', ' ', ' ', ' ', ' ', ' ', ' ', ' ', ' ', ' ', ' ', ' ', ' ', ' ', ' ', ' ', ' ', ' ', ' ', ' ', ' ', ' ', ' ', ' ', ' ', ' ', ' ', ' ', ' ', ' ', ' ', ' ', ' ', ' ', ' ', ' ', ' ', ' ', ' ', ' ', ' ', ' ', ' ', '2', '0', '1', '8', '-', '0', '9', '-', '1', '3', ' ', '1', '1', ':', '3', '6', ' ', '1', '1', ':', '3', '6', '\\n', ' ', ' ', ' ', ' ', ' ', ' ', ' ', ' ', ' ', ' ', ' ', ' ', ' ', ' ', ' ', ' ', ' ', ' ', ' ', ' ', ' ', ' ', ' ', ' ', ' ', ' ', ' ', ' ', ' ', ' ', ' ', ' ', ' ', ' ', ' ', ' ', '\\n', ' ', ' ', ' ', ' ', ' ', ' ', ' ', ' ', ' ', ' ', ' ', ' ', ' ', ' ', ' ', ' ', '\\n', ' ', ' ', ' ', ' ', ' ', ' ', ' ', ' ', ' ', ' ', ' ', ' ', ' ', ' ', ' ', ' ', ' ', ' ', ' ', ' ', ' ', ' ', ' ', ' ', ' ', ' ', ' ', ' ', ' ', ' ', ' ', ' ', ' ', ' ', ' ', ' ', ' ', ' ', ' ', ' ', ' ', ' ', ' ', ' ', ' ', ' ', ' ', ' ', ' ', ' ', ' ', ' ', ' ', ' ', ' ', ' ', ' ', ' ', ' ', ' ', ' ', ' ', ' ', ' ', ' ', ' ', ' ', ' ', ' ', ' ', ' ', ' ', ' ', ' ', ' ', ' ', ' ', ' ', ' ', ' ', ' ', ' ', ' ', ' ', ' ', ' ', ' ', ' ', '문', '화', '행', '사', ' ', '취', '소', ' ', '공', '지', '\\n', ' ', ' ', ' ', ' ', ' ', ' ', ' ', ' ', ' ', ' ', ' ', ' ', ' ', ' ', ' ', ' ', ' ', ' ', ' ', ' ', ' ', ' ', ' ', ' ', ' ', ' ', ' ', ' ', ' ', ' ', ' ', ' ', ' ', ' ', ' ', ' ', ' ', ' ', ' ', ' ', ' ', ' ', ' ', ' ', ' ', ' ', ' ', ' ', ' ', ' ', ' ', ' ', ' ', ' ', ' ', ' ', ' ', ' ', ' ', ' ', ' ', ' ', ' ', ' ', ' ', ' ', ' ', ' ', ' ', ' ', ' ', ' ', ' ', ' ', ' ', ' ', ' ', ' ', ' ', ' ', ' ', ' ', ' ', ' ', ' ', ' ', ' ', ' ', ' ', ' ', ' ', ' ', ' ', ' ', ' ', ' ', ' ', ' ', ' ', ' ', ' ', ' ', ' ', ' ', ' ', ' ', ' ', ' ', ' ', ' ', ' ', ' ', ' ', ' ', ' ', ' ', ' ', ' ', ' ', ' ', ' ', ' ', ' ', ' ', '2', '0', '1', '8', '-', '0', '9', '-', '1', '0', ' ', '1', '9', ':', '1', '7', ' ', '1', '9', ':', '1', '7', '\\n', ' ', ' ', ' ', ' ', ' ', ' ', ' ', ' ', ' ', ' ', ' ', ' ', ' ', ' ', ' ', ' ', ' ', ' ', ' ', ' ', ' ', ' ', ' ', ' ', ' ', ' ', ' ', ' ', ' ', ' ', ' ', ' ', ' ', ' ', ' ', ' ', '\\n', ' ', ' ', ' ', ' ', ' ', ' ', ' ', ' ', ' ', ' ', ' ', ' ', '\\n', ' ', ' ', ' ', ' ', ' ', ' ', ' ', ' ', ' ', ' ', ' ', ' ', '\\n', '\\n', '\\n', '\\n', '\\n', '\\t', '\\n', ' ', ' ', ' ', ' ', ' ', ' ', ' ', ' ', ' ', ' ', ' ', ' ', ' ', ' ', ' ', ' ', '취', '업', '게', '시', '판', '\\n', ' ', ' ', ' ', ' ', '\\n', ' ', ' ', ' ', ' ', ' ', ' ', ' ', ' ', ' ', ' ', ' ', ' ', ' ', ' ', ' ', ' ', ' ', ' ', ' ', ' ', '\\n', ' ', ' ', ' ', ' ', ' ', ' ', ' ', ' ', ' ', ' ', ' ', ' ', ' ', ' ', ' ', ' ', ' ', ' ', ' ', ' ', ' ', ' ', ' ', ' ', ' ', ' ', ' ', ' ', ' ', ' ', ' ', ' ', ' ', ' ', ' ', ' ', ' ', ' ', ' ', ' ', ' ', ' ', ' ', ' ', ' ', ' ', ' ', ' ', ' ', ' ', ' ', ' ', ' ', ' ', ' ', ' ', ' ', ' ', ' ', ' ', ' ', ' ', ' ', ' ', ' ', ' ', ' ', ' ', ' ', ' ', ' ', ' ', ' ', ' ', ' ', ' ', ' ', ' ', ' ', ' ', ' ', ' ', ' ', ' ', ' ', ' ', ' ', ' ', '[', '국', '가', '보', '안', '기', '술', '연', '구', '소', ']', ' ', '정', '규', '직', ' ', '채', '용', '\\n', ' ', ' ', ' ', ' ', ' ', ' ', ' ', ' ', ' ', ' ', ' ', ' ', ' ', ' ', ' ', ' ', ' ', ' ', ' ', ' ', ' ', ' ', ' ', ' ', ' ', ' ', ' ', ' ', ' ', ' ', ' ', ' ', ' ', ' ', ' ', ' ', ' ', ' ', ' ', ' ', ' ', ' ', ' ', ' ', ' ', ' ', ' ', ' ', ' ', ' ', ' ', ' ', ' ', ' ', ' ', ' ', ' ', ' ', ' ', ' ', ' ', ' ', ' ', ' ', ' ', ' ', ' ', ' ', ' ', ' ', ' ', ' ', ' ', ' ', ' ', ' ', ' ', ' ', ' ', ' ', ' ', ' ', ' ', ' ', ' ', ' ', ' ', ' ', ' ', ' ', ' ', ' ', ' ', ' ', ' ', ' ', ' ', ' ', ' ', ' ', ' ', ' ', ' ', ' ', ' ', ' ', ' ', ' ', ' ', ' ', ' ', ' ', ' ', ' ', ' ', ' ', ' ', ' ', ' ', ' ', ' ', ' ', ' ', ' ', '2', '0', '1', '8', '-', '1', '0', '-', '0', '4', ' ', '1', '4', ':', '1', '8', ' ', '1', '4', ':', '1', '8', '\\n', ' ', ' ', ' ', ' ', ' ', ' ', ' ', ' ', ' ', ' ', ' ', ' ', ' ', ' ', ' ', ' ', ' ', ' ', ' ', ' ', ' ', ' ', ' ', ' ', ' ', ' ', ' ', ' ', ' ', ' ', ' ', ' ', ' ', ' ', ' ', ' ', '\\n', ' ', ' ', ' ', ' ', ' ', ' ', ' ', ' ', ' ', ' ', ' ', ' ', ' ', ' ', ' ', ' ', '\\n', ' ', ' ', ' ', ' ', ' ', ' ', ' ', ' ', ' ', ' ', ' ', ' ', ' ', ' ', ' ', ' ', ' ', ' ', ' ', ' ', ' ', ' ', ' ', ' ', ' ', ' ', ' ', ' ', ' ', ' ', ' ', ' ', ' ', ' ', ' ', ' ', ' ', ' ', ' ', ' ', ' ', ' ', ' ', ' ', ' ', ' ', ' ', ' ', ' ', ' ', ' ', ' ', ' ', ' ', ' ', ' ', ' ', ' ', ' ', ' ', ' ', ' ', ' ', ' ', ' ', ' ', ' ', ' ', ' ', ' ', ' ', ' ', ' ', ' ', ' ', ' ', ' ', ' ', ' ', ' ', ' ', ' ', ' ', ' ', ' ', ' ', ' ', ' ', '한', '글', '과', '컴', '퓨', '터', '그', '룹', ' ', '2', '0', '1', '8', '년', ' ', '하', '반', '기', ' ', '신', '입', '/', '경', '력', ' ', '공', '채', ' ', '~', '1', '0', '.', '1', '0', '\\n', ' ', ' ', ' ', ' ', ' ', ' ', ' ', ' ', ' ', ' ', ' ', ' ', ' ', ' ', ' ', ' ', ' ', ' ', ' ', ' ', ' ', ' ', ' ', ' ', ' ', ' ', ' ', ' ', ' ', ' ', ' ', ' ', ' ', ' ', ' ', ' ', ' ', ' ', ' ', ' ', ' ', ' ', ' ', ' ', ' ', ' ', ' ', ' ', ' ', ' ', ' ', ' ', ' ', ' ', ' ', ' ', ' ', ' ', ' ', ' ', ' ', ' ', ' ', ' ', ' ', ' ', ' ', ' ', ' ', ' ', ' ', ' ', ' ', ' ', ' ', ' ', ' ', ' ', ' ', ' ', ' ', ' ', ' ', ' ', ' ', ' ', ' ', ' ', ' ', ' ', ' ', ' ', ' ', ' ', ' ', ' ', ' ', ' ', ' ', ' ', ' ', ' ', ' ', ' ', ' ', ' ', ' ', ' ', ' ', ' ', ' ', ' ', ' ', ' ', ' ', ' ', ' ', ' ', ' ', ' ', ' ', ' ', ' ', ' ', '2', '0', '1', '8', '-', '0', '9', '-', '2', '7', ' ', '1', '3', ':', '1', '3', ' ', '1', '3', ':', '1', '3', '\\n', ' ', ' ', ' ', ' ', ' ', ' ', ' ', ' ', ' ', ' ', ' ', ' ', ' ', ' ', ' ', ' ', ' ', ' ', ' ', ' ', ' ', ' ', ' ', ' ', ' ', ' ', ' ', ' ', ' ', ' ', ' ', ' ', ' ', ' ', ' ', ' ', '\\n', ' ', ' ', ' ', ' ', ' ', ' ', ' ', ' ', ' ', ' ', ' ', ' ', ' ', ' ', ' ', ' ', '\\n', ' ', ' ', ' ', ' ', ' ', ' ', ' ', ' ', ' ', ' ', ' ', ' ', ' ', ' ', ' ', ' ', ' ', ' ', ' ', ' ', ' ', ' ', ' ', ' ', ' ', ' ', ' ', ' ', ' ', ' ', ' ', ' ', ' ', ' ', ' ', ' ', ' ', ' ', ' ', ' ', ' ', ' ', ' ', ' ', ' ', ' ', ' ', ' ', ' ', ' ', ' ', ' ', ' ', ' ', ' ', ' ', ' ', ' ', ' ', ' ', ' ', ' ', ' ', ' ', ' ', ' ', ' ', ' ', ' ', ' ', ' ', ' ', ' ', ' ', ' ', ' ', ' ', ' ', ' ', ' ', ' ', ' ', ' ', ' ', ' ', ' ', ' ', ' ', '[', '구', '인', ']', '천', '안', ' ', '충', '무', '병', '원', ' ', '전', '산', '실', '\\n', ' ', ' ', ' ', ' ', ' ', ' ', ' ', ' ', ' ', ' ', ' ', ' ', ' ', ' ', ' ', ' ', ' ', ' ', ' ', ' ', ' ', ' ', ' ', ' ', ' ', ' ', ' ', ' ', ' ', ' ', ' ', ' ', ' ', ' ', ' ', ' ', ' ', ' ', ' ', ' ', ' ', ' ', ' ', ' ', ' ', ' ', ' ', ' ', ' ', ' ', ' ', ' ', ' ', ' ', ' ', ' ', ' ', ' ', ' ', ' ', ' ', ' ', ' ', ' ', ' ', ' ', ' ', ' ', ' ', ' ', ' ', ' ', ' ', ' ', ' ', ' ', ' ', ' ', ' ', ' ', ' ', ' ', ' ', ' ', ' ', ' ', ' ', ' ', ' ', ' ', ' ', ' ', ' ', ' ', ' ', ' ', ' ', ' ', ' ', ' ', ' ', ' ', ' ', ' ', ' ', ' ', ' ', ' ', ' ', ' ', ' ', ' ', ' ', ' ', ' ', ' ', ' ', ' ', ' ', ' ', ' ', ' ', ' ', ' ', '2', '0', '1', '8', '-', '0', '9', '-', '1', '8', ' ', '1', '5', ':', '2', '5', ' ', '1', '5', ':', '2', '5', '\\n', ' ', ' ', ' ', ' ', ' ', ' ', ' ', ' ', ' ', ' ', ' ', ' ', ' ', ' ', ' ', ' ', ' ', ' ', ' ', ' ', ' ', ' ', ' ', ' ', ' ', ' ', ' ', ' ', ' ', ' ', ' ', ' ', ' ', ' ', ' ', ' ', '\\n', ' ', ' ', ' ', ' ', ' ', ' ', ' ', ' ', ' ', ' ', ' ', ' ', ' ', ' ', ' ', ' ', '\\n', ' ', ' ', ' ', ' ', ' ', ' ', ' ', ' ', ' ', ' ', ' ', ' ', ' ', ' ', ' ', ' ', ' ', ' ', ' ', ' ', ' ', ' ', ' ', ' ', ' ', ' ', ' ', ' ', ' ', ' ', ' ', ' ', ' ', ' ', ' ', ' ', ' ', ' ', ' ', ' ', ' ', ' ', ' ', ' ', ' ', ' ', ' ', ' ', ' ', ' ', ' ', ' ', ' ', ' ', ' ', ' ', ' ', ' ', ' ', ' ', ' ', ' ', ' ', ' ', ' ', ' ', ' ', ' ', ' ', ' ', ' ', ' ', ' ', ' ', ' ', ' ', ' ', ' ', ' ', ' ', ' ', ' ', ' ', ' ', ' ', ' ', ' ', ' ', '[', '정', '부', '교', '육', ']', ' ', 'K', '-', 'S', 'h', 'i', 'e', 'l', 'd', ' ', '주', '니', '어', ' ', '교', '육', '생', ' ', '모', '집', '(', '정', '보', '보', '호', ')', ' ', '~', '9', '.', '5', '\\n', ' ', ' ', ' ', ' ', ' ', ' ', ' ', ' ', ' ', ' ', ' ', ' ', ' ', ' ', ' ', ' ', ' ', ' ', ' ', ' ', ' ', ' ', ' ', ' ', ' ', ' ', ' ', ' ', ' ', ' ', ' ', ' ', ' ', ' ', ' ', ' ', ' ', ' ', ' ', ' ', ' ', ' ', ' ', ' ', ' ', ' ', ' ', ' ', ' ', ' ', ' ', ' ', ' ', ' ', ' ', ' ', ' ', ' ', ' ', ' ', ' ', ' ', ' ', ' ', ' ', ' ', ' ', ' ', ' ', ' ', ' ', ' ', ' ', ' ', ' ', ' ', ' ', ' ', ' ', ' ', ' ', ' ', ' ', ' ', ' ', ' ', ' ', ' ', ' ', ' ', ' ', ' ', ' ', ' ', ' ', ' ', ' ', ' ', ' ', ' ', ' ', ' ', ' ', ' ', ' ', ' ', ' ', ' ', ' ', ' ', ' ', ' ', ' ', ' ', ' ', ' ', ' ', ' ', ' ', ' ', ' ', ' ', ' ', ' ', '2', '0', '1', '8', '-', '0', '9', '-', '0', '3', ' ', '0', '7', ':', '5', '3', ' ', '0', '7', ':', '5', '3', '\\n', ' ', ' ', ' ', ' ', ' ', ' ', ' ', ' ', ' ', ' ', ' ', ' ', ' ', ' ', ' ', ' ', ' ', ' ', ' ', ' ', ' ', ' ', ' ', ' ', ' ', ' ', ' ', ' ', ' ', ' ', ' ', ' ', ' ', ' ', ' ', ' ', '\\n', ' ', ' ', ' ', ' ', ' ', ' ', ' ', ' ', ' ', ' ', ' ', ' ', ' ', ' ', ' ', ' ', '\\n', ' ', ' ', ' ', ' ', ' ', ' ', ' ', ' ', ' ', ' ', ' ', ' ', ' ', ' ', ' ', ' ', ' ', ' ', ' ', ' ', ' ', ' ', ' ', ' ', ' ', ' ', ' ', ' ', ' ', ' ', ' ', ' ', ' ', ' ', ' ', ' ', ' ', ' ', ' ', ' ', ' ', ' ', ' ', ' ', ' ', ' ', ' ', ' ', ' ', ' ', ' ', ' ', ' ', ' ', ' ', ' ', ' ', ' ', ' ', ' ', ' ', ' ', ' ', ' ', ' ', ' ', ' ', ' ', ' ', ' ', ' ', ' ', ' ', ' ', ' ', ' ', ' ', ' ', ' ', ' ', ' ', ' ', ' ', ' ', ' ', ' ', ' ', ' ', '인', '천', ']', ' ', '에', '이', '스', '테', '크', '놀', '로', '지', ' ', '연', '구', '개', '발', '인', '력', ' ', '모', '집', ' ', '~', ' ', '2', '0', '1', '8', '.', '9', '.', '9', '.', '.', '.', '\\n', ' ', ' ', ' ', ' ', ' ', ' ', ' ', ' ', ' ', ' ', ' ', ' ', ' ', ' ', ' ', ' ', ' ', ' ', ' ', ' ', ' ', ' ', ' ', ' ', ' ', ' ', ' ', ' ', ' ', ' ', ' ', ' ', ' ', ' ', ' ', ' ', ' ', ' ', ' ', ' ', ' ', ' ', ' ', ' ', ' ', ' ', ' ', ' ', ' ', ' ', ' ', ' ', ' ', ' ', ' ', ' ', ' ', ' ', ' ', ' ', ' ', ' ', ' ', ' ', ' ', ' ', ' ', ' ', ' ', ' ', ' ', ' ', ' ', ' ', ' ', ' ', ' ', ' ', ' ', ' ', ' ', ' ', ' ', ' ', ' ', ' ', ' ', ' ', ' ', ' ', ' ', ' ', ' ', ' ', ' ', ' ', ' ', ' ', ' ', ' ', ' ', ' ', ' ', ' ', ' ', ' ', ' ', ' ', ' ', ' ', ' ', ' ', ' ', ' ', ' ', ' ', ' ', ' ', ' ', ' ', ' ', ' ', ' ', ' ', '2', '0', '1', '8', '-', '0', '8', '-', '2', '9', ' ', '0', '9', ':', '0', '6', ' ', '0', '9', ':', '0', '6', '\\n', ' ', ' ', ' ', ' ', ' ', ' ', ' ', ' ', ' ', ' ', ' ', ' ', ' ', ' ', ' ', ' ', ' ', ' ', ' ', ' ', ' ', ' ', ' ', ' ', ' ', ' ', ' ', ' ', ' ', ' ', ' ', ' ', ' ', ' ', ' ', ' ', '\\n', ' ', ' ', ' ', ' ', ' ', ' ', ' ', ' ', ' ', ' ', ' ', ' ', '\\n', ' ', ' ', ' ', ' ', ' ', ' ', ' ', ' ', ' ', ' ', ' ', ' ', '\\n', '\\n', '\\n', '\\n', '\\n', '\\t', '\\n', ' ', ' ', ' ', ' ', ' ', ' ', ' ', ' ', ' ', ' ', ' ', ' ', ' ', ' ', ' ', ' ', 'P', 'l', 'a', 't', 'u', 'm', '\\n', ' ', ' ', ' ', ' ', '\\n', ' ', ' ', ' ', ' ', ' ', ' ', ' ', ' ', ' ', ' ', ' ', ' ', ' ', ' ', ' ', ' ', ' ', ' ', ' ', ' ', '\\n', ' ', ' ', ' ', ' ', ' ', ' ', ' ', ' ', ' ', ' ', ' ', ' ', ' ', ' ', ' ', ' ', ' ', ' ', ' ', ' ', ' ', ' ', ' ', ' ', ' ', ' ', ' ', ' ', ' ', ' ', ' ', ' ', ' ', ' ', ' ', ' ', ' ', ' ', ' ', ' ', ' ', ' ', ' ', ' ', ' ', ' ', ' ', ' ', ' ', ' ', ' ', ' ', ' ', ' ', ' ', ' ', ' ', ' ', ' ', ' ', ' ', ' ', ' ', ' ', ' ', ' ', ' ', ' ', ' ', ' ', ' ', ' ', ' ', ' ', ' ', ' ', ' ', ' ', ' ', ' ', ' ', ' ', ' ', ' ', ' ', ' ', ' ', ' ', '네', '이', '버', ',', ' ', '포', '춘', '이', ' ', '선', '정', '한', ' ', '‘', '미', '래', '유', '망', '기', '업', '’', ' ', '6', '위', '에', ' ', '선', '정', '\\n', ' ', ' ', ' ', ' ', ' ', ' ', ' ', ' ', ' ', ' ', ' ', ' ', ' ', ' ', ' ', ' ', ' ', ' ', ' ', ' ', ' ', ' ', ' ', ' ', ' ', ' ', ' ', ' ', ' ', ' ', ' ', ' ', ' ', ' ', ' ', ' ', ' ', ' ', ' ', ' ', ' ', ' ', ' ', ' ', ' ', ' ', ' ', ' ', ' ', ' ', ' ', ' ', ' ', ' ', ' ', ' ', ' ', ' ', ' ', ' ', ' ', ' ', ' ', ' ', ' ', ' ', ' ', ' ', ' ', ' ', ' ', ' ', ' ', ' ', ' ', ' ', ' ', ' ', ' ', ' ', ' ', ' ', ' ', ' ', '\\n', ' ', ' ', ' ', ' ', ' ', ' ', ' ', ' ', ' ', ' ', ' ', ' ', ' ', ' ', ' ', ' ', ' ', ' ', ' ', ' ', ' ', ' ', ' ', ' ', ' ', ' ', ' ', ' ', ' ', ' ', ' ', ' ', ' ', ' ', ' ', ' ', ' ', ' ', ' ', ' ', ' ', ' ', ' ', ' ', ' ', ' ', ' ', ' ', ' ', ' ', ' ', ' ', ' ', ' ', ' ', ' ', ' ', ' ', ' ', ' ', ' ', ' ', ' ', ' ', ' ', ' ', ' ', ' ', ' ', ' ', ' ', ' ', ' ', ' ', ' ', ' ', ' ', ' ', ' ', ' ', ' ', ' ', ' ', ' ', '2', '0', '1', '8', '-', '1', '0', '-', '1', '9', ' ', '1', '4', ':', '3', '0', ' ', '1', '4', ':', '3', '0', '\\n', ' ', ' ', ' ', ' ', ' ', ' ', ' ', ' ', ' ', ' ', ' ', ' ', ' ', ' ', ' ', ' ', ' ', ' ', ' ', ' ', ' ', ' ', ' ', ' ', ' ', ' ', ' ', ' ', ' ', ' ', ' ', ' ', ' ', ' ', ' ', ' ', ' ', ' ', ' ', ' ', ' ', ' ', ' ', ' ', ' ', ' ', ' ', ' ', ' ', ' ', ' ', ' ', ' ', ' ', ' ', ' ', ' ', ' ', ' ', ' ', ' ', ' ', ' ', ' ', '\\n', ' ', ' ', ' ', ' ', ' ', ' ', ' ', ' ', ' ', ' ', ' ', ' ', ' ', ' ', ' ', ' ', '\\n', ' ', ' ', ' ', ' ', ' ', ' ', ' ', ' ', ' ', ' ', ' ', ' ', ' ', ' ', ' ', ' ', ' ', ' ', ' ', ' ', ' ', ' ', ' ', ' ', ' ', ' ', ' ', ' ', ' ', ' ', ' ', ' ', ' ', ' ', ' ', ' ', ' ', ' ', ' ', ' ', ' ', ' ', ' ', ' ', ' ', ' ', ' ', ' ', ' ', ' ', ' ', ' ', ' ', ' ', ' ', ' ', ' ', ' ', ' ', ' ', ' ', ' ', ' ', ' ', ' ', ' ', ' ', ' ', ' ', ' ', ' ', ' ', ' ', ' ', ' ', ' ', ' ', ' ', ' ', ' ', ' ', ' ', ' ', ' ', ' ', ' ', ' ', ' ', '1', '0', '월', ' ', '넷', '째', ' ', '주', ' ', '스', '타', '트', '업', ' ', '이', '벤', '트', '(', '1', '0', '2', '2', '~', '1', '0', '2', '8', ')', '\\n', ' ', ' ', ' ', ' ', ' ', ' ', ' ', ' ', ' ', ' ', ' ', ' ', ' ', ' ', ' ', ' ', ' ', ' ', ' ', ' ', ' ', ' ', ' ', ' ', ' ', ' ', ' ', ' ', ' ', ' ', ' ', ' ', ' ', ' ', ' ', ' ', ' ', ' ', ' ', ' ', ' ', ' ', ' ', ' ', ' ', ' ', ' ', ' ', ' ', ' ', ' ', ' ', ' ', ' ', ' ', ' ', ' ', ' ', ' ', ' ', ' ', ' ', ' ', ' ', ' ', ' ', ' ', ' ', ' ', ' ', ' ', ' ', ' ', ' ', ' ', ' ', ' ', ' ', ' ', ' ', ' ', ' ', ' ', ' ', '\\n', ' ', ' ', ' ', ' ', ' ', ' ', ' ', ' ', ' ', ' ', ' ', ' ', ' ', ' ', ' ', ' ', ' ', ' ', ' ', ' ', ' ', ' ', ' ', ' ', ' ', ' ', ' ', ' ', ' ', ' ', ' ', ' ', ' ', ' ', ' ', ' ', ' ', ' ', ' ', ' ', ' ', ' ', ' ', ' ', ' ', ' ', ' ', ' ', ' ', ' ', ' ', ' ', ' ', ' ', ' ', ' ', ' ', ' ', ' ', ' ', ' ', ' ', ' ', ' ', ' ', ' ', ' ', ' ', ' ', ' ', ' ', ' ', ' ', ' ', ' ', ' ', ' ', ' ', ' ', ' ', ' ', ' ', ' ', ' ', '2', '0', '1', '8', '-', '1', '0', '-', '1', '9', ' ', '1', '0', ':', '5', '9', ' ', '1', '0', ':', '5', '9', '\\n', ' ', ' ', ' ', ' ', ' ', ' ', ' ', ' ', ' ', ' ', ' ', ' ', ' ', ' ', ' ', ' ', ' ', ' ', ' ', ' ', ' ', ' ', ' ', ' ', ' ', ' ', ' ', ' ', ' ', ' ', ' ', ' ', ' ', ' ', ' ', ' ', ' ', ' ', ' ', ' ', ' ', ' ', ' ', ' ', ' ', ' ', ' ', ' ', ' ', ' ', ' ', ' ', ' ', ' ', ' ', ' ', ' ', ' ', ' ', ' ', ' ', ' ', ' ', ' ', '\\n', ' ', ' ', ' ', ' ', ' ', ' ', ' ', ' ', ' ', ' ', ' ', ' ', ' ', ' ', ' ', ' ', '\\n', ' ', ' ', ' ', ' ', ' ', ' ', ' ', ' ', ' ', ' ', ' ', ' ', ' ', ' ', ' ', ' ', ' ', ' ', ' ', ' ', ' ', ' ', ' ', ' ', ' ', ' ', ' ', ' ', ' ', ' ', ' ', ' ', ' ', ' ', ' ', ' ', ' ', ' ', ' ', ' ', ' ', ' ', ' ', ' ', ' ', ' ', ' ', ' ', ' ', ' ', ' ', ' ', ' ', ' ', ' ', ' ', ' ', ' ', ' ', ' ', ' ', ' ', ' ', ' ', ' ', ' ', ' ', ' ', ' ', ' ', ' ', ' ', ' ', ' ', ' ', ' ', ' ', ' ', ' ', ' ', ' ', ' ', ' ', ' ', ' ', ' ', ' ', ' ', '[', '1', '0', '월', ' ', '1', '9', '일', ' ', '스', '타', '트', '업', ' ', '비', '즈', '니', '스', ' ', '동', '향', ']', '두', '브', '레', '인', ',', '위', '드', '이', '노', '.', '.', '.', '\\n', ' ', ' ', ' ', ' ', ' ', ' ', ' ', ' ', ' ', ' ', ' ', ' ', ' ', ' ', ' ', ' ', ' ', ' ', ' ', ' ', ' ', ' ', ' ', ' ', ' ', ' ', ' ', ' ', ' ', ' ', ' ', ' ', ' ', ' ', ' ', ' ', ' ', ' ', ' ', ' ', ' ', ' ', ' ', ' ', ' ', ' ', ' ', ' ', ' ', ' ', ' ', ' ', ' ', ' ', ' ', ' ', ' ', ' ', ' ', ' ', ' ', ' ', ' ', ' ', ' ', ' ', ' ', ' ', ' ', ' ', ' ', ' ', ' ', ' ', ' ', ' ', ' ', ' ', ' ', ' ', ' ', ' ', ' ', ' ', '\\n', ' ', ' ', ' ', ' ', ' ', ' ', ' ', ' ', ' ', ' ', ' ', ' ', ' ', ' ', ' ', ' ', ' ', ' ', ' ', ' ', ' ', ' ', ' ', ' ', ' ', ' ', ' ', ' ', ' ', ' ', ' ', ' ', ' ', ' ', ' ', ' ', ' ', ' ', ' ', ' ', ' ', ' ', ' ', ' ', ' ', ' ', ' ', ' ', ' ', ' ', ' ', ' ', ' ', ' ', ' ', ' ', ' ', ' ', ' ', ' ', ' ', ' ', ' ', ' ', ' ', ' ', ' ', ' ', ' ', ' ', ' ', ' ', ' ', ' ', ' ', ' ', ' ', ' ', ' ', ' ', ' ', ' ', ' ', ' ', '2', '0', '1', '8', '-', '1', '0', '-', '1', '9', ' ', '1', '0', ':', '0', '6', ' ', '1', '0', ':', '0', '6', '\\n', ' ', ' ', ' ', ' ', ' ', ' ', ' ', ' ', ' ', ' ', ' ', ' ', ' ', ' ', ' ', ' ', ' ', ' ', ' ', ' ', ' ', ' ', ' ', ' ', ' ', ' ', ' ', ' ', ' ', ' ', ' ', ' ', ' ', ' ', ' ', ' ', ' ', ' ', ' ', ' ', ' ', ' ', ' ', ' ', ' ', ' ', ' ', ' ', ' ', ' ', ' ', ' ', ' ', ' ', ' ', ' ', ' ', ' ', ' ', ' ', ' ', ' ', ' ', ' ', '\\n', ' ', ' ', ' ', ' ', ' ', ' ', ' ', ' ', ' ', ' ', ' ', ' ', ' ', ' ', ' ', ' ', '\\n', ' ', ' ', ' ', ' ', ' ', ' ', ' ', ' ', ' ', ' ', ' ', ' ', ' ', ' ', ' ', ' ', ' ', ' ', ' ', ' ', ' ', ' ', ' ', ' ', ' ', ' ', ' ', ' ', ' ', ' ', ' ', ' ', ' ', ' ', ' ', ' ', ' ', ' ', ' ', ' ', ' ', ' ', ' ', ' ', ' ', ' ', ' ', ' ', ' ', ' ', ' ', ' ', ' ', ' ', ' ', ' ', ' ', ' ', ' ', ' ', ' ', ' ', ' ', ' ', ' ', ' ', ' ', ' ', ' ', ' ', ' ', ' ', ' ', ' ', ' ', ' ', ' ', ' ', ' ', ' ', ' ', ' ', ' ', ' ', ' ', ' ', ' ', ' ', '호', '텔', ' ', '연', '회', '장', ' ', '예', '약', ' ', '플', '랫', '폼', ' ', '‘', '루', '북', '’', ',', ' ', '1', '0', '월', ' ', '2', '2', '일', ' ', '베', '타', ' ', '서', '비', '.', '.', '.', '\\n', ' ', ' ', ' ', ' ', ' ', ' ', ' ', ' ', ' ', ' ', ' ', ' ', ' ', ' ', ' ', ' ', ' ', ' ', ' ', ' ', ' ', ' ', ' ', ' ', ' ', ' ', ' ', ' ', ' ', ' ', ' ', ' ', ' ', ' ', ' ', ' ', ' ', ' ', ' ', ' ', ' ', ' ', ' ', ' ', ' ', ' ', ' ', ' ', ' ', ' ', ' ', ' ', ' ', ' ', ' ', ' ', ' ', ' ', ' ', ' ', ' ', ' ', ' ', ' ', ' ', ' ', ' ', ' ', ' ', ' ', ' ', ' ', ' ', ' ', ' ', ' ', ' ', ' ', ' ', ' ', ' ', ' ', ' ', ' ', '\\n', ' ', ' ', ' ', ' ', ' ', ' ', ' ', ' ', ' ', ' ', ' ', ' ', ' ', ' ', ' ', ' ', ' ', ' ', ' ', ' ', ' ', ' ', ' ', ' ', ' ', ' ', ' ', ' ', ' ', ' ', ' ', ' ', ' ', ' ', ' ', ' ', ' ', ' ', ' ', ' ', ' ', ' ', ' ', ' ', ' ', ' ', ' ', ' ', ' ', ' ', ' ', ' ', ' ', ' ', ' ', ' ', ' ', ' ', ' ', ' ', ' ', ' ', ' ', ' ', ' ', ' ', ' ', ' ', ' ', ' ', ' ', ' ', ' ', ' ', ' ', ' ', ' ', ' ', ' ', ' ', ' ', ' ', ' ', ' ', '2', '0', '1', '8', '-', '1', '0', '-', '1', '9', ' ', '0', '9', ':', '5', '7', ' ', '0', '9', ':', '5', '7', '\\n', ' ', ' ', ' ', ' ', ' ', ' ', ' ', ' ', ' ', ' ', ' ', ' ', ' ', ' ', ' ', ' ', ' ', ' ', ' ', ' ', ' ', ' ', ' ', ' ', ' ', ' ', ' ', ' ', ' ', ' ', ' ', ' ', ' ', ' ', ' ', ' ', ' ', ' ', ' ', ' ', ' ', ' ', ' ', ' ', ' ', ' ', ' ', ' ', ' ', ' ', ' ', ' ', ' ', ' ', ' ', ' ', ' ', ' ', ' ', ' ', ' ', ' ', ' ', ' ', '\\n', ' ', ' ', ' ', ' ', ' ', ' ', ' ', ' ', ' ', ' ', ' ', ' ', ' ', ' ', ' ', ' ', '\\n', ' ', ' ', ' ', ' ', ' ', ' ', ' ', ' ', ' ', ' ', ' ', ' ', ' ', ' ', ' ', ' ', ' ', ' ', ' ', ' ', ' ', ' ', ' ', ' ', ' ', ' ', ' ', ' ', ' ', ' ', ' ', ' ', ' ', ' ', ' ', ' ', ' ', ' ', ' ', ' ', ' ', ' ', ' ', ' ', ' ', ' ', ' ', ' ', ' ', ' ', ' ', ' ', ' ', ' ', ' ', ' ', ' ', ' ', ' ', ' ', ' ', ' ', ' ', ' ', ' ', ' ', ' ', ' ', ' ', ' ', ' ', ' ', ' ', ' ', ' ', ' ', ' ', ' ', ' ', ' ', ' ', ' ', ' ', ' ', ' ', ' ', ' ', ' ', '징', '둥', '닷', '컴', ',', ' ', '스', '마', '트', ' ', '도', '시', ' ', '물', '류', ' ', '시', '스', '템', ' ', '구', '축', ' ', '위', '한', ' ', '연', '구', '소', ' ', '.', '.', '.', '\\n', ' ', ' ', ' ', ' ', ' ', ' ', ' ', ' ', ' ', ' ', ' ', ' ', ' ', ' ', ' ', ' ', ' ', ' ', ' ', ' ', ' ', ' ', ' ', ' ', ' ', ' ', ' ', ' ', ' ', ' ', ' ', ' ', ' ', ' ', ' ', ' ', ' ', ' ', ' ', ' ', ' ', ' ', ' ', ' ', ' ', ' ', ' ', ' ', ' ', ' ', ' ', ' ', ' ', ' ', ' ', ' ', ' ', ' ', ' ', ' ', ' ', ' ', ' ', ' ', ' ', ' ', ' ', ' ', ' ', ' ', ' ', ' ', ' ', ' ', ' ', ' ', ' ', ' ', ' ', ' ', ' ', ' ', ' ', ' ', '\\n', ' ', ' ', ' ', ' ', ' ', ' ', ' ', ' ', ' ', ' ', ' ', ' ', ' ', ' ', ' ', ' ', ' ', ' ', ' ', ' ', ' ', ' ', ' ', ' ', ' ', ' ', ' ', ' ', ' ', ' ', ' ', ' ', ' ', ' ', ' ', ' ', ' ', ' ', ' ', ' ', ' ', ' ', ' ', ' ', ' ', ' ', ' ', ' ', ' ', ' ', ' ', ' ', ' ', ' ', ' ', ' ', ' ', ' ', ' ', ' ', ' ', ' ', ' ', ' ', ' ', ' ', ' ', ' ', ' ', ' ', ' ', ' ', ' ', ' ', ' ', ' ', ' ', ' ', ' ', ' ', ' ', ' ', ' ', ' ', '2', '0', '1', '8', '-', '1', '0', '-', '1', '9', ' ', '0', '9', ':', '4', '8', ' ', '0', '9', ':', '4', '8', '\\n', ' ', ' ', ' ', ' ', ' ', ' ', ' ', ' ', ' ', ' ', ' ', ' ', ' ', ' ', ' ', ' ', ' ', ' ', ' ', ' ', ' ', ' ', ' ', ' ', ' ', ' ', ' ', ' ', ' ', ' ', ' ', ' ', ' ', ' ', ' ', ' ', ' ', ' ', ' ', ' ', ' ', ' ', ' ', ' ', ' ', ' ', ' ', ' ', ' ', ' ', ' ', ' ', ' ', ' ', ' ', ' ', ' ', ' ', ' ', ' ', ' ', ' ', ' ', ' ', '\\n', ' ', ' ', ' ', ' ', ' ', ' ', ' ', ' ', ' ', ' ', ' ', ' ', '\\n', ' ', ' ', ' ', ' ', ' ', ' ', ' ', ' ', ' ', ' ', ' ', ' ', '\\n', '\\n', '\\n', '\\n', '\\n', '\\t', '\\n', ' ', ' ', ' ', ' ', ' ', ' ', ' ', ' ', ' ', ' ', ' ', ' ', ' ', ' ', ' ', ' ', '전', '자', '신', '문', '\\n', ' ', ' ', ' ', ' ', '\\n', ' ', ' ', ' ', ' ', ' ', ' ', ' ', ' ', ' ', ' ', ' ', ' ', ' ', ' ', ' ', ' ', ' ', ' ', ' ', ' ', '\\n', ' ', ' ', ' ', ' ', ' ', ' ', ' ', ' ', ' ', ' ', ' ', ' ', ' ', ' ', ' ', ' ', ' ', ' ', ' ', ' ', ' ', ' ', ' ', ' ', ' ', ' ', ' ', ' ', ' ', ' ', ' ', ' ', ' ', ' ', ' ', ' ', ' ', ' ', ' ', ' ', ' ', ' ', ' ', ' ', ' ', ' ', ' ', ' ', ' ', ' ', ' ', ' ', ' ', ' ', ' ', ' ', ' ', ' ', ' ', ' ', ' ', ' ', ' ', ' ', ' ', ' ', ' ', ' ', ' ', ' ', ' ', ' ', ' ', ' ', ' ', ' ', ' ', ' ', ' ', ' ', ' ', ' ', ' ', ' ', ' ', ' ', ' ', ' ', '최', '태', '원', ' ', '회', '장', ' ', '“', '사', '회', '적', '가', '치', ' ', '추', '구', '로', ' ', 'B', 'M', ' ', '혁', '신', ' ', '실', '행', '력', ' ', '.', '.', '.', '\\n', ' ', ' ', ' ', ' ', ' ', ' ', ' ', ' ', ' ', ' ', ' ', ' ', ' ', ' ', ' ', ' ', ' ', ' ', ' ', ' ', ' ', ' ', ' ', ' ', ' ', ' ', ' ', ' ', ' ', ' ', ' ', ' ', ' ', ' ', ' ', ' ', ' ', ' ', ' ', ' ', ' ', ' ', ' ', ' ', ' ', ' ', ' ', ' ', ' ', ' ', ' ', ' ', ' ', ' ', ' ', ' ', ' ', ' ', ' ', ' ', ' ', ' ', ' ', ' ', ' ', ' ', ' ', ' ', ' ', ' ', ' ', ' ', ' ', ' ', ' ', ' ', ' ', ' ', ' ', ' ', ' ', ' ', ' ', ' ', '\\n', ' ', ' ', ' ', ' ', ' ', ' ', ' ', ' ', ' ', ' ', ' ', ' ', ' ', ' ', ' ', ' ', ' ', ' ', ' ', ' ', ' ', ' ', ' ', ' ', ' ', ' ', ' ', ' ', ' ', ' ', ' ', ' ', ' ', ' ', ' ', ' ', ' ', ' ', ' ', ' ', ' ', ' ', ' ', ' ', ' ', ' ', ' ', ' ', ' ', ' ', ' ', ' ', ' ', ' ', ' ', ' ', ' ', ' ', ' ', ' ', ' ', ' ', ' ', ' ', ' ', ' ', ' ', ' ', ' ', ' ', ' ', ' ', ' ', ' ', ' ', ' ', ' ', ' ', ' ', ' ', ' ', ' ', ' ', ' ', '2', '0', '1', '8', '-', '1', '0', '-', '1', '9', ' ', '1', '8', ':', '0', '0', ' ', '1', '8', ':', '0', '0', '\\n', ' ', ' ', ' ', ' ', ' ', ' ', ' ', ' ', ' ', ' ', ' ', ' ', ' ', ' ', ' ', ' ', ' ', ' ', ' ', ' ', ' ', ' ', ' ', ' ', ' ', ' ', ' ', ' ', ' ', ' ', ' ', ' ', ' ', ' ', ' ', ' ', '\\n', ' ', ' ', ' ', ' ', ' ', ' ', ' ', ' ', ' ', ' ', ' ', ' ', ' ', ' ', ' ', ' ', '\\n', ' ', ' ', ' ', ' ', ' ', ' ', ' ', ' ', ' ', ' ', ' ', ' ', ' ', ' ', ' ', ' ', ' ', ' ', ' ', ' ', ' ', ' ', ' ', ' ', ' ', ' ', ' ', ' ', ' ', ' ', ' ', ' ', ' ', ' ', ' ', ' ', ' ', ' ', ' ', ' ', ' ', ' ', ' ', ' ', ' ', ' ', ' ', ' ', ' ', ' ', ' ', ' ', ' ', ' ', ' ', ' ', ' ', ' ', ' ', ' ', ' ', ' ', ' ', ' ', ' ', ' ', ' ', ' ', ' ', ' ', ' ', ' ', ' ', ' ', ' ', ' ', ' ', ' ', ' ', ' ', ' ', ' ', ' ', ' ', ' ', ' ', ' ', ' ', 'S', 'K', '텔', '레', '콤', ',', ' ', \"'\", 'S', 'K', 'T', ' ', 'T', 'E', 'B', ' ', '콘', '퍼', '런', '스', \"'\", ' ', '개', '최', '.', '.', '.', 'I', 'C', 'T', ' ', '기', '술', '·', '.', '.', '.', '\\n', ' ', ' ', ' ', ' ', ' ', ' ', ' ', ' ', ' ', ' ', ' ', ' ', ' ', ' ', ' ', ' ', ' ', ' ', ' ', ' ', ' ', ' ', ' ', ' ', ' ', ' ', ' ', ' ', ' ', ' ', ' ', ' ', ' ', ' ', ' ', ' ', ' ', ' ', ' ', ' ', ' ', ' ', ' ', ' ', ' ', ' ', ' ', ' ', ' ', ' ', ' ', ' ', ' ', ' ', ' ', ' ', ' ', ' ', ' ', ' ', ' ', ' ', ' ', ' ', ' ', ' ', ' ', ' ', ' ', ' ', ' ', ' ', ' ', ' ', ' ', ' ', ' ', ' ', ' ', ' ', ' ', ' ', ' ', ' ', '\\n', ' ', ' ', ' ', ' ', ' ', ' ', ' ', ' ', ' ', ' ', ' ', ' ', ' ', ' ', ' ', ' ', ' ', ' ', ' ', ' ', ' ', ' ', ' ', ' ', ' ', ' ', ' ', ' ', ' ', ' ', ' ', ' ', ' ', ' ', ' ', ' ', ' ', ' ', ' ', ' ', ' ', ' ', ' ', ' ', ' ', ' ', ' ', ' ', ' ', ' ', ' ', ' ', ' ', ' ', ' ', ' ', ' ', ' ', ' ', ' ', ' ', ' ', ' ', ' ', ' ', ' ', ' ', ' ', ' ', ' ', ' ', ' ', ' ', ' ', ' ', ' ', ' ', ' ', ' ', ' ', ' ', ' ', ' ', ' ', '2', '0', '1', '8', '-', '1', '0', '-', '1', '9', ' ', '1', '6', ':', '1', '9', ' ', '1', '6', ':', '1', '9', '\\n', ' ', ' ', ' ', ' ', ' ', ' ', ' ', ' ', ' ', ' ', ' ', ' ', ' ', ' ', ' ', ' ', ' ', ' ', ' ', ' ', ' ', ' ', ' ', ' ', ' ', ' ', ' ', ' ', ' ', ' ', ' ', ' ', ' ', ' ', ' ', ' ', '\\n', ' ', ' ', ' ', ' ', ' ', ' ', ' ', ' ', ' ', ' ', ' ', ' ', ' ', ' ', ' ', ' ', '\\n', ' ', ' ', ' ', ' ', ' ', ' ', ' ', ' ', ' ', ' ', ' ', ' ', ' ', ' ', ' ', ' ', ' ', ' ', ' ', ' ', ' ', ' ', ' ', ' ', ' ', ' ', ' ', ' ', ' ', ' ', ' ', ' ', ' ', ' ', ' ', ' ', ' ', ' ', ' ', ' ', ' ', ' ', ' ', ' ', ' ', ' ', ' ', ' ', ' ', ' ', ' ', ' ', ' ', ' ', ' ', ' ', ' ', ' ', ' ', ' ', ' ', ' ', ' ', ' ', ' ', ' ', ' ', ' ', ' ', ' ', ' ', ' ', ' ', ' ', ' ', ' ', ' ', ' ', ' ', ' ', ' ', ' ', ' ', ' ', ' ', ' ', ' ', ' ', '[', '인', '사', ']', '과', '학', '기', '술', '정', '보', '통', '신', '부', '\\n', ' ', ' ', ' ', ' ', ' ', ' ', ' ', ' ', ' ', ' ', ' ', ' ', ' ', ' ', ' ', ' ', ' ', ' ', ' ', ' ', ' ', ' ', ' ', ' ', ' ', ' ', ' ', ' ', ' ', ' ', ' ', ' ', ' ', ' ', ' ', ' ', ' ', ' ', ' ', ' ', ' ', ' ', ' ', ' ', ' ', ' ', ' ', ' ', ' ', ' ', ' ', ' ', ' ', ' ', ' ', ' ', ' ', ' ', ' ', ' ', ' ', ' ', ' ', ' ', ' ', ' ', ' ', ' ', ' ', ' ', ' ', ' ', ' ', ' ', ' ', ' ', ' ', ' ', ' ', ' ', ' ', ' ', ' ', ' ', '\\n', ' ', ' ', ' ', ' ', ' ', ' ', ' ', ' ', ' ', ' ', ' ', ' ', ' ', ' ', ' ', ' ', ' ', ' ', ' ', ' ', ' ', ' ', ' ', ' ', ' ', ' ', ' ', ' ', ' ', ' ', ' ', ' ', ' ', ' ', ' ', ' ', ' ', ' ', ' ', ' ', ' ', ' ', ' ', ' ', ' ', ' ', ' ', ' ', ' ', ' ', ' ', ' ', ' ', ' ', ' ', ' ', ' ', ' ', ' ', ' ', ' ', ' ', ' ', ' ', ' ', ' ', ' ', ' ', ' ', ' ', ' ', ' ', ' ', ' ', ' ', ' ', ' ', ' ', ' ', ' ', ' ', ' ', ' ', ' ', '2', '0', '1', '8', '-', '1', '0', '-', '1', '9', ' ', '1', '6', ':', '1', '3', ' ', '1', '6', ':', '1', '3', '\\n', ' ', ' ', ' ', ' ', ' ', ' ', ' ', ' ', ' ', ' ', ' ', ' ', ' ', ' ', ' ', ' ', ' ', ' ', ' ', ' ', ' ', ' ', ' ', ' ', ' ', ' ', ' ', ' ', ' ', ' ', ' ', ' ', ' ', ' ', ' ', ' ', '\\n', ' ', ' ', ' ', ' ', ' ', ' ', ' ', ' ', ' ', ' ', ' ', ' ', ' ', ' ', ' ', ' ', '\\n', ' ', ' ', ' ', ' ', ' ', ' ', ' ', ' ', ' ', ' ', ' ', ' ', ' ', ' ', ' ', ' ', ' ', ' ', ' ', ' ', ' ', ' ', ' ', ' ', ' ', ' ', ' ', ' ', ' ', ' ', ' ', ' ', ' ', ' ', ' ', ' ', ' ', ' ', ' ', ' ', ' ', ' ', ' ', ' ', ' ', ' ', ' ', ' ', ' ', ' ', ' ', ' ', ' ', ' ', ' ', ' ', ' ', ' ', ' ', ' ', ' ', ' ', ' ', ' ', ' ', ' ', ' ', ' ', ' ', ' ', ' ', ' ', ' ', ' ', ' ', ' ', ' ', ' ', ' ', ' ', ' ', ' ', ' ', ' ', ' ', ' ', ' ', ' ', '미', '피', ',', ' ', '5', 'G', ' ', '기', '기', '·', '부', '품', ' ', '호', '환', '성', ' ', '확', '보', '하', '는', ' ', '산', '업', '용', ' ', '인', '터', '.', '.', '.', '\\n', ' ', ' ', ' ', ' ', ' ', ' ', ' ', ' ', ' ', ' ', ' ', ' ', ' ', ' ', ' ', ' ', ' ', ' ', ' ', ' ', ' ', ' ', ' ', ' ', ' ', ' ', ' ', ' ', ' ', ' ', ' ', ' ', ' ', ' ', ' ', ' ', ' ', ' ', ' ', ' ', ' ', ' ', ' ', ' ', ' ', ' ', ' ', ' ', ' ', ' ', ' ', ' ', ' ', ' ', ' ', ' ', ' ', ' ', ' ', ' ', ' ', ' ', ' ', ' ', ' ', ' ', ' ', ' ', ' ', ' ', ' ', ' ', ' ', ' ', ' ', ' ', ' ', ' ', ' ', ' ', ' ', ' ', ' ', ' ', '\\n', ' ', ' ', ' ', ' ', ' ', ' ', ' ', ' ', ' ', ' ', ' ', ' ', ' ', ' ', ' ', ' ', ' ', ' ', ' ', ' ', ' ', ' ', ' ', ' ', ' ', ' ', ' ', ' ', ' ', ' ', ' ', ' ', ' ', ' ', ' ', ' ', ' ', ' ', ' ', ' ', ' ', ' ', ' ', ' ', ' ', ' ', ' ', ' ', ' ', ' ', ' ', ' ', ' ', ' ', ' ', ' ', ' ', ' ', ' ', ' ', ' ', ' ', ' ', ' ', ' ', ' ', ' ', ' ', ' ', ' ', ' ', ' ', ' ', ' ', ' ', ' ', ' ', ' ', ' ', ' ', ' ', ' ', ' ', ' ', '2', '0', '1', '8', '-', '1', '0', '-', '1', '9', ' ', '1', '5', ':', '4', '9', ' ', '1', '5', ':', '4', '9', '\\n', ' ', ' ', ' ', ' ', ' ', ' ', ' ', ' ', ' ', ' ', ' ', ' ', ' ', ' ', ' ', ' ', ' ', ' ', ' ', ' ', ' ', ' ', ' ', ' ', ' ', ' ', ' ', ' ', ' ', ' ', ' ', ' ', ' ', ' ', ' ', ' ', '\\n', ' ', ' ', ' ', ' ', ' ', ' ', ' ', ' ', ' ', ' ', ' ', ' ', ' ', ' ', ' ', ' ', '\\n', ' ', ' ', ' ', ' ', ' ', ' ', ' ', ' ', ' ', ' ', ' ', ' ', ' ', ' ', ' ', ' ', ' ', ' ', ' ', ' ', ' ', ' ', ' ', ' ', ' ', ' ', ' ', ' ', ' ', ' ', ' ', ' ', ' ', ' ', ' ', ' ', ' ', ' ', ' ', ' ', ' ', ' ', ' ', ' ', ' ', ' ', ' ', ' ', ' ', ' ', ' ', ' ', ' ', ' ', ' ', ' ', ' ', ' ', ' ', ' ', ' ', ' ', ' ', ' ', ' ', ' ', ' ', ' ', ' ', ' ', ' ', ' ', ' ', ' ', ' ', ' ', ' ', ' ', ' ', ' ', ' ', ' ', ' ', ' ', ' ', ' ', ' ', ' ', 'K', 'T', ',', ' ', '기', '지', '국', ' ', '유', '지', '보', '수', ' ', '협', '력', '사', ' ', '계', '열', '사', ' ', '편', '입', '·', '·', '·', 'k', 't', ' ', 'M', 'O', '.', '.', '.', '\\n', ' ', ' ', ' ', ' ', ' ', ' ', ' ', ' ', ' ', ' ', ' ', ' ', ' ', ' ', ' ', ' ', ' ', ' ', ' ', ' ', ' ', ' ', ' ', ' ', ' ', ' ', ' ', ' ', ' ', ' ', ' ', ' ', ' ', ' ', ' ', ' ', ' ', ' ', ' ', ' ', ' ', ' ', ' ', ' ', ' ', ' ', ' ', ' ', ' ', ' ', ' ', ' ', ' ', ' ', ' ', ' ', ' ', ' ', ' ', ' ', ' ', ' ', ' ', ' ', ' ', ' ', ' ', ' ', ' ', ' ', ' ', ' ', ' ', ' ', ' ', ' ', ' ', ' ', ' ', ' ', ' ', ' ', ' ', ' ', '\\n', ' ', ' ', ' ', ' ', ' ', ' ', ' ', ' ', ' ', ' ', ' ', ' ', ' ', ' ', ' ', ' ', ' ', ' ', ' ', ' ', ' ', ' ', ' ', ' ', ' ', ' ', ' ', ' ', ' ', ' ', ' ', ' ', ' ', ' ', ' ', ' ', ' ', ' ', ' ', ' ', ' ', ' ', ' ', ' ', ' ', ' ', ' ', ' ', ' ', ' ', ' ', ' ', ' ', ' ', ' ', ' ', ' ', ' ', ' ', ' ', ' ', ' ', ' ', ' ', ' ', ' ', ' ', ' ', ' ', ' ', ' ', ' ', ' ', ' ', ' ', ' ', ' ', ' ', ' ', ' ', ' ', ' ', ' ', ' ', '2', '0', '1', '8', '-', '1', '0', '-', '1', '9', ' ', '1', '4', ':', '3', '2', ' ', '1', '4', ':', '3', '2', '\\n', ' ', ' ', ' ', ' ', ' ', ' ', ' ', ' ', ' ', ' ', ' ', ' ', ' ', ' ', ' ', ' ', ' ', ' ', ' ', ' ', ' ', ' ', ' ', ' ', ' ', ' ', ' ', ' ', ' ', ' ', ' ', ' ', ' ', ' ', ' ', ' ', '\\n', ' ', ' ', ' ', ' ', ' ', ' ', ' ', ' ', ' ', ' ', ' ', ' ', '\\n', ' ', ' ', ' ', ' ', ' ', ' ', ' ', ' ', ' ', ' ', ' ', ' ', '\\n', '\\n', '\\n', '\\n', '\\n', '\\t', '\\n', ' ', ' ', ' ', ' ', ' ', ' ', ' ', ' ', ' ', ' ', ' ', ' ', ' ', ' ', ' ', ' ', 'T', 'e', 'c', 'h', 'C', 'r', 'u', 'n', 'c', 'h', '\\n', ' ', ' ', ' ', ' ', '\\n', ' ', ' ', ' ', ' ', ' ', ' ', ' ', ' ', ' ', ' ', ' ', ' ', ' ', ' ', ' ', ' ', ' ', ' ', ' ', ' ', '\\n', ' ', ' ', ' ', ' ', ' ', ' ', ' ', ' ', ' ', ' ', ' ', ' ', ' ', ' ', ' ', ' ', ' ', ' ', ' ', ' ', ' ', ' ', ' ', ' ', ' ', ' ', ' ', ' ', ' ', ' ', ' ', ' ', ' ', ' ', ' ', ' ', ' ', ' ', ' ', ' ', ' ', ' ', ' ', ' ', ' ', ' ', ' ', ' ', ' ', ' ', ' ', ' ', ' ', ' ', ' ', ' ', ' ', ' ', ' ', ' ', ' ', ' ', ' ', ' ', ' ', ' ', ' ', ' ', ' ', ' ', ' ', ' ', ' ', ' ', ' ', ' ', ' ', ' ', ' ', ' ', ' ', ' ', ' ', ' ', ' ', ' ', ' ', ' ', 'V', 'i', 'r', 't', 'u', 'a', 'l', ' ', 'r', 'e', 'a', 'l', 'i', 't', 'y', ' ', 'm', 'a', 'k', 'e', 's', ' ', 'f', 'o', 'o', 'd', ' ', 't', 'a', 's', 't', 'e', ' ', 'b', 'e', 't', 't', 'e', 'r', '\\n', ' ', ' ', ' ', ' ', ' ', ' ', ' ', ' ', ' ', ' ', ' ', ' ', ' ', ' ', ' ', ' ', ' ', ' ', ' ', ' ', ' ', ' ', ' ', ' ', ' ', ' ', ' ', ' ', ' ', ' ', ' ', ' ', ' ', ' ', ' ', ' ', ' ', ' ', ' ', ' ', ' ', ' ', ' ', ' ', ' ', ' ', ' ', ' ', ' ', ' ', ' ', ' ', ' ', ' ', ' ', ' ', ' ', ' ', ' ', ' ', ' ', ' ', ' ', ' ', ' ', ' ', ' ', ' ', ' ', ' ', ' ', ' ', ' ', ' ', ' ', ' ', ' ', ' ', ' ', ' ', ' ', ' ', ' ', ' ', '\\n', ' ', ' ', ' ', ' ', ' ', ' ', ' ', ' ', ' ', ' ', ' ', ' ', ' ', ' ', ' ', ' ', ' ', ' ', ' ', ' ', ' ', ' ', ' ', ' ', ' ', ' ', ' ', ' ', ' ', ' ', ' ', ' ', ' ', ' ', ' ', ' ', ' ', ' ', ' ', ' ', ' ', ' ', ' ', ' ', ' ', ' ', ' ', ' ', ' ', ' ', ' ', ' ', ' ', ' ', ' ', ' ', ' ', ' ', ' ', ' ', ' ', ' ', ' ', ' ', ' ', ' ', ' ', ' ', ' ', ' ', ' ', ' ', ' ', ' ', ' ', ' ', ' ', ' ', ' ', ' ', ' ', ' ', ' ', ' ', '2', '0', '1', '8', '-', '1', '0', '-', '1', '9', ' ', '2', '2', ':', '1', '6', ' ', '2', '2', ':', '1', '6', '\\n', ' ', ' ', ' ', ' ', ' ', ' ', ' ', ' ', ' ', ' ', ' ', ' ', ' ', ' ', ' ', ' ', ' ', ' ', ' ', ' ', ' ', ' ', ' ', ' ', ' ', ' ', ' ', ' ', ' ', ' ', ' ', ' ', ' ', ' ', ' ', ' ', '\\n', ' ', ' ', ' ', ' ', ' ', ' ', ' ', ' ', ' ', ' ', ' ', ' ', ' ', ' ', ' ', ' ', '\\n', ' ', ' ', ' ', ' ', ' ', ' ', ' ', ' ', ' ', ' ', ' ', ' ', ' ', ' ', ' ', ' ', ' ', ' ', ' ', ' ', ' ', ' ', ' ', ' ', ' ', ' ', ' ', ' ', ' ', ' ', ' ', ' ', ' ', ' ', ' ', ' ', ' ', ' ', ' ', ' ', ' ', ' ', ' ', ' ', ' ', ' ', ' ', ' ', ' ', ' ', ' ', ' ', ' ', ' ', ' ', ' ', ' ', ' ', ' ', ' ', ' ', ' ', ' ', ' ', ' ', ' ', ' ', ' ', ' ', ' ', ' ', ' ', ' ', ' ', ' ', ' ', ' ', ' ', ' ', ' ', ' ', ' ', ' ', ' ', ' ', ' ', ' ', ' ', 'T', 'w', 'i', 'l', 'i', 'o', ' ', 's', 'h', 'o', 'p', 's', ',', ' ', 'U', 'b', 'e', 'r', ' ', 'a', 'n', 'd', ' ', 'L', 'y', 'f', 't', ' ', 'I', 'P', 'O', ' ', 's', 'c', 'u', 't', 't', 'l', 'e', 'b', 'u', 't', 't', ',', ' ', 'a', '.', '.', '.', '\\n', ' ', ' ', ' ', ' ', ' ', ' ', ' ', ' ', ' ', ' ', ' ', ' ', ' ', ' ', ' ', ' ', ' ', ' ', ' ', ' ', ' ', ' ', ' ', ' ', ' ', ' ', ' ', ' ', ' ', ' ', ' ', ' ', ' ', ' ', ' ', ' ', ' ', ' ', ' ', ' ', ' ', ' ', ' ', ' ', ' ', ' ', ' ', ' ', ' ', ' ', ' ', ' ', ' ', ' ', ' ', ' ', ' ', ' ', ' ', ' ', ' ', ' ', ' ', ' ', ' ', ' ', ' ', ' ', ' ', ' ', ' ', ' ', ' ', ' ', ' ', ' ', ' ', ' ', ' ', ' ', ' ', ' ', ' ', ' ', '\\n', ' ', ' ', ' ', ' ', ' ', ' ', ' ', ' ', ' ', ' ', ' ', ' ', ' ', ' ', ' ', ' ', ' ', ' ', ' ', ' ', ' ', ' ', ' ', ' ', ' ', ' ', ' ', ' ', ' ', ' ', ' ', ' ', ' ', ' ', ' ', ' ', ' ', ' ', ' ', ' ', ' ', ' ', ' ', ' ', ' ', ' ', ' ', ' ', ' ', ' ', ' ', ' ', ' ', ' ', ' ', ' ', ' ', ' ', ' ', ' ', ' ', ' ', ' ', ' ', ' ', ' ', ' ', ' ', ' ', ' ', ' ', ' ', ' ', ' ', ' ', ' ', ' ', ' ', ' ', ' ', ' ', ' ', ' ', ' ', '2', '0', '1', '8', '-', '1', '0', '-', '1', '9', ' ', '2', '2', ':', '1', '0', ' ', '2', '2', ':', '1', '0', '\\n', ' ', ' ', ' ', ' ', ' ', ' ', ' ', ' ', ' ', ' ', ' ', ' ', ' ', ' ', ' ', ' ', ' ', ' ', ' ', ' ', ' ', ' ', ' ', ' ', ' ', ' ', ' ', ' ', ' ', ' ', ' ', ' ', ' ', ' ', ' ', ' ', '\\n', ' ', ' ', ' ', ' ', ' ', ' ', ' ', ' ', ' ', ' ', ' ', ' ', ' ', ' ', ' ', ' ', '\\n', ' ', ' ', ' ', ' ', ' ', ' ', ' ', ' ', ' ', ' ', ' ', ' ', ' ', ' ', ' ', ' ', ' ', ' ', ' ', ' ', ' ', ' ', ' ', ' ', ' ', ' ', ' ', ' ', ' ', ' ', ' ', ' ', ' ', ' ', ' ', ' ', ' ', ' ', ' ', ' ', ' ', ' ', ' ', ' ', ' ', ' ', ' ', ' ', ' ', ' ', ' ', ' ', ' ', ' ', ' ', ' ', ' ', ' ', ' ', ' ', ' ', ' ', ' ', ' ', ' ', ' ', ' ', ' ', ' ', ' ', ' ', ' ', ' ', ' ', ' ', ' ', ' ', ' ', ' ', ' ', ' ', ' ', ' ', ' ', ' ', ' ', ' ', ' ', 'V', 'e', 'c', 't', 'o', 'r', ' ', 's', 'p', 'e', 'e', 'd', 's', ' ', 't', 'o', 'w', 'a', 'r', 'd', ' ', 'o', 'r', 'b', 'i', 't', 'a', 'l', ' ', 'l', 'a', 'u', 'n', 'c', 'h', ' ', 'c', 'a', 'p', 'a', 'b', 'i', 'l', 'i', 't', 'y', '.', '.', '.', '\\n', ' ', ' ', ' ', ' ', ' ', ' ', ' ', ' ', ' ', ' ', ' ', ' ', ' ', ' ', ' ', ' ', ' ', ' ', ' ', ' ', ' ', ' ', ' ', ' ', ' ', ' ', ' ', ' ', ' ', ' ', ' ', ' ', ' ', ' ', ' ', ' ', ' ', ' ', ' ', ' ', ' ', ' ', ' ', ' ', ' ', ' ', ' ', ' ', ' ', ' ', ' ', ' ', ' ', ' ', ' ', ' ', ' ', ' ', ' ', ' ', ' ', ' ', ' ', ' ', ' ', ' ', ' ', ' ', ' ', ' ', ' ', ' ', ' ', ' ', ' ', ' ', ' ', ' ', ' ', ' ', ' ', ' ', ' ', ' ', '\\n', ' ', ' ', ' ', ' ', ' ', ' ', ' ', ' ', ' ', ' ', ' ', ' ', ' ', ' ', ' ', ' ', ' ', ' ', ' ', ' ', ' ', ' ', ' ', ' ', ' ', ' ', ' ', ' ', ' ', ' ', ' ', ' ', ' ', ' ', ' ', ' ', ' ', ' ', ' ', ' ', ' ', ' ', ' ', ' ', ' ', ' ', ' ', ' ', ' ', ' ', ' ', ' ', ' ', ' ', ' ', ' ', ' ', ' ', ' ', ' ', ' ', ' ', ' ', ' ', ' ', ' ', ' ', ' ', ' ', ' ', ' ', ' ', ' ', ' ', ' ', ' ', ' ', ' ', ' ', ' ', ' ', ' ', ' ', ' ', '2', '0', '1', '8', '-', '1', '0', '-', '1', '9', ' ', '2', '2', ':', '0', '1', ' ', '2', '2', ':', '0', '1', '\\n', ' ', ' ', ' ', ' ', ' ', ' ', ' ', ' ', ' ', ' ', ' ', ' ', ' ', ' ', ' ', ' ', ' ', ' ', ' ', ' ', ' ', ' ', ' ', ' ', ' ', ' ', ' ', ' ', ' ', ' ', ' ', ' ', ' ', ' ', ' ', ' ', '\\n', ' ', ' ', ' ', ' ', ' ', ' ', ' ', ' ', ' ', ' ', ' ', ' ', ' ', ' ', ' ', ' ', '\\n', ' ', ' ', ' ', ' ', ' ', ' ', ' ', ' ', ' ', ' ', ' ', ' ', ' ', ' ', ' ', ' ', ' ', ' ', ' ', ' ', ' ', ' ', ' ', ' ', ' ', ' ', ' ', ' ', ' ', ' ', ' ', ' ', ' ', ' ', ' ', ' ', ' ', ' ', ' ', ' ', ' ', ' ', ' ', ' ', ' ', ' ', ' ', ' ', ' ', ' ', ' ', ' ', ' ', ' ', ' ', ' ', ' ', ' ', ' ', ' ', ' ', ' ', ' ', ' ', ' ', ' ', ' ', ' ', ' ', ' ', ' ', ' ', ' ', ' ', ' ', ' ', ' ', ' ', ' ', ' ', ' ', ' ', ' ', ' ', ' ', ' ', ' ', ' ', 'T', 'r', 'a', 'c', 'k', 'R', ' ', 'i', 's', ' ', 'r', 'e', 'b', 'r', 'a', 'n', 'd', 'i', 'n', 'g', ' ', 't', 'o', ' ', 'A', 'd', 'e', 'r', 'o', ' ', 'a', 's', ' ', 'i', 't', ' ', 'l', 'o', 'o', 'k', 's', ' ', 'b', 'e', 'y', 'o', '.', '.', '.', '\\n', ' ', ' ', ' ', ' ', ' ', ' ', ' ', ' ', ' ', ' ', ' ', ' ', ' ', ' ', ' ', ' ', ' ', ' ', ' ', ' ', ' ', ' ', ' ', ' ', ' ', ' ', ' ', ' ', ' ', ' ', ' ', ' ', ' ', ' ', ' ', ' ', ' ', ' ', ' ', ' ', ' ', ' ', ' ', ' ', ' ', ' ', ' ', ' ', ' ', ' ', ' ', ' ', ' ', ' ', ' ', ' ', ' ', ' ', ' ', ' ', ' ', ' ', ' ', ' ', ' ', ' ', ' ', ' ', ' ', ' ', ' ', ' ', ' ', ' ', ' ', ' ', ' ', ' ', ' ', ' ', ' ', ' ', ' ', ' ', '\\n', ' ', ' ', ' ', ' ', ' ', ' ', ' ', ' ', ' ', ' ', ' ', ' ', ' ', ' ', ' ', ' ', ' ', ' ', ' ', ' ', ' ', ' ', ' ', ' ', ' ', ' ', ' ', ' ', ' ', ' ', ' ', ' ', ' ', ' ', ' ', ' ', ' ', ' ', ' ', ' ', ' ', ' ', ' ', ' ', ' ', ' ', ' ', ' ', ' ', ' ', ' ', ' ', ' ', ' ', ' ', ' ', ' ', ' ', ' ', ' ', ' ', ' ', ' ', ' ', ' ', ' ', ' ', ' ', ' ', ' ', ' ', ' ', ' ', ' ', ' ', ' ', ' ', ' ', ' ', ' ', ' ', ' ', ' ', ' ', '2', '0', '1', '8', '-', '1', '0', '-', '1', '9', ' ', '2', '2', ':', '0', '1', ' ', '2', '2', ':', '0', '1', '\\n', ' ', ' ', ' ', ' ', ' ', ' ', ' ', ' ', ' ', ' ', ' ', ' ', ' ', ' ', ' ', ' ', ' ', ' ', ' ', ' ', ' ', ' ', ' ', ' ', ' ', ' ', ' ', ' ', ' ', ' ', ' ', ' ', ' ', ' ', ' ', ' ', '\\n', ' ', ' ', ' ', ' ', ' ', ' ', ' ', ' ', ' ', ' ', ' ', ' ', ' ', ' ', ' ', ' ', '\\n', ' ', ' ', ' ', ' ', ' ', ' ', ' ', ' ', ' ', ' ', ' ', ' ', ' ', ' ', ' ', ' ', ' ', ' ', ' ', ' ', ' ', ' ', ' ', ' ', ' ', ' ', ' ', ' ', ' ', ' ', ' ', ' ', ' ', ' ', ' ', ' ', ' ', ' ', ' ', ' ', ' ', ' ', ' ', ' ', ' ', ' ', ' ', ' ', ' ', ' ', ' ', ' ', ' ', ' ', ' ', ' ', ' ', ' ', ' ', ' ', ' ', ' ', ' ', ' ', ' ', ' ', ' ', ' ', ' ', ' ', ' ', ' ', ' ', ' ', ' ', ' ', ' ', ' ', ' ', ' ', ' ', ' ', ' ', ' ', ' ', ' ', ' ', ' ', 'T', 'h', 'e', ' ', '7', ' ', 'g', 'r', 'e', 'a', 't', ' ', 'f', 'e', 'a', 't', 'u', 'r', 'e', 's', ' ', 't', 'h', 'a', 't', ' ', 'w', 'i', 'l', 'l', ' ', 'h', 'o', 'p', 'e', 'f', 'u', 'l', 'l', 'y', ' ', 'r', 'e', 't', 'u', 'r', '.', '.', '.', '\\n', ' ', ' ', ' ', ' ', ' ', ' ', ' ', ' ', ' ', ' ', ' ', ' ', ' ', ' ', ' ', ' ', ' ', ' ', ' ', ' ', ' ', ' ', ' ', ' ', ' ', ' ', ' ', ' ', ' ', ' ', ' ', ' ', ' ', ' ', ' ', ' ', ' ', ' ', ' ', ' ', ' ', ' ', ' ', ' ', ' ', ' ', ' ', ' ', ' ', ' ', ' ', ' ', ' ', ' ', ' ', ' ', ' ', ' ', ' ', ' ', ' ', ' ', ' ', ' ', ' ', ' ', ' ', ' ', ' ', ' ', ' ', ' ', ' ', ' ', ' ', ' ', ' ', ' ', ' ', ' ', ' ', ' ', ' ', ' ', '\\n', ' ', ' ', ' ', ' ', ' ', ' ', ' ', ' ', ' ', ' ', ' ', ' ', ' ', ' ', ' ', ' ', ' ', ' ', ' ', ' ', ' ', ' ', ' ', ' ', ' ', ' ', ' ', ' ', ' ', ' ', ' ', ' ', ' ', ' ', ' ', ' ', ' ', ' ', ' ', ' ', ' ', ' ', ' ', ' ', ' ', ' ', ' ', ' ', ' ', ' ', ' ', ' ', ' ', ' ', ' ', ' ', ' ', ' ', ' ', ' ', ' ', ' ', ' ', ' ', ' ', ' ', ' ', ' ', ' ', ' ', ' ', ' ', ' ', ' ', ' ', ' ', ' ', ' ', ' ', ' ', ' ', ' ', ' ', ' ', '2', '0', '1', '8', '-', '1', '0', '-', '1', '9', ' ', '2', '1', ':', '5', '4', ' ', '2', '1', ':', '5', '4', '\\n', ' ', ' ', ' ', ' ', ' ', ' ', ' ', ' ', ' ', ' ', ' ', ' ', ' ', ' ', ' ', ' ', ' ', ' ', ' ', ' ', ' ', ' ', ' ', ' ', ' ', ' ', ' ', ' ', ' ', ' ', ' ', ' ', ' ', ' ', ' ', ' ', '\\n', ' ', ' ', ' ', ' ', ' ', ' ', ' ', ' ', ' ', ' ', ' ', ' ', '\\n', ' ', ' ', ' ', ' ', ' ', ' ', ' ', ' ', ' ', ' ', ' ', ' ', '\\n', '\\n', '\\n', ' ', ' ', ' ', ' ', '\\n', '\\n', '\\n', '\\n', ' ', ' ', ' ', ' ', '\\n', ' ', ' ', ' ', ' ', ' ', ' ', ' ', ' ', 'B', 'a', 'c', 'k', ' ', 't', 'o', ' ', 'T', 'o', 'p', '\\n', ' ', ' ', ' ', ' ', '\\n', ' ', ' ', ' ', ' ', '\\n', ' ', ' ', ' ', ' ', ' ', ' ', ' ', ' ', 'L', 'e', 'a', 'd', 'i', 'n', 'g', ' ', 'T', 'o', 'g', 'e', 't', 'h', 'e', 'r', ' ', 'f', 'o', 'r', ' ', 'B', 'r', 'i', 'g', 'h', 't', 'e', 'r', ' ', 'F', 'u', 't', 'u', 'r', 'e', '\\n', ' ', ' ', ' ', ' ', '\\n', ' ', ' ', ' ', ' ', '-', '-', '>', '\\n', ' ', ' ', ' ', ' ', '\\n', ' ', ' ', ' ', ' ', ' ', ' ', ' ', ' ', '\\n', ' ', ' ', ' ', ' ', ' ', ' ', ' ', ' ', ' ', ' ', ' ', ' ', '\\n', ' ', ' ', ' ', ' ', ' ', ' ', ' ', ' ', ' ', ' ', ' ', ' ', ' ', ' ', ' ', ' ', '\\n', ' ', ' ', ' ', ' ', ' ', ' ', ' ', ' ', ' ', ' ', ' ', ' ', ' ', ' ', ' ', ' ', ' ', ' ', ' ', ' ', '\\n', ' ', ' ', ' ', ' ', ' ', ' ', ' ', ' ', ' ', ' ', ' ', ' ', ' ', ' ', ' ', ' ', ' ', ' ', ' ', ' ', ' ', ' ', ' ', ' ', 'Q', 'u', 'i', 'c', 'k', ' ', 'N', 'a', 'v', 'i', 'g', 'a', 't', 'i', 'o', 'n', '\\n', ' ', ' ', ' ', ' ', ' ', ' ', ' ', ' ', ' ', ' ', ' ', ' ', ' ', ' ', ' ', ' ', ' ', ' ', ' ', ' ', ' ', ' ', ' ', ' ', '\\n', ' ', ' ', ' ', ' ', ' ', ' ', ' ', ' ', ' ', ' ', ' ', ' ', ' ', ' ', ' ', ' ', ' ', ' ', ' ', ' ', ' ', ' ', ' ', ' ', ' ', ' ', ' ', ' ', '한', '국', '기', '술', '교', '육', '대', '학', '교', ' ', '홈', '페', '이', '지', '\\n', ' ', ' ', ' ', ' ', ' ', ' ', ' ', ' ', ' ', ' ', ' ', ' ', ' ', ' ', ' ', ' ', ' ', ' ', ' ', ' ', ' ', ' ', ' ', ' ', ' ', ' ', ' ', ' ', '한', '국', '기', '술', '교', '육', '대', '학', '교', ' ', 'W', 'E', 'B', 'M', 'A', 'I', 'L', '\\n', ' ', ' ', ' ', ' ', ' ', ' ', ' ', ' ', ' ', ' ', ' ', ' ', ' ', ' ', ' ', ' ', ' ', ' ', ' ', ' ', ' ', ' ', ' ', ' ', ' ', ' ', ' ', ' ', '한', '국', '기', '술', '교', '육', '대', '학', '교', ' ', '온', '라', '인', ' ', '평', '생', '교', '육', '원', '\\n', ' ', ' ', ' ', ' ', ' ', ' ', ' ', ' ', ' ', ' ', ' ', ' ', ' ', ' ', ' ', ' ', ' ', ' ', ' ', ' ', ' ', ' ', ' ', ' ', ' ', ' ', ' ', ' ', 'I', 'T', ' ', '융', '합', '소', '프', '트', '웨', '어', ' ', '인', '력', '양', '성', '사', '업', '\\n', ' ', ' ', ' ', ' ', ' ', ' ', ' ', ' ', ' ', ' ', ' ', ' ', ' ', ' ', ' ', ' ', ' ', ' ', ' ', ' ', ' ', ' ', ' ', ' ', ' ', ' ', ' ', ' ', '컴', '퓨', '터', '공', '학', '부', ' ', '교', '직', '원', ' ', '업', '무', ' ', '자', '료', '실', '\\n', ' ', ' ', ' ', ' ', ' ', ' ', ' ', ' ', ' ', ' ', ' ', ' ', ' ', ' ', ' ', ' ', ' ', ' ', ' ', ' ', ' ', ' ', ' ', ' ', ' ', ' ', ' ', ' ', '컴', '퓨', '터', '공', '학', '부', ' ', '포', '트', '폴', '리', '오', '-', '-', '>', '\\n', ' ', ' ', ' ', ' ', ' ', ' ', ' ', ' ', ' ', ' ', ' ', ' ', ' ', ' ', ' ', ' ', ' ', ' ', ' ', ' ', ' ', ' ', ' ', ' ', ' ', ' ', ' ', ' ', '\\n', ' ', ' ', ' ', ' ', ' ', ' ', ' ', ' ', ' ', ' ', ' ', ' ', ' ', ' ', ' ', ' ', ' ', ' ', ' ', ' ', ' ', ' ', ' ', ' ', '\\n', ' ', ' ', ' ', ' ', ' ', ' ', ' ', ' ', ' ', ' ', ' ', ' ', ' ', ' ', ' ', ' ', ' ', ' ', ' ', ' ', '\\n', ' ', ' ', ' ', ' ', ' ', ' ', ' ', ' ', ' ', ' ', ' ', ' ', ' ', ' ', ' ', ' ', '\\n', ' ', ' ', ' ', ' ', ' ', ' ', ' ', ' ', ' ', ' ', ' ', ' ', '\\n', ' ', ' ', ' ', ' ', ' ', ' ', ' ', ' ', ' ', ' ', ' ', ' ', '\\n', ' ', ' ', ' ', ' ', ' ', ' ', ' ', ' ', ' ', ' ', ' ', ' ', ' ', ' ', ' ', ' ', '\\n', ' ', ' ', ' ', ' ', ' ', ' ', ' ', ' ', ' ', ' ', ' ', ' ', ' ', ' ', ' ', ' ', ' ', ' ', ' ', ' ', '\\n', ' ', ' ', ' ', ' ', ' ', ' ', ' ', ' ', ' ', ' ', ' ', ' ', ' ', ' ', ' ', ' ', ' ', ' ', ' ', ' ', ' ', ' ', ' ', ' ', 'C', 'a', 'm', 'p', 'u', 's', ' ', 'L', 'o', 'c', 'a', 't', 'i', 'o', 'n', '\\n', ' ', ' ', ' ', ' ', ' ', ' ', ' ', ' ', ' ', ' ', ' ', ' ', ' ', ' ', ' ', ' ', ' ', ' ', ' ', ' ', ' ', ' ', ' ', ' ', '\\n', '\\t', ' ', ' ', ' ', ' ', ' ', ' ', ' ', ' ', ' ', ' ', ' ', ' ', ' ', ' ', ' ', ' ', ' ', ' ', ' ', ' ', ' ', ' ', ' ', ' ', '\\n', ' ', ' ', ' ', ' ', ' ', ' ', ' ', ' ', ' ', ' ', ' ', ' ', ' ', ' ', ' ', ' ', ' ', ' ', ' ', ' ', '\\n', ' ', ' ', ' ', ' ', ' ', ' ', ' ', ' ', ' ', ' ', ' ', ' ', ' ', ' ', ' ', ' ', '\\n', ' ', ' ', ' ', ' ', ' ', ' ', ' ', ' ', ' ', ' ', ' ', ' ', '\\n', '\\n', ' ', ' ', ' ', ' ', ' ', ' ', ' ', ' ', ' ', ' ', ' ', ' ', ' ', ' ', ' ', ' ', '\\n', ' ', ' ', ' ', ' ', ' ', ' ', ' ', ' ', ' ', ' ', ' ', ' ', ' ', ' ', ' ', ' ', ' ', ' ', ' ', ' ', 'C', 'o', 'n', 't', 'a', 'c', 't', ' ', 'C', 'S', 'E', '\\n', ' ', ' ', ' ', ' ', ' ', ' ', ' ', ' ', ' ', ' ', ' ', ' ', ' ', ' ', ' ', ' ', '충', '청', '남', '도', ' ', '천', '안', '시', ' ', '동', '남', '구', ' ', '병', '천', '면', ' ', '충', '절', '로', ' ', '1', '6', '0', '0', '한', '국', '기', '술', '교', '육', '대', '학', '교', ' ', '컴', '퓨', '터', '공', '학', '부', ' ', '학', '과', '사', '무', '실', ' ', 'T', 'E', 'L', ' ', '(', '0', '4', '1', ')', ' ', '5', '6', '0', ' ', '1', '4', '6', '0', ' ', '~', ' ', '1', '4', '6', '1', ' ', 'F', 'A', 'X', ' ', '(', '0', '4', '1', ')', ' ', '5', '6', '0', ' ', '1', '4', '6', '2', '\\n', ' ', ' ', ' ', ' ', ' ', ' ', ' ', ' ', ' ', ' ', ' ', ' ', ' ', ' ', ' ', ' ', '\\n', ' ', ' ', ' ', ' ', ' ', ' ', ' ', ' ', ' ', ' ', ' ', ' ', ' ', ' ', ' ', ' ', ' ', ' ', ' ', ' ', 'F', 'a', 'c', 'e', 'b', 'o', 'o', 'k', '\\n', ' ', ' ', ' ', ' ', ' ', ' ', ' ', ' ', ' ', ' ', ' ', ' ', ' ', ' ', ' ', ' ', ' ', ' ', ' ', ' ', 'T', 'w', 'i', 't', 't', 'e', 'r', '\\n', ' ', ' ', ' ', ' ', ' ', ' ', ' ', ' ', ' ', ' ', ' ', ' ', ' ', ' ', ' ', ' ', ' ', ' ', ' ', ' ', 'G', 'o', 'o', 'g', 'l', 'e', ' ', 'P', 'l', 'u', 's', '\\n', ' ', ' ', ' ', ' ', ' ', ' ', ' ', ' ', ' ', ' ', ' ', ' ', ' ', ' ', ' ', ' ', ' ', ' ', ' ', ' ', 'L', 'i', 'n', 'k', 'e', 'd', 'i', 'n', '-', '-', '>', '\\n', ' ', ' ', ' ', ' ', ' ', ' ', ' ', ' ', ' ', ' ', ' ', ' ', ' ', ' ', ' ', ' ', '\\n', ' ', ' ', ' ', ' ', ' ', ' ', ' ', ' ', ' ', ' ', ' ', ' ', ' ', ' ', ' ', ' ', '\\n', ' ', ' ', ' ', ' ', ' ', ' ', ' ', ' ', ' ', ' ', ' ', ' ', '\\n', ' ', ' ', ' ', ' ', ' ', ' ', ' ', ' ', '\\n', ' ', ' ', ' ', ' ', '\\n', ' ', ' ', ' ', ' ', '\\n', ' ', ' ', ' ', ' ', ' ', ' ', ' ', ' ', '\\n', ' ', ' ', ' ', ' ', ' ', ' ', ' ', ' ', ' ', ' ', ' ', ' ', '\\n', ' ', ' ', ' ', ' ', ' ', ' ', ' ', ' ', ' ', ' ', ' ', ' ', '(', '3', '1', '2', '5', '3', ')', ' ', '충', '청', '남', '도', ' ', '천', '안', '시', ' ', '동', '남', '구', ' ', '병', '천', '면', ' ', '충', '절', '로', ' ', '1', '6', '0', '0', ' ', '(', '가', '전', '리', ',', ' ', '한', '국', '기', '술', '교', '육', '대', '학', '교', ')', ' ', '컴', '퓨', '터', '공', '학', '부', ' ', '\\n', ' ', ' ', ' ', ' ', ' ', ' ', ' ', ' ', ' ', ' ', ' ', ' ', 'C', 'o', 'p', 'y', 'r', 'i', 'g', 'h', 't', ' ', '©', ' ', '2', '0', '1', '5', '.', ' ', 'A', 'l', 'l', ' ', 'r', 'i', 'g', 'h', 't', 's', ' ', 'r', 'e', 's', 'e', 'r', 'v', 'e', 'd', '\\n', ' ', ' ', ' ', ' ', ' ', ' ', ' ', ' ', '\\n', ' ', ' ', ' ', ' ', '\\n', '\\n', '\\n', '\\n', '\\n', '\\n', '\\n', '\\n', '\\n']\n"
     ]
    }
   ],
   "source": [
    "p=[]\n",
    "l=\"\"\n",
    "check = 0 \n",
    "cnt = 0\n",
    "for x in source:\n",
    "    if(x=='<'):\n",
    "        check = 1\n",
    "    if(x!='<' and check == 0):\n",
    "        p.append(x)\n",
    "    elif(x=='>'):\n",
    "        check = 0   \n",
    "print(p)"
   ]
  },
  {
   "cell_type": "code",
   "execution_count": 23,
   "metadata": {},
   "outputs": [
    {
     "name": "stdout",
     "output_type": "stream",
     "text": [
      "        컴퓨터공학부             var current_url = \"https://cse.koreatech.ac.kr/\"; var request_uri = \"https://cse.koreatech.ac.kr/\"; var current_mid = \"home_2015\"; var waiting_message = \"서버에 요청 중입니다. 잠시만 기다려주세요.\"; var ssl_actions = new Array(); var default_url = \"https://cse.koreatech.ac.kr/\"; var http_port = 80;var https_port = 443;var enforce_ssl = true;                        //          Schoolfun - Study and Fun                                                                                     -->                  로그인     로그인                  아이디            비밀번호                  로그인 유지        브라우저를 닫더라도 로그인이 계속 유지될 수 있습니다. 로그인 유지 기능을 사용할 경우 다음 접속부터는 로그인할 필요가 없습니다. 단, 게임방, 학교 등 공공장소에서 이용 시 개인정보가 유출될 수 있으니 꼭 로그아웃을 해주세요.             회원가입    ID/PW 찾기                 IT 교육의 글로벌 메카!한국기술교육대학교 컴퓨터공학부              Close                                                  소개                                         구성원소개                                         학사안내                                         입학                               학부                         대학원                                                              학부광장                                         자료실                                         대학원                                         공학교육인증                                         학부서비스                                                              Registration                                                                                    컴퓨터공학부                 School of Computer Science and Engineering                                                            IT 융합소프트웨어 인력양성사업                 CK (Creative Korea)-I                                                            교육역량강화사업 온라인 컨텐츠                 Online Contents for Education Capability Empowerment                                                                                                       IT 교육의 글로벌 메카                 한국기술교육대학교 컴퓨터공학부 홈페이지에 오신 것을환영합니다!                                                                                  IT 융합소프트웨어 인력양성사업                 글로벌 수준의 IT전문인력 양성 IT융합분야에 대한 국제적인 경쟁력 고취                 바로가기                                                                                  교육역량강화사업 컨텐츠                 교육역량강화사업 온라인 컨텐츠를 소개합니다.                 바로가기                                                              공지사항                                                                                                                   [졸업작품] 2018 졸업작품 산업체 평가회 결과에 따른 ...                                                                                                                             2018-10-19 14:09 14:09                                                                                                                                               [특성화] 5차년도 IT융합 개도국 기술지원 봉사(해외) ...                                                                                                                             2018-10-17 13:57 13:57                                                                                                                                               [특성화] 2018 졸업작품 산업체 평가회 결과 공지(졸작...                                                                                                                             2018-10-16 15:52 15:52                                                                                                                                               [특성화] 5차년도 지식재산권(특허) 출원 지원 접수 알림                                                                                                                             2018-10-16 09:32 09:32                                                                                                                                               [특성화] G-STAR 2018 전시회 선발 학생 공고                                                                                                                             2018-10-08 17:14 17:14                                                                                      자유게시판                                                                                                                   ★문화의날 행사 공지★                                                                                                                             2018-10-19 20:31 20:31                                                                                                                                               졸업작품전시회 기간 헤어/메이크업                                                                                                                             2018-10-07 14:48 14:48                                                                                                                                               ※모의토익비 지원 공지※                                                                                                                             2018-09-28 09:37 09:37                                                                                                                                               ACM-ICPC 예선 신청기간이 얼마 안 남았습니다!                                                                                                                             2018-09-13 11:36 11:36                                                                                                                                               문화행사 취소 공지                                                                                                                             2018-09-10 19:17 19:17                                                                                      취업게시판                                                                                                                   [국가보안기술연구소] 정규직 채용                                                                                                                             2018-10-04 14:18 14:18                                                                                                                                               한글과컴퓨터그룹 2018년 하반기 신입/경력 공채 ~10.10                                                                                                                             2018-09-27 13:13 13:13                                                                                                                                               [구인]천안 충무병원 전산실                                                                                                                             2018-09-18 15:25 15:25                                                                                                                                               [정부교육] K-Shield 주니어 교육생 모집(정보보호) ~9.5                                                                                                                             2018-09-03 07:53 07:53                                                                                                                                               인천] 에이스테크놀로지 연구개발인력 모집 ~ 2018.9.9...                                                                                                                             2018-08-29 09:06 09:06                                                                                      Platum                                                                                                                   네이버, 포춘이 선정한 ‘미래유망기업’ 6위에 선정                                                                                                                                                                          2018-10-19 14:30 14:30                                                                                                                                                                           10월 넷째 주 스타트업 이벤트(1022~1028)                                                                                                                                                                          2018-10-19 10:59 10:59                                                                                                                                                                           [10월 19일 스타트업 비즈니스 동향]두브레인,위드이노...                                                                                                                                                                          2018-10-19 10:06 10:06                                                                                                                                                                           호텔 연회장 예약 플랫폼 ‘루북’, 10월 22일 베타 서비...                                                                                                                                                                          2018-10-19 09:57 09:57                                                                                                                                                                           징둥닷컴, 스마트 도시 물류 시스템 구축 위한 연구소 ...                                                                                                                                                                          2018-10-19 09:48 09:48                                                                                                                  전자신문                                                                                                                   최태원 회장 “사회적가치 추구로 BM 혁신 실행력 ...                                                                                                                                                                          2018-10-19 18:00 18:00                                                                                                                                               SK텔레콤, 'SKT TEB 콘퍼런스' 개최...ICT 기술·...                                                                                                                                                                          2018-10-19 16:19 16:19                                                                                                                                               [인사]과학기술정보통신부                                                                                                                                                                          2018-10-19 16:13 16:13                                                                                                                                               미피, 5G 기기·부품 호환성 확보하는 산업용 인터...                                                                                                                                                                          2018-10-19 15:49 15:49                                                                                                                                               KT, 기지국 유지보수 협력사 계열사 편입···kt MO...                                                                                                                                                                          2018-10-19 14:32 14:32                                                                                      TechCrunch                                                                                                                   Virtual reality makes food taste better                                                                                                                                                                          2018-10-19 22:16 22:16                                                                                                                                               Twilio shops, Uber and Lyft IPO scuttlebutt, a...                                                                                                                                                                          2018-10-19 22:10 22:10                                                                                                                                               Vector speeds toward orbital launch capability...                                                                                                                                                                          2018-10-19 22:01 22:01                                                                                                                                               TrackR is rebranding to Adero as it looks beyo...                                                                                                                                                                          2018-10-19 22:01 22:01                                                                                                                                               The 7 great features that will hopefully retur...                                                                                                                                                                          2018-10-19 21:54 21:54                                                                                       Back to Top                   Leading Together for Brighter Future          -->                                                                                          Quick Navigation                                                      한국기술교육대학교 홈페이지                             한국기술교육대학교 WEBMAIL                             한국기술교육대학교 온라인 평생교육원                             IT 융합소프트웨어 인력양성사업                             컴퓨터공학부 교직원 업무 자료실                             컴퓨터공학부 포트폴리오-->                                                                                                                                                                                     Campus Location                                                                                                                                             Contact CSE                 충청남도 천안시 동남구 병천면 충절로 1600한국기술교육대학교 컴퓨터공학부 학과사무실 TEL (041) 560 1460 ~ 1461 FAX (041) 560 1462                                      Facebook                     Twitter                     Google Plus                     Linkedin-->                                                                                                     (31253) 충청남도 천안시 동남구 병천면 충절로 1600 (가전리, 한국기술교육대학교) 컴퓨터공학부              Copyright © 2015. All rights reserved                       \n"
     ]
    }
   ],
   "source": [
    "l=''.join(p)\n",
    "l = l.replace('\\n',' ')\n",
    "l = l.replace('\\t',' ')\n",
    "\n",
    "print(l)"
   ]
  },
  {
   "cell_type": "code",
   "execution_count": 24,
   "metadata": {},
   "outputs": [
    {
     "name": "stdout",
     "output_type": "stream",
     "text": [
      "['', '', '', '', '', '', '', '', '컴퓨터공학부', '', '', '', '', '', '', '', '', '', '', '', '', 'var', 'current_url', '=', '\"https://cse.koreatech.ac.kr/\";', 'var', 'request_uri', '=', '\"https://cse.koreatech.ac.kr/\";', 'var', 'current_mid', '=', '\"home_2015\";', 'var', 'waiting_message', '=', '\"서버에', '요청', '중입니다.', '잠시만', '기다려주세요.\";', 'var', 'ssl_actions', '=', 'new', 'Array();', 'var', 'default_url', '=', '\"https://cse.koreatech.ac.kr/\";', 'var', 'http_port', '=', '80;var', 'https_port', '=', '443;var', 'enforce_ssl', '=', 'true;', '', '', '', '', '', '', '', '', '', '', '', '', '', '', '', '', '', '', '', '', '', '', '', '//', '', '', '', '', '', '', '', '', '', 'Schoolfun', '-', 'Study', 'and', 'Fun', '', '', '', '', '', '', '', '', '', '', '', '', '', '', '', '', '', '', '', '', '', '', '', '', '', '', '', '', '', '', '', '', '', '', '', '', '', '', '', '', '', '', '', '', '', '', '', '', '', '', '', '', '', '', '', '', '', '', '', '', '', '', '', '', '', '', '', '', '', '', '', '', '', '', '', '', '', '', '', '', '', '', '', '', '-->', '', '', '', '', '', '', '', '', '', '', '', '', '', '', '', '', '', '로그인', '', '', '', '', '로그인', '', '', '', '', '', '', '', '', '', '', '', '', '', '', '', '', '', '아이디', '', '', '', '', '', '', '', '', '', '', '', '비밀번호', '', '', '', '', '', '', '', '', '', '', '', '', '', '', '', '', '', '로그인', '유지', '', '', '', '', '', '', '', '브라우저를', '닫더라도', '로그인이', '계속', '유지될', '수', '있습니다.', '로그인', '유지', '기능을', '사용할', '경우', '다음', '접속부터는', '로그인할', '필요가', '없습니다.', '단,', '게임방,', '학교', '등', '공공장소에서', '이용', '시', '개인정보가', '유출될', '수', '있으니', '꼭', '로그아웃을', '해주세요.', '', '', '', '', '', '', '', '', '', '', '', '', '회원가입', '', '', '', 'ID/PW', '찾기', '', '', '', '', '', '', '', '', '', '', '', '', '', '', '', '', 'IT', '교육의', '글로벌', '메카!한국기술교육대학교', '컴퓨터공학부', '', '', '', '', '', '', '', '', '', '', '', '', '', 'Close', '', '', '', '', '', '', '', '', '', '', '', '', '', '', '', '', '', '', '', '', '', '', '', '', '', '', '', '', '', '', '', '', '', '', '', '', '', '', '', '', '', '', '', '', '', '', '', '', '', '소개', '', '', '', '', '', '', '', '', '', '', '', '', '', '', '', '', '', '', '', '', '', '', '', '', '', '', '', '', '', '', '', '', '', '', '', '', '', '', '', '', '구성원소개', '', '', '', '', '', '', '', '', '', '', '', '', '', '', '', '', '', '', '', '', '', '', '', '', '', '', '', '', '', '', '', '', '', '', '', '', '', '', '', '', '학사안내', '', '', '', '', '', '', '', '', '', '', '', '', '', '', '', '', '', '', '', '', '', '', '', '', '', '', '', '', '', '', '', '', '', '', '', '', '', '', '', '', '입학', '', '', '', '', '', '', '', '', '', '', '', '', '', '', '', '', '', '', '', '', '', '', '', '', '', '', '', '', '', '', '학부', '', '', '', '', '', '', '', '', '', '', '', '', '', '', '', '', '', '', '', '', '', '', '', '', '대학원', '', '', '', '', '', '', '', '', '', '', '', '', '', '', '', '', '', '', '', '', '', '', '', '', '', '', '', '', '', '', '', '', '', '', '', '', '', '', '', '', '', '', '', '', '', '', '', '', '', '', '', '', '', '', '', '', '', '', '', '', '', '학부광장', '', '', '', '', '', '', '', '', '', '', '', '', '', '', '', '', '', '', '', '', '', '', '', '', '', '', '', '', '', '', '', '', '', '', '', '', '', '', '', '', '자료실', '', '', '', '', '', '', '', '', '', '', '', '', '', '', '', '', '', '', '', '', '', '', '', '', '', '', '', '', '', '', '', '', '', '', '', '', '', '', '', '', '대학원', '', '', '', '', '', '', '', '', '', '', '', '', '', '', '', '', '', '', '', '', '', '', '', '', '', '', '', '', '', '', '', '', '', '', '', '', '', '', '', '', '공학교육인증', '', '', '', '', '', '', '', '', '', '', '', '', '', '', '', '', '', '', '', '', '', '', '', '', '', '', '', '', '', '', '', '', '', '', '', '', '', '', '', '', '학부서비스', '', '', '', '', '', '', '', '', '', '', '', '', '', '', '', '', '', '', '', '', '', '', '', '', '', '', '', '', '', '', '', '', '', '', '', '', '', '', '', '', '', '', '', '', '', '', '', '', '', '', '', '', '', '', '', '', '', '', '', '', '', 'Registration', '', '', '', '', '', '', '', '', '', '', '', '', '', '', '', '', '', '', '', '', '', '', '', '', '', '', '', '', '', '', '', '', '', '', '', '', '', '', '', '', '', '', '', '', '', '', '', '', '', '', '', '', '', '', '', '', '', '', '', '', '', '', '', '', '', '', '', '', '', '', '', '', '', '', '', '', '', '', '', '', '', '', '', '컴퓨터공학부', '', '', '', '', '', '', '', '', '', '', '', '', '', '', '', '', 'School', 'of', 'Computer', 'Science', 'and', 'Engineering', '', '', '', '', '', '', '', '', '', '', '', '', '', '', '', '', '', '', '', '', '', '', '', '', '', '', '', '', '', '', '', '', '', '', '', '', '', '', '', '', '', '', '', '', '', '', '', '', '', '', '', '', '', '', '', '', '', '', '', 'IT', '융합소프트웨어', '인력양성사업', '', '', '', '', '', '', '', '', '', '', '', '', '', '', '', '', 'CK', '(Creative', 'Korea)-I', '', '', '', '', '', '', '', '', '', '', '', '', '', '', '', '', '', '', '', '', '', '', '', '', '', '', '', '', '', '', '', '', '', '', '', '', '', '', '', '', '', '', '', '', '', '', '', '', '', '', '', '', '', '', '', '', '', '', '', '교육역량강화사업', '온라인', '컨텐츠', '', '', '', '', '', '', '', '', '', '', '', '', '', '', '', '', 'Online', 'Contents', 'for', 'Education', 'Capability', 'Empowerment', '', '', '', '', '', '', '', '', '', '', '', '', '', '', '', '', '', '', '', '', '', '', '', '', '', '', '', '', '', '', '', '', '', '', '', '', '', '', '', '', '', '', '', '', '', '', '', '', '', '', '', '', '', '', '', '', '', '', '', '', '', '', '', '', '', '', '', '', '', '', '', '', '', '', '', '', '', '', '', '', '', '', '', '', '', '', '', '', '', '', '', '', '', '', '', '', '', '', '', '', '', '', 'IT', '교육의', '글로벌', '메카', '', '', '', '', '', '', '', '', '', '', '', '', '', '', '', '', '한국기술교육대학교', '컴퓨터공학부', '홈페이지에', '오신', '것을환영합니다!', '', '', '', '', '', '', '', '', '', '', '', '', '', '', '', '', '', '', '', '', '', '', '', '', '', '', '', '', '', '', '', '', '', '', '', '', '', '', '', '', '', '', '', '', '', '', '', '', '', '', '', '', '', '', '', '', '', '', '', '', '', '', '', '', '', '', '', '', '', '', '', '', '', '', '', '', '', '', '', '', '', 'IT', '융합소프트웨어', '인력양성사업', '', '', '', '', '', '', '', '', '', '', '', '', '', '', '', '', '글로벌', '수준의', 'IT전문인력', '양성', 'IT융합분야에', '대한', '국제적인', '경쟁력', '고취', '', '', '', '', '', '', '', '', '', '', '', '', '', '', '', '', '바로가기', '', '', '', '', '', '', '', '', '', '', '', '', '', '', '', '', '', '', '', '', '', '', '', '', '', '', '', '', '', '', '', '', '', '', '', '', '', '', '', '', '', '', '', '', '', '', '', '', '', '', '', '', '', '', '', '', '', '', '', '', '', '', '', '', '', '', '', '', '', '', '', '', '', '', '', '', '', '', '', '', '', '교육역량강화사업', '컨텐츠', '', '', '', '', '', '', '', '', '', '', '', '', '', '', '', '', '교육역량강화사업', '온라인', '컨텐츠를', '소개합니다.', '', '', '', '', '', '', '', '', '', '', '', '', '', '', '', '', '바로가기', '', '', '', '', '', '', '', '', '', '', '', '', '', '', '', '', '', '', '', '', '', '', '', '', '', '', '', '', '', '', '', '', '', '', '', '', '', '', '', '', '', '', '', '', '', '', '', '', '', '', '', '', '', '', '', '', '', '', '', '', '', '공지사항', '', '', '', '', '', '', '', '', '', '', '', '', '', '', '', '', '', '', '', '', '', '', '', '', '', '', '', '', '', '', '', '', '', '', '', '', '', '', '', '', '', '', '', '', '', '', '', '', '', '', '', '', '', '', '', '', '', '', '', '', '', '', '', '', '', '', '', '', '', '', '', '', '', '', '', '', '', '', '', '', '', '', '', '', '', '', '', '', '', '', '', '', '', '', '', '', '', '', '', '', '', '', '', '', '', '', '', '', '', '', '', '', '', '', '[졸업작품]', '2018', '졸업작품', '산업체', '평가회', '결과에', '따른', '...', '', '', '', '', '', '', '', '', '', '', '', '', '', '', '', '', '', '', '', '', '', '', '', '', '', '', '', '', '', '', '', '', '', '', '', '', '', '', '', '', '', '', '', '', '', '', '', '', '', '', '', '', '', '', '', '', '', '', '', '', '', '', '', '', '', '', '', '', '', '', '', '', '', '', '', '', '', '', '', '', '', '', '', '', '', '', '', '', '', '', '', '', '', '', '', '', '', '', '', '', '', '', '', '', '', '', '', '', '', '', '', '', '', '', '', '', '', '', '', '', '', '', '', '', '2018-10-19', '14:09', '14:09', '', '', '', '', '', '', '', '', '', '', '', '', '', '', '', '', '', '', '', '', '', '', '', '', '', '', '', '', '', '', '', '', '', '', '', '', '', '', '', '', '', '', '', '', '', '', '', '', '', '', '', '', '', '', '', '', '', '', '', '', '', '', '', '', '', '', '', '', '', '', '', '', '', '', '', '', '', '', '', '', '', '', '', '', '', '', '', '', '', '', '', '', '', '', '', '', '', '', '', '', '', '', '', '', '', '', '', '', '', '', '', '', '', '', '', '', '', '', '', '', '', '', '', '', '', '', '', '', '', '', '', '', '', '', '', '', '', '', '', '', '', '', '[특성화]', '5차년도', 'IT융합', '개도국', '기술지원', '봉사(해외)', '...', '', '', '', '', '', '', '', '', '', '', '', '', '', '', '', '', '', '', '', '', '', '', '', '', '', '', '', '', '', '', '', '', '', '', '', '', '', '', '', '', '', '', '', '', '', '', '', '', '', '', '', '', '', '', '', '', '', '', '', '', '', '', '', '', '', '', '', '', '', '', '', '', '', '', '', '', '', '', '', '', '', '', '', '', '', '', '', '', '', '', '', '', '', '', '', '', '', '', '', '', '', '', '', '', '', '', '', '', '', '', '', '', '', '', '', '', '', '', '', '', '', '', '', '', '2018-10-17', '13:57', '13:57', '', '', '', '', '', '', '', '', '', '', '', '', '', '', '', '', '', '', '', '', '', '', '', '', '', '', '', '', '', '', '', '', '', '', '', '', '', '', '', '', '', '', '', '', '', '', '', '', '', '', '', '', '', '', '', '', '', '', '', '', '', '', '', '', '', '', '', '', '', '', '', '', '', '', '', '', '', '', '', '', '', '', '', '', '', '', '', '', '', '', '', '', '', '', '', '', '', '', '', '', '', '', '', '', '', '', '', '', '', '', '', '', '', '', '', '', '', '', '', '', '', '', '', '', '', '', '', '', '', '', '', '', '', '', '', '', '', '', '', '', '', '', '[특성화]', '2018', '졸업작품', '산업체', '평가회', '결과', '공지(졸작...', '', '', '', '', '', '', '', '', '', '', '', '', '', '', '', '', '', '', '', '', '', '', '', '', '', '', '', '', '', '', '', '', '', '', '', '', '', '', '', '', '', '', '', '', '', '', '', '', '', '', '', '', '', '', '', '', '', '', '', '', '', '', '', '', '', '', '', '', '', '', '', '', '', '', '', '', '', '', '', '', '', '', '', '', '', '', '', '', '', '', '', '', '', '', '', '', '', '', '', '', '', '', '', '', '', '', '', '', '', '', '', '', '', '', '', '', '', '', '', '', '', '', '', '', '2018-10-16', '15:52', '15:52', '', '', '', '', '', '', '', '', '', '', '', '', '', '', '', '', '', '', '', '', '', '', '', '', '', '', '', '', '', '', '', '', '', '', '', '', '', '', '', '', '', '', '', '', '', '', '', '', '', '', '', '', '', '', '', '', '', '', '', '', '', '', '', '', '', '', '', '', '', '', '', '', '', '', '', '', '', '', '', '', '', '', '', '', '', '', '', '', '', '', '', '', '', '', '', '', '', '', '', '', '', '', '', '', '', '', '', '', '', '', '', '', '', '', '', '', '', '', '', '', '', '', '', '', '', '', '', '', '', '', '', '', '', '', '', '', '', '', '', '', '', '', '[특성화]', '5차년도', '지식재산권(특허)', '출원', '지원', '접수', '알림', '', '', '', '', '', '', '', '', '', '', '', '', '', '', '', '', '', '', '', '', '', '', '', '', '', '', '', '', '', '', '', '', '', '', '', '', '', '', '', '', '', '', '', '', '', '', '', '', '', '', '', '', '', '', '', '', '', '', '', '', '', '', '', '', '', '', '', '', '', '', '', '', '', '', '', '', '', '', '', '', '', '', '', '', '', '', '', '', '', '', '', '', '', '', '', '', '', '', '', '', '', '', '', '', '', '', '', '', '', '', '', '', '', '', '', '', '', '', '', '', '', '', '', '', '2018-10-16', '09:32', '09:32', '', '', '', '', '', '', '', '', '', '', '', '', '', '', '', '', '', '', '', '', '', '', '', '', '', '', '', '', '', '', '', '', '', '', '', '', '', '', '', '', '', '', '', '', '', '', '', '', '', '', '', '', '', '', '', '', '', '', '', '', '', '', '', '', '', '', '', '', '', '', '', '', '', '', '', '', '', '', '', '', '', '', '', '', '', '', '', '', '', '', '', '', '', '', '', '', '', '', '', '', '', '', '', '', '', '', '', '', '', '', '', '', '', '', '', '', '', '', '', '', '', '', '', '', '', '', '', '', '', '', '', '', '', '', '', '', '', '', '', '', '', '', '[특성화]', 'G-STAR', '2018', '전시회', '선발', '학생', '공고', '', '', '', '', '', '', '', '', '', '', '', '', '', '', '', '', '', '', '', '', '', '', '', '', '', '', '', '', '', '', '', '', '', '', '', '', '', '', '', '', '', '', '', '', '', '', '', '', '', '', '', '', '', '', '', '', '', '', '', '', '', '', '', '', '', '', '', '', '', '', '', '', '', '', '', '', '', '', '', '', '', '', '', '', '', '', '', '', '', '', '', '', '', '', '', '', '', '', '', '', '', '', '', '', '', '', '', '', '', '', '', '', '', '', '', '', '', '', '', '', '', '', '', '', '2018-10-08', '17:14', '17:14', '', '', '', '', '', '', '', '', '', '', '', '', '', '', '', '', '', '', '', '', '', '', '', '', '', '', '', '', '', '', '', '', '', '', '', '', '', '', '', '', '', '', '', '', '', '', '', '', '', '', '', '', '', '', '', '', '', '', '', '', '', '', '', '', '', '', '', '', '', '', '', '', '', '', '', '', '', '', '', '', '', '', '', '', '', '자유게시판', '', '', '', '', '', '', '', '', '', '', '', '', '', '', '', '', '', '', '', '', '', '', '', '', '', '', '', '', '', '', '', '', '', '', '', '', '', '', '', '', '', '', '', '', '', '', '', '', '', '', '', '', '', '', '', '', '', '', '', '', '', '', '', '', '', '', '', '', '', '', '', '', '', '', '', '', '', '', '', '', '', '', '', '', '', '', '', '', '', '', '', '', '', '', '', '', '', '', '', '', '', '', '', '', '', '', '', '', '', '', '', '', '', '', '★문화의날', '행사', '공지★', '', '', '', '', '', '', '', '', '', '', '', '', '', '', '', '', '', '', '', '', '', '', '', '', '', '', '', '', '', '', '', '', '', '', '', '', '', '', '', '', '', '', '', '', '', '', '', '', '', '', '', '', '', '', '', '', '', '', '', '', '', '', '', '', '', '', '', '', '', '', '', '', '', '', '', '', '', '', '', '', '', '', '', '', '', '', '', '', '', '', '', '', '', '', '', '', '', '', '', '', '', '', '', '', '', '', '', '', '', '', '', '', '', '', '', '', '', '', '', '', '', '', '', '', '2018-10-19', '20:31', '20:31', '', '', '', '', '', '', '', '', '', '', '', '', '', '', '', '', '', '', '', '', '', '', '', '', '', '', '', '', '', '', '', '', '', '', '', '', '', '', '', '', '', '', '', '', '', '', '', '', '', '', '', '', '', '', '', '', '', '', '', '', '', '', '', '', '', '', '', '', '', '', '', '', '', '', '', '', '', '', '', '', '', '', '', '', '', '', '', '', '', '', '', '', '', '', '', '', '', '', '', '', '', '', '', '', '', '', '', '', '', '', '', '', '', '', '', '', '', '', '', '', '', '', '', '', '', '', '', '', '', '', '', '', '', '', '', '', '', '', '', '', '', '', '졸업작품전시회', '기간', '헤어/메이크업', '', '', '', '', '', '', '', '', '', '', '', '', '', '', '', '', '', '', '', '', '', '', '', '', '', '', '', '', '', '', '', '', '', '', '', '', '', '', '', '', '', '', '', '', '', '', '', '', '', '', '', '', '', '', '', '', '', '', '', '', '', '', '', '', '', '', '', '', '', '', '', '', '', '', '', '', '', '', '', '', '', '', '', '', '', '', '', '', '', '', '', '', '', '', '', '', '', '', '', '', '', '', '', '', '', '', '', '', '', '', '', '', '', '', '', '', '', '', '', '', '', '', '', '', '2018-10-07', '14:48', '14:48', '', '', '', '', '', '', '', '', '', '', '', '', '', '', '', '', '', '', '', '', '', '', '', '', '', '', '', '', '', '', '', '', '', '', '', '', '', '', '', '', '', '', '', '', '', '', '', '', '', '', '', '', '', '', '', '', '', '', '', '', '', '', '', '', '', '', '', '', '', '', '', '', '', '', '', '', '', '', '', '', '', '', '', '', '', '', '', '', '', '', '', '', '', '', '', '', '', '', '', '', '', '', '', '', '', '', '', '', '', '', '', '', '', '', '', '', '', '', '', '', '', '', '', '', '', '', '', '', '', '', '', '', '', '', '', '', '', '', '', '', '', '', '※모의토익비', '지원', '공지※', '', '', '', '', '', '', '', '', '', '', '', '', '', '', '', '', '', '', '', '', '', '', '', '', '', '', '', '', '', '', '', '', '', '', '', '', '', '', '', '', '', '', '', '', '', '', '', '', '', '', '', '', '', '', '', '', '', '', '', '', '', '', '', '', '', '', '', '', '', '', '', '', '', '', '', '', '', '', '', '', '', '', '', '', '', '', '', '', '', '', '', '', '', '', '', '', '', '', '', '', '', '', '', '', '', '', '', '', '', '', '', '', '', '', '', '', '', '', '', '', '', '', '', '', '2018-09-28', '09:37', '09:37', '', '', '', '', '', '', '', '', '', '', '', '', '', '', '', '', '', '', '', '', '', '', '', '', '', '', '', '', '', '', '', '', '', '', '', '', '', '', '', '', '', '', '', '', '', '', '', '', '', '', '', '', '', '', '', '', '', '', '', '', '', '', '', '', '', '', '', '', '', '', '', '', '', '', '', '', '', '', '', '', '', '', '', '', '', '', '', '', '', '', '', '', '', '', '', '', '', '', '', '', '', '', '', '', '', '', '', '', '', '', '', '', '', '', '', '', '', '', '', '', '', '', '', '', '', '', '', '', '', '', '', '', '', '', '', '', '', '', '', '', '', '', 'ACM-ICPC', '예선', '신청기간이', '얼마', '안', '남았습니다!', '', '', '', '', '', '', '', '', '', '', '', '', '', '', '', '', '', '', '', '', '', '', '', '', '', '', '', '', '', '', '', '', '', '', '', '', '', '', '', '', '', '', '', '', '', '', '', '', '', '', '', '', '', '', '', '', '', '', '', '', '', '', '', '', '', '', '', '', '', '', '', '', '', '', '', '', '', '', '', '', '', '', '', '', '', '', '', '', '', '', '', '', '', '', '', '', '', '', '', '', '', '', '', '', '', '', '', '', '', '', '', '', '', '', '', '', '', '', '', '', '', '', '', '', '2018-09-13', '11:36', '11:36', '', '', '', '', '', '', '', '', '', '', '', '', '', '', '', '', '', '', '', '', '', '', '', '', '', '', '', '', '', '', '', '', '', '', '', '', '', '', '', '', '', '', '', '', '', '', '', '', '', '', '', '', '', '', '', '', '', '', '', '', '', '', '', '', '', '', '', '', '', '', '', '', '', '', '', '', '', '', '', '', '', '', '', '', '', '', '', '', '', '', '', '', '', '', '', '', '', '', '', '', '', '', '', '', '', '', '', '', '', '', '', '', '', '', '', '', '', '', '', '', '', '', '', '', '', '', '', '', '', '', '', '', '', '', '', '', '', '', '', '', '', '', '문화행사', '취소', '공지', '', '', '', '', '', '', '', '', '', '', '', '', '', '', '', '', '', '', '', '', '', '', '', '', '', '', '', '', '', '', '', '', '', '', '', '', '', '', '', '', '', '', '', '', '', '', '', '', '', '', '', '', '', '', '', '', '', '', '', '', '', '', '', '', '', '', '', '', '', '', '', '', '', '', '', '', '', '', '', '', '', '', '', '', '', '', '', '', '', '', '', '', '', '', '', '', '', '', '', '', '', '', '', '', '', '', '', '', '', '', '', '', '', '', '', '', '', '', '', '', '', '', '', '', '2018-09-10', '19:17', '19:17', '', '', '', '', '', '', '', '', '', '', '', '', '', '', '', '', '', '', '', '', '', '', '', '', '', '', '', '', '', '', '', '', '', '', '', '', '', '', '', '', '', '', '', '', '', '', '', '', '', '', '', '', '', '', '', '', '', '', '', '', '', '', '', '', '', '', '', '', '', '', '', '', '', '', '', '', '', '', '', '', '', '', '', '', '', '취업게시판', '', '', '', '', '', '', '', '', '', '', '', '', '', '', '', '', '', '', '', '', '', '', '', '', '', '', '', '', '', '', '', '', '', '', '', '', '', '', '', '', '', '', '', '', '', '', '', '', '', '', '', '', '', '', '', '', '', '', '', '', '', '', '', '', '', '', '', '', '', '', '', '', '', '', '', '', '', '', '', '', '', '', '', '', '', '', '', '', '', '', '', '', '', '', '', '', '', '', '', '', '', '', '', '', '', '', '', '', '', '', '', '', '', '', '[국가보안기술연구소]', '정규직', '채용', '', '', '', '', '', '', '', '', '', '', '', '', '', '', '', '', '', '', '', '', '', '', '', '', '', '', '', '', '', '', '', '', '', '', '', '', '', '', '', '', '', '', '', '', '', '', '', '', '', '', '', '', '', '', '', '', '', '', '', '', '', '', '', '', '', '', '', '', '', '', '', '', '', '', '', '', '', '', '', '', '', '', '', '', '', '', '', '', '', '', '', '', '', '', '', '', '', '', '', '', '', '', '', '', '', '', '', '', '', '', '', '', '', '', '', '', '', '', '', '', '', '', '', '', '2018-10-04', '14:18', '14:18', '', '', '', '', '', '', '', '', '', '', '', '', '', '', '', '', '', '', '', '', '', '', '', '', '', '', '', '', '', '', '', '', '', '', '', '', '', '', '', '', '', '', '', '', '', '', '', '', '', '', '', '', '', '', '', '', '', '', '', '', '', '', '', '', '', '', '', '', '', '', '', '', '', '', '', '', '', '', '', '', '', '', '', '', '', '', '', '', '', '', '', '', '', '', '', '', '', '', '', '', '', '', '', '', '', '', '', '', '', '', '', '', '', '', '', '', '', '', '', '', '', '', '', '', '', '', '', '', '', '', '', '', '', '', '', '', '', '', '', '', '', '', '한글과컴퓨터그룹', '2018년', '하반기', '신입/경력', '공채', '~10.10', '', '', '', '', '', '', '', '', '', '', '', '', '', '', '', '', '', '', '', '', '', '', '', '', '', '', '', '', '', '', '', '', '', '', '', '', '', '', '', '', '', '', '', '', '', '', '', '', '', '', '', '', '', '', '', '', '', '', '', '', '', '', '', '', '', '', '', '', '', '', '', '', '', '', '', '', '', '', '', '', '', '', '', '', '', '', '', '', '', '', '', '', '', '', '', '', '', '', '', '', '', '', '', '', '', '', '', '', '', '', '', '', '', '', '', '', '', '', '', '', '', '', '', '', '2018-09-27', '13:13', '13:13', '', '', '', '', '', '', '', '', '', '', '', '', '', '', '', '', '', '', '', '', '', '', '', '', '', '', '', '', '', '', '', '', '', '', '', '', '', '', '', '', '', '', '', '', '', '', '', '', '', '', '', '', '', '', '', '', '', '', '', '', '', '', '', '', '', '', '', '', '', '', '', '', '', '', '', '', '', '', '', '', '', '', '', '', '', '', '', '', '', '', '', '', '', '', '', '', '', '', '', '', '', '', '', '', '', '', '', '', '', '', '', '', '', '', '', '', '', '', '', '', '', '', '', '', '', '', '', '', '', '', '', '', '', '', '', '', '', '', '', '', '', '', '[구인]천안', '충무병원', '전산실', '', '', '', '', '', '', '', '', '', '', '', '', '', '', '', '', '', '', '', '', '', '', '', '', '', '', '', '', '', '', '', '', '', '', '', '', '', '', '', '', '', '', '', '', '', '', '', '', '', '', '', '', '', '', '', '', '', '', '', '', '', '', '', '', '', '', '', '', '', '', '', '', '', '', '', '', '', '', '', '', '', '', '', '', '', '', '', '', '', '', '', '', '', '', '', '', '', '', '', '', '', '', '', '', '', '', '', '', '', '', '', '', '', '', '', '', '', '', '', '', '', '', '', '', '2018-09-18', '15:25', '15:25', '', '', '', '', '', '', '', '', '', '', '', '', '', '', '', '', '', '', '', '', '', '', '', '', '', '', '', '', '', '', '', '', '', '', '', '', '', '', '', '', '', '', '', '', '', '', '', '', '', '', '', '', '', '', '', '', '', '', '', '', '', '', '', '', '', '', '', '', '', '', '', '', '', '', '', '', '', '', '', '', '', '', '', '', '', '', '', '', '', '', '', '', '', '', '', '', '', '', '', '', '', '', '', '', '', '', '', '', '', '', '', '', '', '', '', '', '', '', '', '', '', '', '', '', '', '', '', '', '', '', '', '', '', '', '', '', '', '', '', '', '', '', '[정부교육]', 'K-Shield', '주니어', '교육생', '모집(정보보호)', '~9.5', '', '', '', '', '', '', '', '', '', '', '', '', '', '', '', '', '', '', '', '', '', '', '', '', '', '', '', '', '', '', '', '', '', '', '', '', '', '', '', '', '', '', '', '', '', '', '', '', '', '', '', '', '', '', '', '', '', '', '', '', '', '', '', '', '', '', '', '', '', '', '', '', '', '', '', '', '', '', '', '', '', '', '', '', '', '', '', '', '', '', '', '', '', '', '', '', '', '', '', '', '', '', '', '', '', '', '', '', '', '', '', '', '', '', '', '', '', '', '', '', '', '', '', '', '2018-09-03', '07:53', '07:53', '', '', '', '', '', '', '', '', '', '', '', '', '', '', '', '', '', '', '', '', '', '', '', '', '', '', '', '', '', '', '', '', '', '', '', '', '', '', '', '', '', '', '', '', '', '', '', '', '', '', '', '', '', '', '', '', '', '', '', '', '', '', '', '', '', '', '', '', '', '', '', '', '', '', '', '', '', '', '', '', '', '', '', '', '', '', '', '', '', '', '', '', '', '', '', '', '', '', '', '', '', '', '', '', '', '', '', '', '', '', '', '', '', '', '', '', '', '', '', '', '', '', '', '', '', '', '', '', '', '', '', '', '', '', '', '', '', '', '', '', '', '', '인천]', '에이스테크놀로지', '연구개발인력', '모집', '~', '2018.9.9...', '', '', '', '', '', '', '', '', '', '', '', '', '', '', '', '', '', '', '', '', '', '', '', '', '', '', '', '', '', '', '', '', '', '', '', '', '', '', '', '', '', '', '', '', '', '', '', '', '', '', '', '', '', '', '', '', '', '', '', '', '', '', '', '', '', '', '', '', '', '', '', '', '', '', '', '', '', '', '', '', '', '', '', '', '', '', '', '', '', '', '', '', '', '', '', '', '', '', '', '', '', '', '', '', '', '', '', '', '', '', '', '', '', '', '', '', '', '', '', '', '', '', '', '', '2018-08-29', '09:06', '09:06', '', '', '', '', '', '', '', '', '', '', '', '', '', '', '', '', '', '', '', '', '', '', '', '', '', '', '', '', '', '', '', '', '', '', '', '', '', '', '', '', '', '', '', '', '', '', '', '', '', '', '', '', '', '', '', '', '', '', '', '', '', '', '', '', '', '', '', '', '', '', '', '', '', '', '', '', '', '', '', '', '', '', '', '', '', 'Platum', '', '', '', '', '', '', '', '', '', '', '', '', '', '', '', '', '', '', '', '', '', '', '', '', '', '', '', '', '', '', '', '', '', '', '', '', '', '', '', '', '', '', '', '', '', '', '', '', '', '', '', '', '', '', '', '', '', '', '', '', '', '', '', '', '', '', '', '', '', '', '', '', '', '', '', '', '', '', '', '', '', '', '', '', '', '', '', '', '', '', '', '', '', '', '', '', '', '', '', '', '', '', '', '', '', '', '', '', '', '', '', '', '', '', '네이버,', '포춘이', '선정한', '‘미래유망기업’', '6위에', '선정', '', '', '', '', '', '', '', '', '', '', '', '', '', '', '', '', '', '', '', '', '', '', '', '', '', '', '', '', '', '', '', '', '', '', '', '', '', '', '', '', '', '', '', '', '', '', '', '', '', '', '', '', '', '', '', '', '', '', '', '', '', '', '', '', '', '', '', '', '', '', '', '', '', '', '', '', '', '', '', '', '', '', '', '', '', '', '', '', '', '', '', '', '', '', '', '', '', '', '', '', '', '', '', '', '', '', '', '', '', '', '', '', '', '', '', '', '', '', '', '', '', '', '', '', '', '', '', '', '', '', '', '', '', '', '', '', '', '', '', '', '', '', '', '', '', '', '', '', '', '', '', '', '', '', '', '', '', '', '', '', '', '', '', '', '', '', '', '', '', '2018-10-19', '14:30', '14:30', '', '', '', '', '', '', '', '', '', '', '', '', '', '', '', '', '', '', '', '', '', '', '', '', '', '', '', '', '', '', '', '', '', '', '', '', '', '', '', '', '', '', '', '', '', '', '', '', '', '', '', '', '', '', '', '', '', '', '', '', '', '', '', '', '', '', '', '', '', '', '', '', '', '', '', '', '', '', '', '', '', '', '', '', '', '', '', '', '', '', '', '', '', '', '', '', '', '', '', '', '', '', '', '', '', '', '', '', '', '', '', '', '', '', '', '', '', '', '', '', '', '', '', '', '', '', '', '', '', '', '', '', '', '', '', '', '', '', '', '', '', '', '', '', '', '', '', '', '', '', '', '', '', '', '', '', '', '', '', '', '', '', '', '', '', '', '', '', '', '', '10월', '넷째', '주', '스타트업', '이벤트(1022~1028)', '', '', '', '', '', '', '', '', '', '', '', '', '', '', '', '', '', '', '', '', '', '', '', '', '', '', '', '', '', '', '', '', '', '', '', '', '', '', '', '', '', '', '', '', '', '', '', '', '', '', '', '', '', '', '', '', '', '', '', '', '', '', '', '', '', '', '', '', '', '', '', '', '', '', '', '', '', '', '', '', '', '', '', '', '', '', '', '', '', '', '', '', '', '', '', '', '', '', '', '', '', '', '', '', '', '', '', '', '', '', '', '', '', '', '', '', '', '', '', '', '', '', '', '', '', '', '', '', '', '', '', '', '', '', '', '', '', '', '', '', '', '', '', '', '', '', '', '', '', '', '', '', '', '', '', '', '', '', '', '', '', '', '', '', '', '', '', '', '', '2018-10-19', '10:59', '10:59', '', '', '', '', '', '', '', '', '', '', '', '', '', '', '', '', '', '', '', '', '', '', '', '', '', '', '', '', '', '', '', '', '', '', '', '', '', '', '', '', '', '', '', '', '', '', '', '', '', '', '', '', '', '', '', '', '', '', '', '', '', '', '', '', '', '', '', '', '', '', '', '', '', '', '', '', '', '', '', '', '', '', '', '', '', '', '', '', '', '', '', '', '', '', '', '', '', '', '', '', '', '', '', '', '', '', '', '', '', '', '', '', '', '', '', '', '', '', '', '', '', '', '', '', '', '', '', '', '', '', '', '', '', '', '', '', '', '', '', '', '', '', '', '', '', '', '', '', '', '', '', '', '', '', '', '', '', '', '', '', '', '', '', '', '', '', '', '', '', '', '[10월', '19일', '스타트업', '비즈니스', '동향]두브레인,위드이노...', '', '', '', '', '', '', '', '', '', '', '', '', '', '', '', '', '', '', '', '', '', '', '', '', '', '', '', '', '', '', '', '', '', '', '', '', '', '', '', '', '', '', '', '', '', '', '', '', '', '', '', '', '', '', '', '', '', '', '', '', '', '', '', '', '', '', '', '', '', '', '', '', '', '', '', '', '', '', '', '', '', '', '', '', '', '', '', '', '', '', '', '', '', '', '', '', '', '', '', '', '', '', '', '', '', '', '', '', '', '', '', '', '', '', '', '', '', '', '', '', '', '', '', '', '', '', '', '', '', '', '', '', '', '', '', '', '', '', '', '', '', '', '', '', '', '', '', '', '', '', '', '', '', '', '', '', '', '', '', '', '', '', '', '', '', '', '', '', '', '2018-10-19', '10:06', '10:06', '', '', '', '', '', '', '', '', '', '', '', '', '', '', '', '', '', '', '', '', '', '', '', '', '', '', '', '', '', '', '', '', '', '', '', '', '', '', '', '', '', '', '', '', '', '', '', '', '', '', '', '', '', '', '', '', '', '', '', '', '', '', '', '', '', '', '', '', '', '', '', '', '', '', '', '', '', '', '', '', '', '', '', '', '', '', '', '', '', '', '', '', '', '', '', '', '', '', '', '', '', '', '', '', '', '', '', '', '', '', '', '', '', '', '', '', '', '', '', '', '', '', '', '', '', '', '', '', '', '', '', '', '', '', '', '', '', '', '', '', '', '', '', '', '', '', '', '', '', '', '', '', '', '', '', '', '', '', '', '', '', '', '', '', '', '', '', '', '', '', '호텔', '연회장', '예약', '플랫폼', '‘루북’,', '10월', '22일', '베타', '서비...', '', '', '', '', '', '', '', '', '', '', '', '', '', '', '', '', '', '', '', '', '', '', '', '', '', '', '', '', '', '', '', '', '', '', '', '', '', '', '', '', '', '', '', '', '', '', '', '', '', '', '', '', '', '', '', '', '', '', '', '', '', '', '', '', '', '', '', '', '', '', '', '', '', '', '', '', '', '', '', '', '', '', '', '', '', '', '', '', '', '', '', '', '', '', '', '', '', '', '', '', '', '', '', '', '', '', '', '', '', '', '', '', '', '', '', '', '', '', '', '', '', '', '', '', '', '', '', '', '', '', '', '', '', '', '', '', '', '', '', '', '', '', '', '', '', '', '', '', '', '', '', '', '', '', '', '', '', '', '', '', '', '', '', '', '', '', '', '', '', '2018-10-19', '09:57', '09:57', '', '', '', '', '', '', '', '', '', '', '', '', '', '', '', '', '', '', '', '', '', '', '', '', '', '', '', '', '', '', '', '', '', '', '', '', '', '', '', '', '', '', '', '', '', '', '', '', '', '', '', '', '', '', '', '', '', '', '', '', '', '', '', '', '', '', '', '', '', '', '', '', '', '', '', '', '', '', '', '', '', '', '', '', '', '', '', '', '', '', '', '', '', '', '', '', '', '', '', '', '', '', '', '', '', '', '', '', '', '', '', '', '', '', '', '', '', '', '', '', '', '', '', '', '', '', '', '', '', '', '', '', '', '', '', '', '', '', '', '', '', '', '', '', '', '', '', '', '', '', '', '', '', '', '', '', '', '', '', '', '', '', '', '', '', '', '', '', '', '', '징둥닷컴,', '스마트', '도시', '물류', '시스템', '구축', '위한', '연구소', '...', '', '', '', '', '', '', '', '', '', '', '', '', '', '', '', '', '', '', '', '', '', '', '', '', '', '', '', '', '', '', '', '', '', '', '', '', '', '', '', '', '', '', '', '', '', '', '', '', '', '', '', '', '', '', '', '', '', '', '', '', '', '', '', '', '', '', '', '', '', '', '', '', '', '', '', '', '', '', '', '', '', '', '', '', '', '', '', '', '', '', '', '', '', '', '', '', '', '', '', '', '', '', '', '', '', '', '', '', '', '', '', '', '', '', '', '', '', '', '', '', '', '', '', '', '', '', '', '', '', '', '', '', '', '', '', '', '', '', '', '', '', '', '', '', '', '', '', '', '', '', '', '', '', '', '', '', '', '', '', '', '', '', '', '', '', '', '', '', '', '2018-10-19', '09:48', '09:48', '', '', '', '', '', '', '', '', '', '', '', '', '', '', '', '', '', '', '', '', '', '', '', '', '', '', '', '', '', '', '', '', '', '', '', '', '', '', '', '', '', '', '', '', '', '', '', '', '', '', '', '', '', '', '', '', '', '', '', '', '', '', '', '', '', '', '', '', '', '', '', '', '', '', '', '', '', '', '', '', '', '', '', '', '', '', '', '', '', '', '', '', '', '', '', '', '', '', '', '', '', '', '', '', '', '', '', '', '', '', '', '', '', '전자신문', '', '', '', '', '', '', '', '', '', '', '', '', '', '', '', '', '', '', '', '', '', '', '', '', '', '', '', '', '', '', '', '', '', '', '', '', '', '', '', '', '', '', '', '', '', '', '', '', '', '', '', '', '', '', '', '', '', '', '', '', '', '', '', '', '', '', '', '', '', '', '', '', '', '', '', '', '', '', '', '', '', '', '', '', '', '', '', '', '', '', '', '', '', '', '', '', '', '', '', '', '', '', '', '', '', '', '', '', '', '', '', '', '', '', '최태원', '회장', '“사회적가치', '추구로', 'BM', '혁신', '실행력', '...', '', '', '', '', '', '', '', '', '', '', '', '', '', '', '', '', '', '', '', '', '', '', '', '', '', '', '', '', '', '', '', '', '', '', '', '', '', '', '', '', '', '', '', '', '', '', '', '', '', '', '', '', '', '', '', '', '', '', '', '', '', '', '', '', '', '', '', '', '', '', '', '', '', '', '', '', '', '', '', '', '', '', '', '', '', '', '', '', '', '', '', '', '', '', '', '', '', '', '', '', '', '', '', '', '', '', '', '', '', '', '', '', '', '', '', '', '', '', '', '', '', '', '', '', '', '', '', '', '', '', '', '', '', '', '', '', '', '', '', '', '', '', '', '', '', '', '', '', '', '', '', '', '', '', '', '', '', '', '', '', '', '', '', '', '', '', '', '', '', '2018-10-19', '18:00', '18:00', '', '', '', '', '', '', '', '', '', '', '', '', '', '', '', '', '', '', '', '', '', '', '', '', '', '', '', '', '', '', '', '', '', '', '', '', '', '', '', '', '', '', '', '', '', '', '', '', '', '', '', '', '', '', '', '', '', '', '', '', '', '', '', '', '', '', '', '', '', '', '', '', '', '', '', '', '', '', '', '', '', '', '', '', '', '', '', '', '', '', '', '', '', '', '', '', '', '', '', '', '', '', '', '', '', '', '', '', '', '', '', '', '', '', '', '', '', '', '', '', '', '', '', '', '', '', '', '', '', '', '', '', '', '', '', '', '', '', '', '', '', '', 'SK텔레콤,', \"'SKT\", 'TEB', \"콘퍼런스'\", '개최...ICT', '기술·...', '', '', '', '', '', '', '', '', '', '', '', '', '', '', '', '', '', '', '', '', '', '', '', '', '', '', '', '', '', '', '', '', '', '', '', '', '', '', '', '', '', '', '', '', '', '', '', '', '', '', '', '', '', '', '', '', '', '', '', '', '', '', '', '', '', '', '', '', '', '', '', '', '', '', '', '', '', '', '', '', '', '', '', '', '', '', '', '', '', '', '', '', '', '', '', '', '', '', '', '', '', '', '', '', '', '', '', '', '', '', '', '', '', '', '', '', '', '', '', '', '', '', '', '', '', '', '', '', '', '', '', '', '', '', '', '', '', '', '', '', '', '', '', '', '', '', '', '', '', '', '', '', '', '', '', '', '', '', '', '', '', '', '', '', '', '', '', '', '', '2018-10-19', '16:19', '16:19', '', '', '', '', '', '', '', '', '', '', '', '', '', '', '', '', '', '', '', '', '', '', '', '', '', '', '', '', '', '', '', '', '', '', '', '', '', '', '', '', '', '', '', '', '', '', '', '', '', '', '', '', '', '', '', '', '', '', '', '', '', '', '', '', '', '', '', '', '', '', '', '', '', '', '', '', '', '', '', '', '', '', '', '', '', '', '', '', '', '', '', '', '', '', '', '', '', '', '', '', '', '', '', '', '', '', '', '', '', '', '', '', '', '', '', '', '', '', '', '', '', '', '', '', '', '', '', '', '', '', '', '', '', '', '', '', '', '', '', '', '', '', '[인사]과학기술정보통신부', '', '', '', '', '', '', '', '', '', '', '', '', '', '', '', '', '', '', '', '', '', '', '', '', '', '', '', '', '', '', '', '', '', '', '', '', '', '', '', '', '', '', '', '', '', '', '', '', '', '', '', '', '', '', '', '', '', '', '', '', '', '', '', '', '', '', '', '', '', '', '', '', '', '', '', '', '', '', '', '', '', '', '', '', '', '', '', '', '', '', '', '', '', '', '', '', '', '', '', '', '', '', '', '', '', '', '', '', '', '', '', '', '', '', '', '', '', '', '', '', '', '', '', '', '', '', '', '', '', '', '', '', '', '', '', '', '', '', '', '', '', '', '', '', '', '', '', '', '', '', '', '', '', '', '', '', '', '', '', '', '', '', '', '', '', '', '', '', '', '2018-10-19', '16:13', '16:13', '', '', '', '', '', '', '', '', '', '', '', '', '', '', '', '', '', '', '', '', '', '', '', '', '', '', '', '', '', '', '', '', '', '', '', '', '', '', '', '', '', '', '', '', '', '', '', '', '', '', '', '', '', '', '', '', '', '', '', '', '', '', '', '', '', '', '', '', '', '', '', '', '', '', '', '', '', '', '', '', '', '', '', '', '', '', '', '', '', '', '', '', '', '', '', '', '', '', '', '', '', '', '', '', '', '', '', '', '', '', '', '', '', '', '', '', '', '', '', '', '', '', '', '', '', '', '', '', '', '', '', '', '', '', '', '', '', '', '', '', '', '', '미피,', '5G', '기기·부품', '호환성', '확보하는', '산업용', '인터...', '', '', '', '', '', '', '', '', '', '', '', '', '', '', '', '', '', '', '', '', '', '', '', '', '', '', '', '', '', '', '', '', '', '', '', '', '', '', '', '', '', '', '', '', '', '', '', '', '', '', '', '', '', '', '', '', '', '', '', '', '', '', '', '', '', '', '', '', '', '', '', '', '', '', '', '', '', '', '', '', '', '', '', '', '', '', '', '', '', '', '', '', '', '', '', '', '', '', '', '', '', '', '', '', '', '', '', '', '', '', '', '', '', '', '', '', '', '', '', '', '', '', '', '', '', '', '', '', '', '', '', '', '', '', '', '', '', '', '', '', '', '', '', '', '', '', '', '', '', '', '', '', '', '', '', '', '', '', '', '', '', '', '', '', '', '', '', '', '', '2018-10-19', '15:49', '15:49', '', '', '', '', '', '', '', '', '', '', '', '', '', '', '', '', '', '', '', '', '', '', '', '', '', '', '', '', '', '', '', '', '', '', '', '', '', '', '', '', '', '', '', '', '', '', '', '', '', '', '', '', '', '', '', '', '', '', '', '', '', '', '', '', '', '', '', '', '', '', '', '', '', '', '', '', '', '', '', '', '', '', '', '', '', '', '', '', '', '', '', '', '', '', '', '', '', '', '', '', '', '', '', '', '', '', '', '', '', '', '', '', '', '', '', '', '', '', '', '', '', '', '', '', '', '', '', '', '', '', '', '', '', '', '', '', '', '', '', '', '', '', 'KT,', '기지국', '유지보수', '협력사', '계열사', '편입···kt', 'MO...', '', '', '', '', '', '', '', '', '', '', '', '', '', '', '', '', '', '', '', '', '', '', '', '', '', '', '', '', '', '', '', '', '', '', '', '', '', '', '', '', '', '', '', '', '', '', '', '', '', '', '', '', '', '', '', '', '', '', '', '', '', '', '', '', '', '', '', '', '', '', '', '', '', '', '', '', '', '', '', '', '', '', '', '', '', '', '', '', '', '', '', '', '', '', '', '', '', '', '', '', '', '', '', '', '', '', '', '', '', '', '', '', '', '', '', '', '', '', '', '', '', '', '', '', '', '', '', '', '', '', '', '', '', '', '', '', '', '', '', '', '', '', '', '', '', '', '', '', '', '', '', '', '', '', '', '', '', '', '', '', '', '', '', '', '', '', '', '', '', '2018-10-19', '14:32', '14:32', '', '', '', '', '', '', '', '', '', '', '', '', '', '', '', '', '', '', '', '', '', '', '', '', '', '', '', '', '', '', '', '', '', '', '', '', '', '', '', '', '', '', '', '', '', '', '', '', '', '', '', '', '', '', '', '', '', '', '', '', '', '', '', '', '', '', '', '', '', '', '', '', '', '', '', '', '', '', '', '', '', '', '', '', '', 'TechCrunch', '', '', '', '', '', '', '', '', '', '', '', '', '', '', '', '', '', '', '', '', '', '', '', '', '', '', '', '', '', '', '', '', '', '', '', '', '', '', '', '', '', '', '', '', '', '', '', '', '', '', '', '', '', '', '', '', '', '', '', '', '', '', '', '', '', '', '', '', '', '', '', '', '', '', '', '', '', '', '', '', '', '', '', '', '', '', '', '', '', '', '', '', '', '', '', '', '', '', '', '', '', '', '', '', '', '', '', '', '', '', '', '', '', '', 'Virtual', 'reality', 'makes', 'food', 'taste', 'better', '', '', '', '', '', '', '', '', '', '', '', '', '', '', '', '', '', '', '', '', '', '', '', '', '', '', '', '', '', '', '', '', '', '', '', '', '', '', '', '', '', '', '', '', '', '', '', '', '', '', '', '', '', '', '', '', '', '', '', '', '', '', '', '', '', '', '', '', '', '', '', '', '', '', '', '', '', '', '', '', '', '', '', '', '', '', '', '', '', '', '', '', '', '', '', '', '', '', '', '', '', '', '', '', '', '', '', '', '', '', '', '', '', '', '', '', '', '', '', '', '', '', '', '', '', '', '', '', '', '', '', '', '', '', '', '', '', '', '', '', '', '', '', '', '', '', '', '', '', '', '', '', '', '', '', '', '', '', '', '', '', '', '', '', '', '', '', '', '', '2018-10-19', '22:16', '22:16', '', '', '', '', '', '', '', '', '', '', '', '', '', '', '', '', '', '', '', '', '', '', '', '', '', '', '', '', '', '', '', '', '', '', '', '', '', '', '', '', '', '', '', '', '', '', '', '', '', '', '', '', '', '', '', '', '', '', '', '', '', '', '', '', '', '', '', '', '', '', '', '', '', '', '', '', '', '', '', '', '', '', '', '', '', '', '', '', '', '', '', '', '', '', '', '', '', '', '', '', '', '', '', '', '', '', '', '', '', '', '', '', '', '', '', '', '', '', '', '', '', '', '', '', '', '', '', '', '', '', '', '', '', '', '', '', '', '', '', '', '', '', 'Twilio', 'shops,', 'Uber', 'and', 'Lyft', 'IPO', 'scuttlebutt,', 'a...', '', '', '', '', '', '', '', '', '', '', '', '', '', '', '', '', '', '', '', '', '', '', '', '', '', '', '', '', '', '', '', '', '', '', '', '', '', '', '', '', '', '', '', '', '', '', '', '', '', '', '', '', '', '', '', '', '', '', '', '', '', '', '', '', '', '', '', '', '', '', '', '', '', '', '', '', '', '', '', '', '', '', '', '', '', '', '', '', '', '', '', '', '', '', '', '', '', '', '', '', '', '', '', '', '', '', '', '', '', '', '', '', '', '', '', '', '', '', '', '', '', '', '', '', '', '', '', '', '', '', '', '', '', '', '', '', '', '', '', '', '', '', '', '', '', '', '', '', '', '', '', '', '', '', '', '', '', '', '', '', '', '', '', '', '', '', '', '', '', '2018-10-19', '22:10', '22:10', '', '', '', '', '', '', '', '', '', '', '', '', '', '', '', '', '', '', '', '', '', '', '', '', '', '', '', '', '', '', '', '', '', '', '', '', '', '', '', '', '', '', '', '', '', '', '', '', '', '', '', '', '', '', '', '', '', '', '', '', '', '', '', '', '', '', '', '', '', '', '', '', '', '', '', '', '', '', '', '', '', '', '', '', '', '', '', '', '', '', '', '', '', '', '', '', '', '', '', '', '', '', '', '', '', '', '', '', '', '', '', '', '', '', '', '', '', '', '', '', '', '', '', '', '', '', '', '', '', '', '', '', '', '', '', '', '', '', '', '', '', '', 'Vector', 'speeds', 'toward', 'orbital', 'launch', 'capability...', '', '', '', '', '', '', '', '', '', '', '', '', '', '', '', '', '', '', '', '', '', '', '', '', '', '', '', '', '', '', '', '', '', '', '', '', '', '', '', '', '', '', '', '', '', '', '', '', '', '', '', '', '', '', '', '', '', '', '', '', '', '', '', '', '', '', '', '', '', '', '', '', '', '', '', '', '', '', '', '', '', '', '', '', '', '', '', '', '', '', '', '', '', '', '', '', '', '', '', '', '', '', '', '', '', '', '', '', '', '', '', '', '', '', '', '', '', '', '', '', '', '', '', '', '', '', '', '', '', '', '', '', '', '', '', '', '', '', '', '', '', '', '', '', '', '', '', '', '', '', '', '', '', '', '', '', '', '', '', '', '', '', '', '', '', '', '', '', '', '2018-10-19', '22:01', '22:01', '', '', '', '', '', '', '', '', '', '', '', '', '', '', '', '', '', '', '', '', '', '', '', '', '', '', '', '', '', '', '', '', '', '', '', '', '', '', '', '', '', '', '', '', '', '', '', '', '', '', '', '', '', '', '', '', '', '', '', '', '', '', '', '', '', '', '', '', '', '', '', '', '', '', '', '', '', '', '', '', '', '', '', '', '', '', '', '', '', '', '', '', '', '', '', '', '', '', '', '', '', '', '', '', '', '', '', '', '', '', '', '', '', '', '', '', '', '', '', '', '', '', '', '', '', '', '', '', '', '', '', '', '', '', '', '', '', '', '', '', '', '', 'TrackR', 'is', 'rebranding', 'to', 'Adero', 'as', 'it', 'looks', 'beyo...', '', '', '', '', '', '', '', '', '', '', '', '', '', '', '', '', '', '', '', '', '', '', '', '', '', '', '', '', '', '', '', '', '', '', '', '', '', '', '', '', '', '', '', '', '', '', '', '', '', '', '', '', '', '', '', '', '', '', '', '', '', '', '', '', '', '', '', '', '', '', '', '', '', '', '', '', '', '', '', '', '', '', '', '', '', '', '', '', '', '', '', '', '', '', '', '', '', '', '', '', '', '', '', '', '', '', '', '', '', '', '', '', '', '', '', '', '', '', '', '', '', '', '', '', '', '', '', '', '', '', '', '', '', '', '', '', '', '', '', '', '', '', '', '', '', '', '', '', '', '', '', '', '', '', '', '', '', '', '', '', '', '', '', '', '', '', '', '', '', '2018-10-19', '22:01', '22:01', '', '', '', '', '', '', '', '', '', '', '', '', '', '', '', '', '', '', '', '', '', '', '', '', '', '', '', '', '', '', '', '', '', '', '', '', '', '', '', '', '', '', '', '', '', '', '', '', '', '', '', '', '', '', '', '', '', '', '', '', '', '', '', '', '', '', '', '', '', '', '', '', '', '', '', '', '', '', '', '', '', '', '', '', '', '', '', '', '', '', '', '', '', '', '', '', '', '', '', '', '', '', '', '', '', '', '', '', '', '', '', '', '', '', '', '', '', '', '', '', '', '', '', '', '', '', '', '', '', '', '', '', '', '', '', '', '', '', '', '', '', '', 'The', '7', 'great', 'features', 'that', 'will', 'hopefully', 'retur...', '', '', '', '', '', '', '', '', '', '', '', '', '', '', '', '', '', '', '', '', '', '', '', '', '', '', '', '', '', '', '', '', '', '', '', '', '', '', '', '', '', '', '', '', '', '', '', '', '', '', '', '', '', '', '', '', '', '', '', '', '', '', '', '', '', '', '', '', '', '', '', '', '', '', '', '', '', '', '', '', '', '', '', '', '', '', '', '', '', '', '', '', '', '', '', '', '', '', '', '', '', '', '', '', '', '', '', '', '', '', '', '', '', '', '', '', '', '', '', '', '', '', '', '', '', '', '', '', '', '', '', '', '', '', '', '', '', '', '', '', '', '', '', '', '', '', '', '', '', '', '', '', '', '', '', '', '', '', '', '', '', '', '', '', '', '', '', '', '', '2018-10-19', '21:54', '21:54', '', '', '', '', '', '', '', '', '', '', '', '', '', '', '', '', '', '', '', '', '', '', '', '', '', '', '', '', '', '', '', '', '', '', '', '', '', '', '', '', '', '', '', '', '', '', '', '', '', '', '', '', '', '', '', '', '', '', '', '', '', '', '', '', '', '', '', '', '', '', '', '', '', '', '', '', '', '', '', '', '', '', '', '', '', '', 'Back', 'to', 'Top', '', '', '', '', '', '', '', '', '', '', '', '', '', '', '', '', '', '', 'Leading', 'Together', 'for', 'Brighter', 'Future', '', '', '', '', '', '', '', '', '', '-->', '', '', '', '', '', '', '', '', '', '', '', '', '', '', '', '', '', '', '', '', '', '', '', '', '', '', '', '', '', '', '', '', '', '', '', '', '', '', '', '', '', '', '', '', '', '', '', '', '', '', '', '', '', '', '', '', '', '', '', '', '', '', '', '', '', '', '', '', '', '', '', '', '', '', '', '', '', '', '', '', '', '', '', '', '', '', '', '', '', 'Quick', 'Navigation', '', '', '', '', '', '', '', '', '', '', '', '', '', '', '', '', '', '', '', '', '', '', '', '', '', '', '', '', '', '', '', '', '', '', '', '', '', '', '', '', '', '', '', '', '', '', '', '', '', '', '', '', '', '한국기술교육대학교', '홈페이지', '', '', '', '', '', '', '', '', '', '', '', '', '', '', '', '', '', '', '', '', '', '', '', '', '', '', '', '', '한국기술교육대학교', 'WEBMAIL', '', '', '', '', '', '', '', '', '', '', '', '', '', '', '', '', '', '', '', '', '', '', '', '', '', '', '', '', '한국기술교육대학교', '온라인', '평생교육원', '', '', '', '', '', '', '', '', '', '', '', '', '', '', '', '', '', '', '', '', '', '', '', '', '', '', '', '', 'IT', '융합소프트웨어', '인력양성사업', '', '', '', '', '', '', '', '', '', '', '', '', '', '', '', '', '', '', '', '', '', '', '', '', '', '', '', '', '컴퓨터공학부', '교직원', '업무', '자료실', '', '', '', '', '', '', '', '', '', '', '', '', '', '', '', '', '', '', '', '', '', '', '', '', '', '', '', '', '컴퓨터공학부', '포트폴리오-->', '', '', '', '', '', '', '', '', '', '', '', '', '', '', '', '', '', '', '', '', '', '', '', '', '', '', '', '', '', '', '', '', '', '', '', '', '', '', '', '', '', '', '', '', '', '', '', '', '', '', '', '', '', '', '', '', '', '', '', '', '', '', '', '', '', '', '', '', '', '', '', '', '', '', '', '', '', '', '', '', '', '', '', '', '', '', '', '', '', '', '', '', '', '', '', '', '', '', '', '', '', '', '', '', '', '', '', '', '', '', '', '', '', '', '', '', '', '', '', '', '', '', '', '', '', '', '', '', '', '', '', '', '', '', '', '', '', '', '', '', '', '', '', '', '', '', '', '', '', '', '', '', '', '', '', '', '', '', '', '', '', '', '', '', '', '', '', '', '', '', '', '', '', '', '', '', '', '', '', '', 'Campus', 'Location', '', '', '', '', '', '', '', '', '', '', '', '', '', '', '', '', '', '', '', '', '', '', '', '', '', '', '', '', '', '', '', '', '', '', '', '', '', '', '', '', '', '', '', '', '', '', '', '', '', '', '', '', '', '', '', '', '', '', '', '', '', '', '', '', '', '', '', '', '', '', '', '', '', '', '', '', '', '', '', '', '', '', '', '', '', '', '', '', '', '', '', '', '', '', '', '', '', '', '', '', '', '', '', '', '', '', '', '', '', '', '', '', '', '', '', '', '', '', '', '', '', '', '', '', '', '', '', '', '', '', '', '', '', '', '', '', '', '', '', '', 'Contact', 'CSE', '', '', '', '', '', '', '', '', '', '', '', '', '', '', '', '', '충청남도', '천안시', '동남구', '병천면', '충절로', '1600한국기술교육대학교', '컴퓨터공학부', '학과사무실', 'TEL', '(041)', '560', '1460', '~', '1461', 'FAX', '(041)', '560', '1462', '', '', '', '', '', '', '', '', '', '', '', '', '', '', '', '', '', '', '', '', '', '', '', '', '', '', '', '', '', '', '', '', '', '', '', '', '', 'Facebook', '', '', '', '', '', '', '', '', '', '', '', '', '', '', '', '', '', '', '', '', 'Twitter', '', '', '', '', '', '', '', '', '', '', '', '', '', '', '', '', '', '', '', '', 'Google', 'Plus', '', '', '', '', '', '', '', '', '', '', '', '', '', '', '', '', '', '', '', '', 'Linkedin-->', '', '', '', '', '', '', '', '', '', '', '', '', '', '', '', '', '', '', '', '', '', '', '', '', '', '', '', '', '', '', '', '', '', '', '', '', '', '', '', '', '', '', '', '', '', '', '', '', '', '', '', '', '', '', '', '', '', '', '', '', '', '', '', '', '', '', '', '', '', '', '', '', '', '', '', '', '', '', '', '', '', '', '', '', '', '', '', '', '', '', '', '', '', '', '', '', '', '', '', '', '(31253)', '충청남도', '천안시', '동남구', '병천면', '충절로', '1600', '(가전리,', '한국기술교육대학교)', '컴퓨터공학부', '', '', '', '', '', '', '', '', '', '', '', '', '', 'Copyright', '©', '2015.', 'All', 'rights', 'reserved', '', '', '', '', '', '', '', '', '', '', '', '', '', '', '', '', '', '', '', '', '', '', '']\n"
     ]
    }
   ],
   "source": [
    "p = l.split(' ')\n",
    "\n",
    "print(p)"
   ]
  },
  {
   "cell_type": "code",
   "execution_count": 25,
   "metadata": {},
   "outputs": [
    {
     "name": "stdout",
     "output_type": "stream",
     "text": [
      "총 단어의 개수 : 500\n"
     ]
    }
   ],
   "source": [
    "for x in range(len(p)):\n",
    "    if p[x]!='':\n",
    "        cnt=cnt+1\n",
    "print(\"총 단어의 개수 : {0}\" .format(cnt))"
   ]
  },
  {
   "cell_type": "markdown",
   "metadata": {},
   "source": [
    "---\n",
    "우선 괄호검사를 위해 source의 문자를 모두 보면서 '<'면 check가 1이되고 '>'면 check가 0이되게한다.  \n",
    "그리고 x가 0이 '<'가 아니고 check가 0이면 그 값을 리스트 p에 append해준다.  \n",
    "list p를 ''.join(p)를 써서 문자열로 바꾼 후 replace를 이용해 공백문자들을 통일시켜준다.  \n",
    "그리고 문자열을 다시 split을 써서 공백대로 list로 만든다.  \n",
    "마지막으로 list p에 공백이 아닌 단어가 나올 때마다 cnt가 1씩 증가하게해서 총 단어의 개수를 구한다. \n",
    "\n",
    "---"
   ]
  },
  {
   "cell_type": "markdown",
   "metadata": {},
   "source": [
    "\n",
    "### 느낀점\n",
    "\n",
    "---\n",
    "이번 과제를 하기 전에는 이번엔 진짜 어렵겠다고 생각되었는데, 막상 해보니 그래도 아직은 할만하다는 생각이 들게되었습니다.\n",
    "파이썬이 확실히 다른 언어를 공부할 때보다는 더 재밌게 배우게 된다는 것을 느꼈습니다.\n",
    "\n",
    "---"
   ]
  }
 ],
 "metadata": {
  "kernelspec": {
   "display_name": "Python 3",
   "language": "python",
   "name": "python3"
  }
 },
 "nbformat": 4,
 "nbformat_minor": 2
}
